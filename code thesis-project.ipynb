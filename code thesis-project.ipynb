{
 "cells": [
  {
   "cell_type": "markdown",
   "metadata": {},
   "source": [
    "# Using Machine Learning techniques to build predictive models using open ended survey data"
   ]
  },
  {
   "cell_type": "markdown",
   "metadata": {
    "toc": true
   },
   "source": [
    "<h1>Table of Contents<span class=\"tocSkip\"></span></h1>\n",
    "<div class=\"toc\"><ul class=\"toc-item\"><li><span><a href=\"#Using-Machine-Learning-techniques-to-build-predictive-models-using-open-ended-survey-data\" data-toc-modified-id=\"Using-Machine-Learning-techniques-to-build-predictive-models-using-open-ended-survey-data-0\">Using Machine Learning techniques to build predictive models using open ended survey data</a></span></li><li><span><a href=\"#0.-importing-libraries-and-setting-up-data\" data-toc-modified-id=\"0.-importing-libraries-and-setting-up-data-1\">0. importing libraries and setting up data</a></span></li><li><span><a href=\"#Class-to-perform-the-different-kinds-of-CV\" data-toc-modified-id=\"Class-to-perform-the-different-kinds-of-CV-2\">Class to perform the different kinds of CV</a></span></li><li><span><a href=\"#1.--Modelling-using-pre-coded-features\" data-toc-modified-id=\"1.--Modelling-using-pre-coded-features-3\">1.  Modelling using pre-coded features</a></span><ul class=\"toc-item\"><li><span><a href=\"#1.1-Naive-bayes\" data-toc-modified-id=\"1.1-Naive-bayes-3.1\">1.1 Naive bayes</a></span><ul class=\"toc-item\"><li><span><a href=\"#1.1.2--Multinomial-Naive-Bayes\" data-toc-modified-id=\"1.1.2--Multinomial-Naive-Bayes-3.1.1\">1.1.2  Multinomial Naive Bayes</a></span></li><li><span><a href=\"#1.1.3-Complement-Naive-Bayes\" data-toc-modified-id=\"1.1.3-Complement-Naive-Bayes-3.1.2\">1.1.3 Complement Naive Bayes</a></span></li></ul></li><li><span><a href=\"#1.2-Random-Forest\" data-toc-modified-id=\"1.2-Random-Forest-3.2\">1.2 Random Forest</a></span><ul class=\"toc-item\"><li><span><a href=\"#1.2.1-Default-RF\" data-toc-modified-id=\"1.2.1-Default-RF-3.2.1\">1.2.1 Default RF</a></span></li><li><span><a href=\"#1.2.2-Tuned-RF\" data-toc-modified-id=\"1.2.2-Tuned-RF-3.2.2\">1.2.2 Tuned RF</a></span></li></ul></li><li><span><a href=\"#1.3-XGBoost-classifier\" data-toc-modified-id=\"1.3-XGBoost-classifier-3.3\">1.3 XGBoost classifier</a></span><ul class=\"toc-item\"><li><span><a href=\"#1.3.1-Default-XGBoost\" data-toc-modified-id=\"1.3.1-Default-XGBoost-3.3.1\">1.3.1 Default XGBoost</a></span></li><li><span><a href=\"#1.3.2-Tuned-XGBoost\" data-toc-modified-id=\"1.3.2-Tuned-XGBoost-3.3.2\">1.3.2 Tuned XGBoost</a></span></li></ul></li></ul></li><li><span><a href=\"#2.-Modelling-using-topic-models\" data-toc-modified-id=\"2.-Modelling-using-topic-models-4\">2. Modelling using topic models</a></span><ul class=\"toc-item\"><li><span><a href=\"#2.1-create-dataset\" data-toc-modified-id=\"2.1-create-dataset-4.1\">2.1 create dataset</a></span></li><li><span><a href=\"#2.2-Clean-data\" data-toc-modified-id=\"2.2-Clean-data-4.2\">2.2 Clean data</a></span><ul class=\"toc-item\"><li><span><a href=\"#2.2.1-Remove-punctuation,-numbers-and-non-alphabetic-characters\" data-toc-modified-id=\"2.2.1-Remove-punctuation,-numbers-and-non-alphabetic-characters-4.2.1\">2.2.1 Remove punctuation, numbers and non alphabetic characters</a></span></li><li><span><a href=\"#2.2.2-Remove-stopwords\" data-toc-modified-id=\"2.2.2-Remove-stopwords-4.2.2\">2.2.2 Remove stopwords</a></span></li><li><span><a href=\"#2.2.3-Lemmatizing\" data-toc-modified-id=\"2.2.3-Lemmatizing-4.2.3\">2.2.3 Lemmatizing</a></span></li></ul></li><li><span><a href=\"#2.3-Inspect-and-visualize-most-occuring-words\" data-toc-modified-id=\"2.3-Inspect-and-visualize-most-occuring-words-4.3\">2.3 Inspect and visualize most occuring words</a></span></li><li><span><a href=\"#2.4-Latent-Semantic-Analysis-(LSA)\" data-toc-modified-id=\"2.4-Latent-Semantic-Analysis-(LSA)-4.4\">2.4 Latent Semantic Analysis (LSA)</a></span><ul class=\"toc-item\"><li><span><a href=\"#2.4.1-Find-number-of-topics-with-best-coherence-score\" data-toc-modified-id=\"2.4.1-Find-number-of-topics-with-best-coherence-score-4.4.1\">2.4.1 Find number of topics with best coherence score</a></span></li><li><span><a href=\"#2.4.2-Naive-bayes-with-BOW\" data-toc-modified-id=\"2.4.2-Naive-bayes-with-BOW-4.4.2\">2.4.2 Naive bayes with BOW</a></span></li><li><span><a href=\"#2.4.3-Random-Forest-with-BOW\" data-toc-modified-id=\"2.4.3-Random-Forest-with-BOW-4.4.3\">2.4.3 Random Forest with BOW</a></span></li><li><span><a href=\"#2.4.4-XGBoost-with-BOW\" data-toc-modified-id=\"2.4.4-XGBoost-with-BOW-4.4.4\">2.4.4 XGBoost with BOW</a></span></li><li><span><a href=\"#2.4.5-Naive-bayes-with-tfidf\" data-toc-modified-id=\"2.4.5-Naive-bayes-with-tfidf-4.4.5\">2.4.5 Naive bayes with tfidf</a></span></li><li><span><a href=\"#2.4.6-RF-with-TF-IDF\" data-toc-modified-id=\"2.4.6-RF-with-TF-IDF-4.4.6\">2.4.6 RF with TF-IDF</a></span></li><li><span><a href=\"#2.4.7-XGBOOST-with-TF-IDF\" data-toc-modified-id=\"2.4.7-XGBOOST-with-TF-IDF-4.4.7\">2.4.7 XGBOOST with TF-IDF</a></span></li></ul></li><li><span><a href=\"#2.5-Latent-Dirichlet-Allocation-(LDA)\" data-toc-modified-id=\"2.5-Latent-Dirichlet-Allocation-(LDA)-4.5\">2.5 Latent Dirichlet Allocation (LDA)</a></span><ul class=\"toc-item\"><li><span><a href=\"#2.5.1-Naive-bayes-with-BOW\" data-toc-modified-id=\"2.5.1-Naive-bayes-with-BOW-4.5.1\">2.5.1 Naive bayes with BOW</a></span></li><li><span><a href=\"#2.5.2-Random-forest-with-BOW\" data-toc-modified-id=\"2.5.2-Random-forest-with-BOW-4.5.2\">2.5.2 Random forest with BOW</a></span></li><li><span><a href=\"#2.5.3-XGBOOST-with-BOW\" data-toc-modified-id=\"2.5.3-XGBOOST-with-BOW-4.5.3\">2.5.3 XGBOOST with BOW</a></span></li><li><span><a href=\"#2.5.4-naive-bayes-with-TFIDF\" data-toc-modified-id=\"2.5.4-naive-bayes-with-TFIDF-4.5.4\">2.5.4 naive bayes with TFIDF</a></span></li><li><span><a href=\"#2.5.5-Random-Forest-with-TF-IDF\" data-toc-modified-id=\"2.5.5-Random-Forest-with-TF-IDF-4.5.5\">2.5.5 Random Forest with TF-IDF</a></span></li><li><span><a href=\"#2.5.6-XGBOOST-with-TF-IDF\" data-toc-modified-id=\"2.5.6-XGBOOST-with-TF-IDF-4.5.6\">2.5.6 XGBOOST with TF-IDF</a></span></li></ul></li></ul></li><li><span><a href=\"#3.-Interpretation-of-topics\" data-toc-modified-id=\"3.-Interpretation-of-topics-5\">3. Interpretation of topics</a></span><ul class=\"toc-item\"><li><span><a href=\"#3.1-best-overall-model:-Random-Forest-(LSA-&amp;-TF-IDF)\" data-toc-modified-id=\"3.1-best-overall-model:-Random-Forest-(LSA-&amp;-TF-IDF)-5.1\">3.1 best overall model: Random Forest (LSA &amp; TF-IDF)</a></span><ul class=\"toc-item\"><li><span><a href=\"#3.1.1-Performance-using-3-topics\" data-toc-modified-id=\"3.1.1-Performance-using-3-topics-5.1.1\">3.1.1 Performance using 3 topics</a></span></li><li><span><a href=\"#3.1.2-Performance-using-5-topics\" data-toc-modified-id=\"3.1.2-Performance-using-5-topics-5.1.2\">3.1.2 Performance using 5 topics</a></span></li></ul></li><li><span><a href=\"#3.2-Topics-with-best-LDA-model:-Random-Forest-with-TF-IDF\" data-toc-modified-id=\"3.2-Topics-with-best-LDA-model:-Random-Forest-with-TF-IDF-5.2\">3.2 Topics with best LDA model: Random Forest with TF-IDF</a></span></li></ul></li></ul></div>"
   ]
  },
  {
   "cell_type": "markdown",
   "metadata": {},
   "source": [
    "# 0. importing libraries and setting up data"
   ]
  },
  {
   "cell_type": "code",
   "execution_count": 1,
   "metadata": {},
   "outputs": [],
   "source": [
    "# data cleaning/manipulation, plotting\n",
    "import pandas as pd\n",
    "import numpy as np\n",
    "import matplotlib.pyplot as plt\n",
    "import seaborn as sns\n",
    "# modelling with sklearn \n",
    "from sklearn.metrics import hamming_loss\n",
    "from sklearn.metrics import f1_score\n",
    "from sklearn.metrics import accuracy_score\n",
    "from sklearn.metrics import precision_score\n",
    "from sklearn.metrics import recall_score\n",
    "from sklearn.naive_bayes import MultinomialNB \n",
    "from sklearn.naive_bayes import ComplementNB\n",
    "from sklearn.naive_bayes import GaussianNB\n",
    "from sklearn.ensemble import RandomForestClassifier\n",
    "from sklearn.pipeline import Pipeline\n",
    "from sklearn.multioutput import ClassifierChain\n",
    "from sklearn.model_selection import GridSearchCV\n",
    "from sklearn.model_selection import RandomizedSearchCV\n",
    "from iterstrat.ml_stratifiers import MultilabelStratifiedKFold\n",
    "from sklearn.metrics import multilabel_confusion_matrix\n",
    "from pprint import pprint\n",
    "# xgboost and tuning\n",
    "import xgboost as xgb\n",
    "from hyperopt import STATUS_OK, Trials, fmin, hp, tpe\n",
    "# packages for dealing with text\n",
    "from nltk.tokenize import word_tokenize\n",
    "from nltk.corpus import stopwords\n",
    "from wordcloud import WordCloud\n",
    "import spacy\n",
    "from gensim.models import CoherenceModel\n",
    "import gensim.corpora as corpora\n",
    "from gensim.utils import simple_preprocess\n",
    "from gensim.models import LsiModel\n",
    "from gensim.models import LdaModel\n",
    "from gensim.models import TfidfModel\n",
    "from sklearn.feature_extraction.text import CountVectorizer\n",
    "from sklearn.feature_extraction.text import TfidfVectorizer\n",
    "import re\n",
    "import string\n",
    "# topic models\n",
    "from sklearn.decomposition import TruncatedSVD\n",
    "from sklearn.decomposition import LatentDirichletAllocation"
   ]
  },
  {
   "cell_type": "code",
   "execution_count": 2,
   "metadata": {
    "scrolled": false
   },
   "outputs": [
    {
     "name": "stdout",
     "output_type": "stream",
     "text": [
      "(1479, 14)\n"
     ]
    },
    {
     "data": {
      "text/html": [
       "<div>\n",
       "<style scoped>\n",
       "    .dataframe tbody tr th:only-of-type {\n",
       "        vertical-align: middle;\n",
       "    }\n",
       "\n",
       "    .dataframe tbody tr th {\n",
       "        vertical-align: top;\n",
       "    }\n",
       "\n",
       "    .dataframe thead th {\n",
       "        text-align: right;\n",
       "    }\n",
       "</style>\n",
       "<table border=\"1\" class=\"dataframe\">\n",
       "  <thead>\n",
       "    <tr style=\"text-align: right;\">\n",
       "      <th></th>\n",
       "      <th>excl_mark</th>\n",
       "      <th>flooding</th>\n",
       "      <th>emoticons</th>\n",
       "      <th>capital_letters</th>\n",
       "      <th>total_positive</th>\n",
       "      <th>density_positive</th>\n",
       "      <th>Thank_Appreciation</th>\n",
       "      <th>Sollicit_future_visit</th>\n",
       "      <th>Positive_closing_wish</th>\n",
       "      <th>Express_positive_feeling</th>\n",
       "      <th>Compliment_as_motivator</th>\n",
       "      <th>Refer_compliment</th>\n",
       "      <th>Promote_facility_service_values</th>\n",
       "      <th>Express_hope</th>\n",
       "    </tr>\n",
       "  </thead>\n",
       "  <tbody>\n",
       "    <tr>\n",
       "      <th>0</th>\n",
       "      <td>0</td>\n",
       "      <td>0</td>\n",
       "      <td>0</td>\n",
       "      <td>0</td>\n",
       "      <td>0</td>\n",
       "      <td>0</td>\n",
       "      <td>1.0</td>\n",
       "      <td>1.0</td>\n",
       "      <td>0.0</td>\n",
       "      <td>2.0</td>\n",
       "      <td>0.0</td>\n",
       "      <td>0.0</td>\n",
       "      <td>0.0</td>\n",
       "      <td>0.0</td>\n",
       "    </tr>\n",
       "    <tr>\n",
       "      <th>1</th>\n",
       "      <td>1</td>\n",
       "      <td>0</td>\n",
       "      <td>0</td>\n",
       "      <td>0</td>\n",
       "      <td>1</td>\n",
       "      <td>0,023255814</td>\n",
       "      <td>1.0</td>\n",
       "      <td>1.0</td>\n",
       "      <td>0.0</td>\n",
       "      <td>1.0</td>\n",
       "      <td>0.0</td>\n",
       "      <td>0.0</td>\n",
       "      <td>0.0</td>\n",
       "      <td>0.0</td>\n",
       "    </tr>\n",
       "    <tr>\n",
       "      <th>2</th>\n",
       "      <td>1</td>\n",
       "      <td>0</td>\n",
       "      <td>0</td>\n",
       "      <td>0</td>\n",
       "      <td>1</td>\n",
       "      <td>0,008130081</td>\n",
       "      <td>1.0</td>\n",
       "      <td>1.0</td>\n",
       "      <td>0.0</td>\n",
       "      <td>1.0</td>\n",
       "      <td>0.0</td>\n",
       "      <td>0.0</td>\n",
       "      <td>0.0</td>\n",
       "      <td>0.0</td>\n",
       "    </tr>\n",
       "    <tr>\n",
       "      <th>3</th>\n",
       "      <td>0</td>\n",
       "      <td>0</td>\n",
       "      <td>0</td>\n",
       "      <td>0</td>\n",
       "      <td>0</td>\n",
       "      <td>0</td>\n",
       "      <td>1.0</td>\n",
       "      <td>1.0</td>\n",
       "      <td>0.0</td>\n",
       "      <td>2.0</td>\n",
       "      <td>0.0</td>\n",
       "      <td>0.0</td>\n",
       "      <td>0.0</td>\n",
       "      <td>0.0</td>\n",
       "    </tr>\n",
       "    <tr>\n",
       "      <th>4</th>\n",
       "      <td>0</td>\n",
       "      <td>0</td>\n",
       "      <td>0</td>\n",
       "      <td>0</td>\n",
       "      <td>0</td>\n",
       "      <td>0</td>\n",
       "      <td>1.0</td>\n",
       "      <td>1.0</td>\n",
       "      <td>0.0</td>\n",
       "      <td>2.0</td>\n",
       "      <td>0.0</td>\n",
       "      <td>0.0</td>\n",
       "      <td>0.0</td>\n",
       "      <td>0.0</td>\n",
       "    </tr>\n",
       "  </tbody>\n",
       "</table>\n",
       "</div>"
      ],
      "text/plain": [
       "   excl_mark  flooding  emoticons  capital_letters  total_positive  \\\n",
       "0          0         0          0                0               0   \n",
       "1          1         0          0                0               1   \n",
       "2          1         0          0                0               1   \n",
       "3          0         0          0                0               0   \n",
       "4          0         0          0                0               0   \n",
       "\n",
       "  density_positive  Thank_Appreciation  Sollicit_future_visit  \\\n",
       "0                0                 1.0                    1.0   \n",
       "1      0,023255814                 1.0                    1.0   \n",
       "2      0,008130081                 1.0                    1.0   \n",
       "3                0                 1.0                    1.0   \n",
       "4                0                 1.0                    1.0   \n",
       "\n",
       "   Positive_closing_wish  Express_positive_feeling  Compliment_as_motivator  \\\n",
       "0                    0.0                       2.0                      0.0   \n",
       "1                    0.0                       1.0                      0.0   \n",
       "2                    0.0                       1.0                      0.0   \n",
       "3                    0.0                       2.0                      0.0   \n",
       "4                    0.0                       2.0                      0.0   \n",
       "\n",
       "   Refer_compliment  Promote_facility_service_values  Express_hope  \n",
       "0               0.0                              0.0           0.0  \n",
       "1               0.0                              0.0           0.0  \n",
       "2               0.0                              0.0           0.0  \n",
       "3               0.0                              0.0           0.0  \n",
       "4               0.0                              0.0           0.0  "
      ]
     },
     "execution_count": 2,
     "metadata": {},
     "output_type": "execute_result"
    }
   ],
   "source": [
    "# read data and rename columns\n",
    "df = pd.read_csv('APF_NF_N.csv', sep=';')\n",
    "df = df.rename(columns = {'excl_positive_TOTAL': 'excl_mark', 'flood_positive_TOTAL':'flooding', \n",
    "                         'emoticon_positive_TOTAL':'emoticons', 'caps_positive_TOTAL':'capital_letters', \n",
    "                         'APF_positive_TOTAL':'total_positive', 'APF_positive_DENSITY':'density_positive' })\n",
    "\n",
    "# select the relevant columns for model\n",
    "X_columns = ['excl_mark', 'flooding', 'emoticons', 'capital_letters',\n",
    "       'total_positive', 'density_positive']\n",
    "y_columns = ['Thank_Appreciation', 'Sollicit_future_visit',\n",
    "       'Positive_closing_wish', 'Express_positive_feeling',\n",
    "       'Compliment_as_motivator', 'Refer_compliment',\n",
    "       'Promote_facility_service_values', 'Express_hope']\n",
    "reviews = df.loc[:,X_columns + y_columns]\n",
    "\n",
    "# replace cells containing NA with 0 (NA here means that it is not present in review)\n",
    "reviews.fillna(0, inplace=True)\n",
    "print(reviews.shape)\n",
    "reviews.head()"
   ]
  },
  {
   "cell_type": "code",
   "execution_count": 3,
   "metadata": {
    "scrolled": true
   },
   "outputs": [],
   "source": [
    "# make density of type float\n",
    "reviews.density_positive = reviews.density_positive.apply(lambda x: re.sub(',', '.', x)).astype('float')"
   ]
  },
  {
   "cell_type": "code",
   "execution_count": 4,
   "metadata": {},
   "outputs": [],
   "source": [
    "# split the dataset in predictors and response dataset and transform to binary responses\n",
    "X = reviews.iloc[:,:5]\n",
    "Y = reviews.iloc[:,6:]\n",
    "Y[Y > 1] = 1\n",
    "Y = Y.astype(int)"
   ]
  },
  {
   "cell_type": "markdown",
   "metadata": {},
   "source": [
    "# Class to perform the different kinds of CV"
   ]
  },
  {
   "cell_type": "code",
   "execution_count": 6,
   "metadata": {},
   "outputs": [],
   "source": [
    "# class to evaluate the model (and perform nested CV)\n",
    "class Model_eval:\n",
    "    def __init__(self, X, Y, classifier, modelname, metrics):\n",
    "        self.X, self.Y, self.clf, self.name = X, Y, classifier, modelname\n",
    "        scores = {}\n",
    "        for metric in metrics:\n",
    "            scores[metric] = []\n",
    "        self.scores = scores\n",
    "        self.metrics = metrics\n",
    "    \n",
    "    def calculate_metrics(self, y_true, y_pred):\n",
    "            F1 = f1_score(y_true, y_pred, average='micro') * 100\n",
    "            recall = recall_score(y_true, y_pred, average='micro') * 100\n",
    "            precision = precision_score(y_true, y_pred, average='micro', zero_division=0) * 100\n",
    "            hamming = hamming_loss(y_true, y_pred) * 100\n",
    "            accuracy = accuracy_score(y_true, y_pred) * 100 \n",
    "            return F1, recall, precision, hamming, accuracy\n",
    "    \n",
    "    def perform_CV(self, splits=5):\n",
    "        print(50 * '-', '\\n')\n",
    "        print('Algorithm:', self.name)\n",
    "        print('    Folds:')\n",
    "\n",
    "        # define the outer loop\n",
    "        cv = MultilabelStratifiedKFold(n_splits=splits, shuffle=True, random_state=0)\n",
    "\n",
    "        # loop over the different folds (using the index provided by the outer cv function)\n",
    "        fold = 1\n",
    "        for train_idx, valid_idx in list(cv.split(self.X, self.Y)):\n",
    "            # fit the model on the training fold \n",
    "            self.clf.fit(self.X.iloc[train_idx,:], self.Y.iloc[train_idx,:]) \n",
    "            print()\n",
    "            print('     Fold:', fold)\n",
    "\n",
    "            # test performance of the model on the test fold\n",
    "            y_pred, y_true= self.clf.predict(self.X.iloc[valid_idx,:]), self.Y.iloc[valid_idx,:]\n",
    "            # add the performance metric to the scores\n",
    "            for metric, score in zip(self.metrics, self.calculate_metrics(y_true, y_pred)):\n",
    "                self.scores[metric].append(score)\n",
    "                if metric in self.metrics[:3]:\n",
    "                    print(f\"        {metric}: {self.scores[metric][-1]:.2f}%\")\n",
    "            fold += 1\n",
    "    \n",
    "\n",
    "        # print the average test score (of the different metrics) of the algorithm (with std dev.)\n",
    "        print('\\n    Average over all folds:')\n",
    "        for metric, score in self.scores.items():\n",
    "            print(f'        {metric} {np.mean(score):.2f}% +/- {np.std(score):.2f}')\n",
    "            # make the container with scores empty \n",
    "            self.scores[metric] = []\n",
    "        \n",
    "       \n",
    "    def perform_nested_CV(self, parameters, inner_splits = 3, outer_splits = 5, \n",
    "                          random=False, iterations=100, cm=False):\n",
    "            # make inner loop \n",
    "            inner_cv = MultilabelStratifiedKFold(n_splits=inner_splits, shuffle=True, random_state=0)\n",
    "\n",
    "            # make gridsearch objects (that will perform the CV search on the training fold of the outer loop)\n",
    "            if random:\n",
    "                gcv = RandomizedSearchCV(estimator = self.clf, \n",
    "                                         param_distributions = parameters,\n",
    "                                         scoring='f1_micro',\n",
    "                                         n_iter = iterations, \n",
    "                                         cv = inner_cv, \n",
    "                                         verbose=0, \n",
    "                                         n_jobs = -1)\n",
    "            \n",
    "            \n",
    "            else:\n",
    "                gcv = GridSearchCV(estimator=self.clf,\n",
    "                                   param_grid=parameters,\n",
    "                                   scoring='f1_micro',\n",
    "                                   n_jobs=-1,\n",
    "                                   cv=inner_cv,\n",
    "                                   verbose=0)\n",
    "            \n",
    "            # make the outer folds\n",
    "            print(50 * '-', '\\n')\n",
    "            print('Algorithm:', self.name)\n",
    "            print('    Inner loop:')\n",
    "            \n",
    "            # define the outer loop\n",
    "            outer_cv = MultilabelStratifiedKFold(n_splits=outer_splits, shuffle=True, random_state=0)\n",
    "\n",
    "            # loop over the different outer folds \n",
    "            fold=1\n",
    "            for train_idx, test_idx in list(outer_cv.split(self.X, self.Y)):\n",
    "                # fit the gridsearch object on the training fold\n",
    "                # it will split it again in folds and perform a gridsearchCV determening the best parameters\n",
    "                gcv.fit(self.X.iloc[train_idx,:], self.Y.iloc[train_idx,:])\n",
    "                print('Fold', fold)\n",
    "                print(f'\\n        Best Micro F1 score (inner test folds): {gcv.best_score_ * 100:.2f}%')\n",
    "                print('        Best parameters:', gcv.best_params_)\n",
    "\n",
    "                # test performance of best tuned model on the outer loop test fold\n",
    "                # and store the performance\n",
    "                y_pred, y_true = gcv.best_estimator_.predict(self.X.iloc[test_idx,:]), self.Y.iloc[test_idx,:]\n",
    "                for metric, score in zip(self.metrics, self.calculate_metrics(y_true, y_pred)):\n",
    "                    self.scores[metric].append(score)\n",
    "                    if metric in metrics[:3]:\n",
    "                        print(f\"        {metric} (on outer loop): {self.scores[metric][-1]:.2f}%\")\n",
    "                if cm:\n",
    "                    pprint(multilabel_confusion_matrix(y_true, y_pred))\n",
    "                fold += 1\n",
    "            \n",
    "            # print the average performance of the procedure on the test folds\n",
    "            # and print its stability\n",
    "            print('\\n    Average over all folds:')\n",
    "            for metric, score in self.scores.items():\n",
    "                print(f'        {metric} {np.mean(score):.2f}% +/- {np.std(score):.2f}')\n",
    "                self.scores[metric] = []\n",
    "    \n",
    "    def perform_bayesian_opt_pre(self, space, max_evals=20, lda=False,lsa=False,\n",
    "                                 inner_splits=2,outer_splits=3, cm=False):\n",
    "        # define a function that will perform bayesian optimization and returns the best hyperparameters found \n",
    "        def perform_bayes_opt(X_train, Y_train, X_val, Y_val, space, max_evals, lda, lsa):\n",
    "    # perform bayesian optimization (hyperopt) to find the best hyperparameters using the train and validation fold\n",
    "    # define objective function. Metric to be optimized is the F1 score \n",
    "            def objective(space):\n",
    "                clf=ClassifierChain(\n",
    "                    xgb.XGBClassifier(\n",
    "                        n_estimators=int(space['n_estimators']), max_depth=int(space['max_depth']), gamma=space['gamma'],\n",
    "                        scale_pos_weight=space['scale_pos_weight'], colsample_bytree=space['colsample_bytree'],\n",
    "                        learning_rate=space['learning_rate'], min_child_weight=space['min_child_weight'], \n",
    "                        objective=\"binary:logistic\", eval_metric = 'aucpr', use_label_encoder=False))\n",
    "                # if no topic model, just fit the xgboost classifier\n",
    "                if lda == False and lsa == False:\n",
    "                    clf.fit(X_train, Y_train)\n",
    "                    pred = clf.predict(X_val)\n",
    "                    f1 = f1_score(Y_val, pred, average='micro')\n",
    "                    return {'loss':-f1, 'status':STATUS_OK}\n",
    "               # else fit a pipeline that extracts the topics and uses them as predictors \n",
    "                else:\n",
    "                    if lda:\n",
    "                        topic_model = LatentDirichletAllocation(n_components = int(space['n_components']), \n",
    "                                                                max_iter=100, random_state=0)\n",
    "                    else:\n",
    "                        topic_model = TruncatedSVD(n_components = int(space['n_components']), \n",
    "                                                   random_state=0, n_iter=100)\n",
    "                \n",
    "                pipe = Pipeline([('svd', topic_model),\n",
    "                                ('classifier', clf)])\n",
    "                \n",
    "                # fit on the inner training fold of the outer training fold\n",
    "                pipe.fit(X_train, Y_train)\n",
    "\n",
    "                # measure performance of the validation fold of the outer training fold\n",
    "                pred = pipe.predict(X_val)\n",
    "                f1 = f1_score(Y_val, pred, average='micro')\n",
    "                return {'loss': -f1, 'status': STATUS_OK }\n",
    "\n",
    "            trials = Trials()\n",
    "\n",
    "            best_hyperparams = fmin(fn = objective,\n",
    "                                    space = space,\n",
    "                                    algo = tpe.suggest,\n",
    "                                    max_evals = max_evals,\n",
    "                                    trials = trials)\n",
    "            best_hyperparams['max_depth'] = int(best_hyperparams['max_depth'])\n",
    "            best_hyperparams['n_estimators'] = int(best_hyperparams['n_estimators'])\n",
    "            if lda != False or lsa != False:\n",
    "                best_hyperparams['n_components'] = int(best_hyperparams['n_components'])\n",
    "            return best_hyperparams\n",
    "        # NESTED CROSS VALIDATION \n",
    "        # define two loops \n",
    "        inner_cv = MultilabelStratifiedKFold(n_splits=inner_splits, shuffle=True, random_state=0)\n",
    "        outer_cv = MultilabelStratifiedKFold(n_splits=outer_splits, shuffle=True, random_state=0)\n",
    "\n",
    "        # loop over the outer folds\n",
    "        for train_idx, test_idx in list(outer_cv.split(self.X, self.Y)):\n",
    "\n",
    "            # make the inner training set \n",
    "            X_train = self.X.iloc[train_idx, :]\n",
    "            Y_train = self.Y.iloc[train_idx, :]\n",
    "\n",
    "            # make list to capture best parameters\n",
    "            inner_scores = {}\n",
    "\n",
    "            # split the inner trainig set into a training and validation fold for tuning\n",
    "            for training_idx, valid_idx in list(inner_cv.split(X_train, Y_train)):\n",
    "                # perform bayesian optimization\n",
    "                best_hyperparams = perform_bayes_opt(X_train.iloc[training_idx, :],\n",
    "                                                      Y_train.iloc[training_idx,:],\n",
    "                                                      X_train.iloc[valid_idx,:],\n",
    "                                                      Y_train.iloc[valid_idx,:],\n",
    "                                                      space,\n",
    "                                                      max_evals,\n",
    "                                                      lda,\n",
    "                                                      lsa)\n",
    "                if lda or lsa:\n",
    "                    n_components = best_hyperparams.pop('n_components')\n",
    "                # get performance of these hyperparameters, to store the best ones\n",
    "                clf = ClassifierChain(xgb.XGBClassifier(random_state=0, objective = 'binary:logistic', \n",
    "                                                        eval_metric='aucpr', \n",
    "                                                          use_label_encoder=False, **best_hyperparams))\n",
    "                \n",
    "                if lda == False and lsa == False:\n",
    "                    clf.fit(X_train.iloc[training_idx,:], Y_train.iloc[training_idx,:])\n",
    "                    pred = clf.predict(X_train.iloc[valid_idx, :])\n",
    "                else:\n",
    "                    if lda:\n",
    "                        topic_model = LatentDirichletAllocation(n_components = int(n_components),\n",
    "                                                                max_iter=100, random_state=0)\n",
    "                    else:\n",
    "                        topic_model = TruncatedSVD(n_components = int(n_components), \n",
    "                                                   random_state=0, n_iter=100)\n",
    "                    pipe = Pipeline([('svd', topic_model),\n",
    "                                     ('classifier', clf)])\n",
    "                    pipe.fit(X_train.iloc[training_idx,:], Y_train.iloc[training_idx,:])\n",
    "                    pred = pipe.predict(X_train.iloc[valid_idx, :])\n",
    "                    best_hyperparams['n_components'] = n_components\n",
    "                f1 = f1_score(Y_train.iloc[valid_idx,:], pred, average='micro')\n",
    "                print('Score on inner loop', f1, '\\n', best_hyperparams)\n",
    "                print()\n",
    "                inner_scores[f1] = best_hyperparams \n",
    "\n",
    "            # determine the best parameters\n",
    "            parameters = inner_scores[max(inner_scores.keys())]\n",
    "            print('Best hyperparameters found in inner loop')\n",
    "            print(parameters)\n",
    "            print()\n",
    "            if lda != False or lsa != False:\n",
    "                n_components = parameters.pop('n_components')\n",
    "            # fit a model with the best hyperparameters found in the inner loop with CV \n",
    "            clf = ClassifierChain(\n",
    "                    xgb.XGBClassifier(random_state=0, objective = 'binary:logistic', eval_metric='aucpr', \n",
    "                                      use_label_encoder=False, \n",
    "                                  **parameters))\n",
    "            \n",
    "            if lda == False and lsa == False:\n",
    "                clf.fit(X_train, Y_train)\n",
    "                pred = clf.predict(self.X.iloc[test_idx,:])\n",
    "            else:\n",
    "                if lda:\n",
    "                    topic_model = LatentDirichletAllocation(n_components = int(n_components), max_iter=100, random_state=0)\n",
    "                else:\n",
    "                    topic_model = TruncatedSVD(n_components = int(n_components), random_state=0, n_iter=100)\n",
    "                pipe = Pipeline([('svd', topic_model),\n",
    "                                 ('classifier', clf)])\n",
    "                # fit the model on the entire training fold\n",
    "                pipe.fit(X_train, Y_train)\n",
    "                pred = pipe.predict(self.X.iloc[test_idx,:])\n",
    "\n",
    "            # test performance of the model on the test fold and store performance\n",
    "            print()\n",
    "            print('Performance on the outer test fold:')\n",
    "            y_pred, y_true = pred, self.Y.iloc[test_idx,:]\n",
    "            for metric, score in zip(self.metrics, self.calculate_metrics(y_true, y_pred)):\n",
    "                    self.scores[metric] = self.scores.get(metric, []) + [score]\n",
    "                    if metric in self.metrics[:3]:\n",
    "                        print(f\"        {metric} (on outer loop): {self.scores[metric][-1]:.2f}%\")\n",
    "            if cm:\n",
    "                pprint(multilabel_confusion_matrix(y_true, y_pred))\n",
    "            print()\n",
    "\n",
    "        # print the average performance of the procedure on the test folds\n",
    "        # and print its stability\n",
    "        print('\\n    Average over all folds:')\n",
    "        for metric, score in self.scores.items():\n",
    "            print(f'        {metric} {np.mean(score):.2f}% +/- {np.std(score):.2f}')\n",
    "            self.scores[metric] = []\n",
    "metrics = ['Micro F1', 'Micro Recall', 'Micro Precision', 'Hamming', 'Accuracy']"
   ]
  },
  {
   "cell_type": "markdown",
   "metadata": {},
   "source": [
    "Code for nested CV based on code from Sebastian Raschka\n",
    "https://github.com/rasbt/stat451-machine-learning-fs20/blob/master/L11/code/11-eval4-algo__nested-cv_verbose1.ipynb"
   ]
  },
  {
   "cell_type": "markdown",
   "metadata": {},
   "source": [
    "# 1.  Modelling using pre-coded features"
   ]
  },
  {
   "cell_type": "markdown",
   "metadata": {},
   "source": [
    "## 1.1 Naive bayes"
   ]
  },
  {
   "cell_type": "markdown",
   "metadata": {},
   "source": [
    "### 1.1.2  Multinomial Naive Bayes"
   ]
  },
  {
   "cell_type": "markdown",
   "metadata": {},
   "source": [
    "For these algorithms there are not really important tuning parameters so no nested CV is necessary. Instead a normal CV is used on the entire dataset"
   ]
  },
  {
   "cell_type": "code",
   "execution_count": 38,
   "metadata": {
    "collapsed": true
   },
   "outputs": [
    {
     "name": "stdout",
     "output_type": "stream",
     "text": [
      "-------------------------------------------------- \n",
      "\n",
      "Algorithm: Multinomial Naive Bayes\n",
      "    Folds:\n",
      "\n",
      "     Fold: 1\n",
      "        Micro F1: 0.00%\n",
      "        Micro Recall: 0.00%\n",
      "        Micro Precision: 0.00%\n",
      "\n",
      "     Fold: 2\n",
      "        Micro F1: 0.60%\n",
      "        Micro Recall: 0.30%\n",
      "        Micro Precision: 100.00%\n",
      "\n",
      "     Fold: 3\n",
      "        Micro F1: 0.60%\n",
      "        Micro Recall: 0.30%\n",
      "        Micro Precision: 20.00%\n",
      "\n",
      "     Fold: 4\n",
      "        Micro F1: 2.37%\n",
      "        Micro Recall: 1.21%\n",
      "        Micro Precision: 57.14%\n",
      "\n",
      "     Fold: 5\n",
      "        Micro F1: 1.79%\n",
      "        Micro Recall: 0.90%\n",
      "        Micro Precision: 100.00%\n",
      "\n",
      "    Average over all folds:\n",
      "        Micro F1 1.07% +/- 0.87\n",
      "        Micro Recall 0.54% +/- 0.44\n",
      "        Micro Precision 55.43% +/- 40.75\n",
      "        Hamming 13.99% +/- 0.07\n",
      "        Accuracy 64.03% +/- 0.49\n"
     ]
    },
    {
     "name": "stderr",
     "output_type": "stream",
     "text": [
      "C:\\Users\\DB Accountancy\\anaconda3\\lib\\site-packages\\sklearn\\utils\\validation.py:67: FutureWarning: Pass shuffle=True, random_state=0 as keyword args. From version 0.25 passing these as positional arguments will result in an error\n",
      "  warnings.warn(\"Pass {} as keyword args. From version 0.25 \"\n"
     ]
    }
   ],
   "source": [
    "MNB = Model_eval(X, Y, \n",
    "                 ClassifierChain(MultinomialNB(), order = 'random', random_state=0), \n",
    "                 'Multinomial Naive Bayes', metrics)\n",
    "MNB.perform_CV()"
   ]
  },
  {
   "cell_type": "markdown",
   "metadata": {},
   "source": [
    "### 1.1.3 Complement Naive Bayes"
   ]
  },
  {
   "cell_type": "code",
   "execution_count": 6,
   "metadata": {
    "scrolled": true
   },
   "outputs": [
    {
     "name": "stdout",
     "output_type": "stream",
     "text": [
      "-------------------------------------------------- \n",
      "\n",
      "Algorithm: Multinomial Naive Bayes\n",
      "    Folds:\n",
      "\n",
      "     Fold: 1\n",
      "        Micro F1: 29.26%"
     ]
    },
    {
     "name": "stderr",
     "output_type": "stream",
     "text": [
      "C:\\Users\\DB Accountancy\\anaconda3\\lib\\site-packages\\sklearn\\utils\\validation.py:67: FutureWarning: Pass shuffle=True, random_state=0 as keyword args. From version 0.25 passing these as positional arguments will result in an error\n",
      "  warnings.warn(\"Pass {} as keyword args. From version 0.25 \"\n"
     ]
    },
    {
     "name": "stdout",
     "output_type": "stream",
     "text": [
      "\n",
      "        Micro Recall: 25.53%\n",
      "        Micro Precision: 34.27%\n",
      "\n",
      "     Fold: 2\n",
      "        Micro F1: 10.13%\n",
      "        Micro Recall: 6.02%\n",
      "        Micro Precision: 31.75%\n",
      "\n",
      "     Fold: 3\n",
      "        Micro F1: 6.15%\n",
      "        Micro Recall: 3.65%\n",
      "        Micro Precision: 19.67%\n",
      "\n",
      "     Fold: 4\n",
      "        Micro F1: 6.81%\n",
      "        Micro Recall: 3.94%\n",
      "        Micro Precision: 25.00%\n",
      "\n",
      "     Fold: 5\n",
      "        Micro F1: 13.10%\n",
      "        Micro Recall: 7.81%\n",
      "        Micro Precision: 40.62%\n",
      "\n",
      "    Average over all folds:\n",
      "        Micro F1 13.09% +/- 8.46\n",
      "        Micro Recall 9.39% +/- 8.21\n",
      "        Micro Precision 30.26% +/- 7.29\n",
      "        Hamming 15.49% +/- 0.98\n",
      "        Accuracy 62.14% +/- 1.72\n"
     ]
    }
   ],
   "source": [
    "CNB = Model_eval(X, Y, \n",
    "                 ClassifierChain(ComplementNB(), order = 'random', random_state=0),\n",
    "                 'Multinomial Naive Bayes',\n",
    "                 metrics)\n",
    "CNB.perform_CV()"
   ]
  },
  {
   "cell_type": "markdown",
   "metadata": {},
   "source": [
    "## 1.2 Random Forest"
   ]
  },
  {
   "cell_type": "markdown",
   "metadata": {},
   "source": [
    "### 1.2.1 Default RF"
   ]
  },
  {
   "cell_type": "code",
   "execution_count": 8,
   "metadata": {},
   "outputs": [],
   "source": [
    "RF = Model_eval(X, Y, \n",
    "                RandomForestClassifier(random_state=0), \n",
    "                'Random forest', \n",
    "               metrics)"
   ]
  },
  {
   "cell_type": "code",
   "execution_count": 9,
   "metadata": {
    "scrolled": true
   },
   "outputs": [
    {
     "name": "stdout",
     "output_type": "stream",
     "text": [
      "-------------------------------------------------- \n",
      "\n",
      "Algorithm: Random forest\n",
      "    Folds:\n"
     ]
    },
    {
     "name": "stderr",
     "output_type": "stream",
     "text": [
      "C:\\Users\\DB Accountancy\\anaconda3\\lib\\site-packages\\sklearn\\utils\\validation.py:67: FutureWarning: Pass shuffle=True, random_state=0 as keyword args. From version 0.25 passing these as positional arguments will result in an error\n",
      "  warnings.warn(\"Pass {} as keyword args. From version 0.25 \"\n"
     ]
    },
    {
     "name": "stdout",
     "output_type": "stream",
     "text": [
      "\n",
      "     Fold: 1\n",
      "        Micro F1: 36.60%\n",
      "        Micro Recall: 25.23%\n",
      "        Micro Precision: 66.67%\n",
      "\n",
      "     Fold: 2\n",
      "        Micro F1: 40.81%\n",
      "        Micro Recall: 30.42%\n",
      "        Micro Precision: 61.96%\n",
      "\n",
      "     Fold: 3\n",
      "        Micro F1: 38.11%\n",
      "        Micro Recall: 29.48%\n",
      "        Micro Precision: 53.89%\n",
      "\n",
      "     Fold: 4\n",
      "        Micro F1: 38.76%\n",
      "        Micro Recall: 28.48%\n",
      "        Micro Precision: 60.65%\n",
      "\n",
      "     Fold: 5\n",
      "        Micro F1: 41.72%\n",
      "        Micro Recall: 32.13%\n",
      "        Micro Precision: 59.44%\n",
      "\n",
      "    Average over all folds:\n",
      "        Micro F1 39.20% +/- 1.85\n",
      "        Micro Recall 29.15% +/- 2.30\n",
      "        Micro Precision 60.52% +/- 4.12\n",
      "        Hamming 12.64% +/- 0.38\n",
      "        Accuracy 63.56% +/- 0.97\n"
     ]
    }
   ],
   "source": [
    "RF.perform_CV()"
   ]
  },
  {
   "cell_type": "markdown",
   "metadata": {},
   "source": [
    "### 1.2.2 Tuned RF"
   ]
  },
  {
   "cell_type": "code",
   "execution_count": 6,
   "metadata": {},
   "outputs": [],
   "source": [
    "# initialize model \n",
    "RF_tuned = Model_eval(X, Y, \n",
    "                RandomForestClassifier(random_state=0), \n",
    "                'Random forest', \n",
    "               metrics)"
   ]
  },
  {
   "cell_type": "code",
   "execution_count": 17,
   "metadata": {},
   "outputs": [],
   "source": [
    "# make the parameter grid \n",
    "n_estimators = [100,200, 300, 400, 500, 800, 1000, 1500]\n",
    "max_depth = [2, 5, 10, 15, 20, 50, 70, 100] \n",
    "max_features = ['auto', 'log2']\n",
    "min_samples_split = [2, 3, 4, 5, 10, 15, 20]\n",
    "min_samples_leaf = [2, 3, 4 ,5, 10, 15, 20]\n",
    "weights = [[{0:0.32, 1:0.68}, {0:0.34, 1:0.66}, \n",
    "           {0:0.3, 1:0.7}, {0:0.33, 1:0.67}, \n",
    "           {0:0.3, 1:0.7}, {0:0.3, 1:0.7}, \n",
    "           {0:0.3, 1:0.7}, {0:0.3, 1:0.7}], \n",
    "           [{0:0.32, 1:0.68}, {0:0.34, 1:0.66}, \n",
    "           {0:0.4, 1:0.6}, {0:0.33, 1:0.67}, \n",
    "           {0:0.4, 1:0.6}, {0:0.4, 1:0.6}, \n",
    "           {0:0.4, 1:0.6}, {0:0.4, 1:0.6}],\n",
    "           [{0:0.32, 1:0.68}, {0:0.34, 1:0.66}, \n",
    "           {0:0.2, 1:0.8}, {0:0.33, 1:0.67}, \n",
    "           {0:0.2, 1:0.8}, {0:0.2, 1:0.8}, \n",
    "           {0:0.2, 1:0.8}, {0:0.2, 1:0.8}],\n",
    "           [{0:0.32, 1:0.68}, {0:0.34, 1:0.66}, \n",
    "           {0:0.1, 1:0.9}, {0:0.33, 1:0.67}, \n",
    "           {0:0.1, 1:0.9}, {0:0.1, 1:0.9}, \n",
    "           {0:0.1, 1:0.9}, {0:0.1, 1:0.9}],\n",
    "           [{0:0.32, 1:0.68}, {0:0.34, 1:0.66}, \n",
    "           {0:0.01, 1:0.99}, {0:0.33, 1:0.67}, \n",
    "           {0:0.01, 1:0.99}, {0:0.01, 1:0.99}, \n",
    "           {0:0.01, 1:0.99}, {0:0.01, 1:0.99}]]\n",
    "grid = {'n_estimators': n_estimators,\n",
    "        'max_features': max_features,\n",
    "        'max_depth': max_depth,\n",
    "        'min_samples_split': min_samples_split,\n",
    "        'min_samples_leaf': min_samples_leaf,\n",
    "        'class_weight': weights}\n"
   ]
  },
  {
   "cell_type": "code",
   "execution_count": null,
   "metadata": {},
   "outputs": [],
   "source": [
    "# perform random gridsearch\n",
    "RF_tuned.perform_nested_CV(grid, inner_splits=2, iterations = 100, random=True)"
   ]
  },
  {
   "cell_type": "code",
   "execution_count": 44,
   "metadata": {},
   "outputs": [],
   "source": [
    "# more specific grid \n",
    "n_estimators = [300, 500, 1000, 1500]\n",
    "max_depth = [5, 15, 50] \n",
    "min_samples_split = [3, 20]\n",
    "min_samples_leaf = [2, 3]\n",
    "weights = [[{0:0.32, 1:0.68}, {0:0.34, 1:0.66}, \n",
    "           {0:0.3, 1:0.7}, {0:0.33, 1:0.67}, \n",
    "           {0:0.3, 1:0.7}, {0:0.3, 1:0.7}, \n",
    "           {0:0.3, 1:0.7}, {0:0.3, 1:0.7}], \n",
    "           [{0:0.32, 1:0.68}, {0:0.34, 1:0.66}, \n",
    "           {0:0.4, 1:0.6}, {0:0.33, 1:0.67}, \n",
    "           {0:0.4, 1:0.6}, {0:0.4, 1:0.6}, \n",
    "           {0:0.4, 1:0.6}, {0:0.4, 1:0.6}],\n",
    "           [{0:0.32, 1:0.68}, {0:0.34, 1:0.66}, \n",
    "           {0:0.2, 1:0.8}, {0:0.33, 1:0.67}, \n",
    "           {0:0.2, 1:0.8}, {0:0.2, 1:0.8}, \n",
    "           {0:0.2, 1:0.8}, {0:0.2, 1:0.8}]]\n",
    "grid = {'n_estimators': n_estimators,\n",
    "        'max_depth': max_depth,\n",
    "        'min_samples_split': min_samples_split,\n",
    "        'min_samples_leaf': min_samples_leaf,\n",
    "       'class_weight': weights}"
   ]
  },
  {
   "cell_type": "code",
   "execution_count": 45,
   "metadata": {
    "scrolled": true
   },
   "outputs": [
    {
     "name": "stderr",
     "output_type": "stream",
     "text": [
      "C:\\Users\\DB Accountancy\\anaconda3\\lib\\site-packages\\sklearn\\utils\\validation.py:67: FutureWarning: Pass shuffle=True, random_state=0 as keyword args. From version 0.25 passing these as positional arguments will result in an error\n",
      "  warnings.warn(\"Pass {} as keyword args. From version 0.25 \"\n",
      "[Parallel(n_jobs=-1)]: Using backend LokyBackend with 8 concurrent workers.\n"
     ]
    },
    {
     "name": "stdout",
     "output_type": "stream",
     "text": [
      "-------------------------------------------------- \n",
      "\n",
      "Algorithm: Random forest\n",
      "    Inner loop:\n",
      "Fitting 3 folds for each of 144 candidates, totalling 432 fits\n"
     ]
    },
    {
     "name": "stderr",
     "output_type": "stream",
     "text": [
      "[Parallel(n_jobs=-1)]: Done  34 tasks      | elapsed:   21.8s\n",
      "[Parallel(n_jobs=-1)]: Done 184 tasks      | elapsed:  1.7min\n",
      "[Parallel(n_jobs=-1)]: Done 432 out of 432 | elapsed:  4.1min finished\n"
     ]
    },
    {
     "name": "stdout",
     "output_type": "stream",
     "text": [
      "\n",
      "        Best Micro F1 score (inner test folds): 48.37%\n",
      "        Best parameters: {'class_weight': [{0: 0.32, 1: 0.68}, {0: 0.34, 1: 0.66}, {0: 0.4, 1: 0.6}, {0: 0.33, 1: 0.67}, {0: 0.4, 1: 0.6}, {0: 0.4, 1: 0.6}, {0: 0.4, 1: 0.6}, {0: 0.4, 1: 0.6}], 'max_depth': 5, 'min_samples_leaf': 2, 'min_samples_split': 3, 'n_estimators': 1000}\n",
      "        Micro F1 (on outer loop): 48.44%\n",
      "        Micro Recall (on outer loop): 88.59%\n",
      "        Micro Precision (on outer loop): 33.33%\n",
      "Fitting 3 folds for each of 144 candidates, totalling 432 fits\n"
     ]
    },
    {
     "name": "stderr",
     "output_type": "stream",
     "text": [
      "[Parallel(n_jobs=-1)]: Using backend LokyBackend with 8 concurrent workers.\n",
      "[Parallel(n_jobs=-1)]: Done  34 tasks      | elapsed:   20.5s\n",
      "[Parallel(n_jobs=-1)]: Done 184 tasks      | elapsed:  1.8min\n",
      "[Parallel(n_jobs=-1)]: Done 432 out of 432 | elapsed:  4.2min finished\n"
     ]
    },
    {
     "name": "stdout",
     "output_type": "stream",
     "text": [
      "\n",
      "        Best Micro F1 score (inner test folds): 48.48%\n",
      "        Best parameters: {'class_weight': [{0: 0.32, 1: 0.68}, {0: 0.34, 1: 0.66}, {0: 0.3, 1: 0.7}, {0: 0.33, 1: 0.67}, {0: 0.3, 1: 0.7}, {0: 0.3, 1: 0.7}, {0: 0.3, 1: 0.7}, {0: 0.3, 1: 0.7}], 'max_depth': 5, 'min_samples_leaf': 2, 'min_samples_split': 20, 'n_estimators': 300}\n",
      "        Micro F1 (on outer loop): 47.99%\n",
      "        Micro Recall (on outer loop): 87.95%\n",
      "        Micro Precision (on outer loop): 32.99%\n",
      "Fitting 3 folds for each of 144 candidates, totalling 432 fits\n"
     ]
    },
    {
     "name": "stderr",
     "output_type": "stream",
     "text": [
      "[Parallel(n_jobs=-1)]: Using backend LokyBackend with 8 concurrent workers.\n",
      "[Parallel(n_jobs=-1)]: Done  34 tasks      | elapsed:   20.3s\n",
      "[Parallel(n_jobs=-1)]: Done 184 tasks      | elapsed:  1.8min\n",
      "[Parallel(n_jobs=-1)]: Done 432 out of 432 | elapsed:  4.2min finished\n"
     ]
    },
    {
     "name": "stdout",
     "output_type": "stream",
     "text": [
      "\n",
      "        Best Micro F1 score (inner test folds): 48.24%\n",
      "        Best parameters: {'class_weight': [{0: 0.32, 1: 0.68}, {0: 0.34, 1: 0.66}, {0: 0.3, 1: 0.7}, {0: 0.33, 1: 0.67}, {0: 0.3, 1: 0.7}, {0: 0.3, 1: 0.7}, {0: 0.3, 1: 0.7}, {0: 0.3, 1: 0.7}], 'max_depth': 5, 'min_samples_leaf': 3, 'min_samples_split': 20, 'n_estimators': 300}\n",
      "        Micro F1 (on outer loop): 48.30%\n",
      "        Micro Recall (on outer loop): 88.75%\n",
      "        Micro Precision (on outer loop): 33.18%\n",
      "Fitting 3 folds for each of 144 candidates, totalling 432 fits\n"
     ]
    },
    {
     "name": "stderr",
     "output_type": "stream",
     "text": [
      "[Parallel(n_jobs=-1)]: Using backend LokyBackend with 8 concurrent workers.\n",
      "[Parallel(n_jobs=-1)]: Done  34 tasks      | elapsed:   20.5s\n",
      "[Parallel(n_jobs=-1)]: Done 184 tasks      | elapsed:  1.8min\n",
      "[Parallel(n_jobs=-1)]: Done 432 out of 432 | elapsed:  4.2min finished\n"
     ]
    },
    {
     "name": "stdout",
     "output_type": "stream",
     "text": [
      "\n",
      "        Best Micro F1 score (inner test folds): 48.29%\n",
      "        Best parameters: {'class_weight': [{0: 0.32, 1: 0.68}, {0: 0.34, 1: 0.66}, {0: 0.3, 1: 0.7}, {0: 0.33, 1: 0.67}, {0: 0.3, 1: 0.7}, {0: 0.3, 1: 0.7}, {0: 0.3, 1: 0.7}, {0: 0.3, 1: 0.7}], 'max_depth': 15, 'min_samples_leaf': 2, 'min_samples_split': 3, 'n_estimators': 1500}\n",
      "        Micro F1 (on outer loop): 48.23%\n",
      "        Micro Recall (on outer loop): 88.79%\n",
      "        Micro Precision (on outer loop): 33.11%\n",
      "Fitting 3 folds for each of 144 candidates, totalling 432 fits\n"
     ]
    },
    {
     "name": "stderr",
     "output_type": "stream",
     "text": [
      "[Parallel(n_jobs=-1)]: Using backend LokyBackend with 8 concurrent workers.\n",
      "[Parallel(n_jobs=-1)]: Done  34 tasks      | elapsed:   20.1s\n",
      "[Parallel(n_jobs=-1)]: Done 184 tasks      | elapsed:  1.8min\n",
      "[Parallel(n_jobs=-1)]: Done 432 out of 432 | elapsed:  4.2min finished\n"
     ]
    },
    {
     "name": "stdout",
     "output_type": "stream",
     "text": [
      "\n",
      "        Best Micro F1 score (inner test folds): 48.28%\n",
      "        Best parameters: {'class_weight': [{0: 0.32, 1: 0.68}, {0: 0.34, 1: 0.66}, {0: 0.4, 1: 0.6}, {0: 0.33, 1: 0.67}, {0: 0.4, 1: 0.6}, {0: 0.4, 1: 0.6}, {0: 0.4, 1: 0.6}, {0: 0.4, 1: 0.6}], 'max_depth': 5, 'min_samples_leaf': 2, 'min_samples_split': 3, 'n_estimators': 300}\n",
      "        Micro F1 (on outer loop): 48.44%\n",
      "        Micro Recall (on outer loop): 88.59%\n",
      "        Micro Precision (on outer loop): 33.33%\n",
      "\n",
      "    Average over all folds:\n",
      "        Micro F1 48.28% +/- 0.17\n",
      "        Micro Recall 88.53% +/- 0.30\n",
      "        Micro Precision 33.19% +/- 0.13\n",
      "        Hamming 26.56% +/- 0.09\n",
      "        Accuracy 19.88% +/- 0.55\n"
     ]
    }
   ],
   "source": [
    "RF_tuned.perform_nested_CV(grid, inner_splits=3)"
   ]
  },
  {
   "cell_type": "markdown",
   "metadata": {},
   "source": [
    "## 1.3 XGBoost classifier"
   ]
  },
  {
   "cell_type": "code",
   "execution_count": 9,
   "metadata": {},
   "outputs": [],
   "source": [
    "XGB = Model_eval(X, Y, \n",
    "                      ClassifierChain(xgb.XGBClassifier(objective = \"binary:logistic\", eval_metric = 'aucpr', use_label_encoder=False, seed=0)),\n",
    "                      'xgboost',\n",
    "                      metrics)"
   ]
  },
  {
   "cell_type": "markdown",
   "metadata": {},
   "source": [
    "### 1.3.1 Default XGBoost"
   ]
  },
  {
   "cell_type": "code",
   "execution_count": 10,
   "metadata": {
    "scrolled": true
   },
   "outputs": [
    {
     "name": "stdout",
     "output_type": "stream",
     "text": [
      "-------------------------------------------------- \n",
      "\n",
      "Algorithm: xgboost\n",
      "    Folds:\n"
     ]
    },
    {
     "name": "stderr",
     "output_type": "stream",
     "text": [
      "C:\\Users\\DB Accountancy\\anaconda3\\lib\\site-packages\\sklearn\\utils\\validation.py:67: FutureWarning: Pass shuffle=True, random_state=0 as keyword args. From version 0.25 passing these as positional arguments will result in an error\n",
      "  warnings.warn(\"Pass {} as keyword args. From version 0.25 \"\n"
     ]
    },
    {
     "name": "stdout",
     "output_type": "stream",
     "text": [
      "\n",
      "     Fold: 1\n",
      "        Micro F1: 37.58%\n",
      "        Micro Recall: 26.13%\n",
      "        Micro Precision: 66.92%\n",
      "\n",
      "     Fold: 2\n",
      "        Micro F1: 39.75%\n",
      "        Micro Recall: 29.22%\n",
      "        Micro Precision: 62.18%\n",
      "\n",
      "     Fold: 3\n",
      "        Micro F1: 38.11%\n",
      "        Micro Recall: 29.48%\n",
      "        Micro Precision: 53.89%\n",
      "\n",
      "     Fold: 4\n",
      "        Micro F1: 38.33%\n",
      "        Micro Recall: 27.88%\n",
      "        Micro Precision: 61.33%\n",
      "\n",
      "     Fold: 5\n",
      "        Micro F1: 42.94%\n",
      "        Micro Recall: 33.33%\n",
      "        Micro Precision: 60.33%\n",
      "\n",
      "    Average over all folds:\n",
      "        Micro F1 39.34% +/- 1.94\n",
      "        Micro Recall 29.21% +/- 2.38\n",
      "        Micro Precision 60.93% +/- 4.19\n",
      "        Hamming 12.59% +/- 0.39\n",
      "        Accuracy 63.89% +/- 0.98\n"
     ]
    }
   ],
   "source": [
    "XGB.perform_CV()"
   ]
  },
  {
   "cell_type": "markdown",
   "metadata": {},
   "source": [
    "### 1.3.2 Tuned XGBoost"
   ]
  },
  {
   "cell_type": "code",
   "execution_count": 118,
   "metadata": {},
   "outputs": [],
   "source": [
    "# make class\n",
    "XGB = Model_eval(X, Y, \n",
    "                 ClassifierChain(xgb.XGBClassifier(objective = \"binary:logistic\", \n",
    "                                                   eval_metric = 'aucpr', use_label_encoder=False, seed=0)),\n",
    "                 'xgboost',\n",
    "                 metrics)\n",
    "# define parameter space to search\n",
    "space={ 'max_depth': hp.quniform(\"max_depth\", 2, 50, 1),\n",
    "        'gamma': hp.uniform ('gamma', 0,9),\n",
    "        'colsample_bytree' : hp.uniform('colsample_bytree', 0.5,1),\n",
    "        'scale_pos_weight' : hp.uniform('scale_pos_weight', 0,5),\n",
    "        'n_estimators': hp.quniform('n_estimators', 100,1000,50),\n",
    "        'learning_rate': hp.uniform('learning_rate', 0.001, 0.2),\n",
    "        'min_child_weight' : hp.quniform('min_child_weight', 0, 10, 1),\n",
    "        'seed': 0\n",
    "    }"
   ]
  },
  {
   "cell_type": "code",
   "execution_count": 35,
   "metadata": {
    "scrolled": true
   },
   "outputs": [
    {
     "name": "stdout",
     "output_type": "stream",
     "text": [
      "\r",
      "  0%|                                                                          | 0/100 [00:00<?, ?trial/s, best loss=?]"
     ]
    },
    {
     "name": "stderr",
     "output_type": "stream",
     "text": [
      "C:\\Users\\DB Accountancy\\anaconda3\\lib\\site-packages\\sklearn\\utils\\validation.py:67: FutureWarning: Pass shuffle=True, random_state=0 as keyword args. From version 0.25 passing these as positional arguments will result in an error\n",
      "  warnings.warn(\"Pass {} as keyword args. From version 0.25 \"\n"
     ]
    },
    {
     "name": "stdout",
     "output_type": "stream",
     "text": [
      "100%|████████████████████████████████████████████| 100/100 [04:45<00:00,  2.85s/trial, best loss: -0.48228346456692917]\n",
      "Score on inner loop 0.48228346456692917 \n",
      " {'colsample_bytree': 0.8636959072079329, 'gamma': 8.460133878646698, 'learning_rate': 0.08392143015662391, 'max_depth': 16, 'min_child_weight': 9.0, 'n_estimators': 450, 'scale_pos_weight': 3.679733621538283}\n",
      "\n",
      "100%|█████████████████████████████████████████████| 100/100 [04:51<00:00,  2.91s/trial, best loss: -0.4815361890694239]\n",
      "Score on inner loop 0.4815361890694239 \n",
      " {'colsample_bytree': 0.945506859391246, 'gamma': 4.573311675242717, 'learning_rate': 0.1268014363176787, 'max_depth': 31, 'min_child_weight': 0.0, 'n_estimators': 550, 'scale_pos_weight': 3.714244730958503}\n",
      "\n",
      "Best hyperparameters found in inner loop\n",
      "{'colsample_bytree': 0.8636959072079329, 'gamma': 8.460133878646698, 'learning_rate': 0.08392143015662391, 'max_depth': 16, 'min_child_weight': 9.0, 'n_estimators': 450, 'scale_pos_weight': 3.679733621538283}\n",
      "\n",
      "\n",
      "Performance on the outer test fold:\n",
      "        Micro F1 (on outer loop): 48.30%\n",
      "        Micro Recall (on outer loop): 88.63%\n",
      "        Micro Precision (on outer loop): 33.20%\n",
      "\n",
      "100%|████████████████████████████████████████████| 100/100 [04:50<00:00,  2.91s/trial, best loss: -0.48177339901477834]\n",
      "Score on inner loop 0.48177339901477834 \n",
      " {'colsample_bytree': 0.5154530545091307, 'gamma': 6.888718953743646, 'learning_rate': 0.004706638101762205, 'max_depth': 40, 'min_child_weight': 6.0, 'n_estimators': 600, 'scale_pos_weight': 2.8631243165472373}\n",
      "\n",
      "100%|█████████████████████████████████████████████| 100/100 [03:58<00:00,  2.39s/trial, best loss: -0.4827925270403146]\n",
      "Score on inner loop 0.4827925270403146 \n",
      " {'colsample_bytree': 0.7038689425522686, 'gamma': 4.954751891068028, 'learning_rate': 0.025738362235541486, 'max_depth': 35, 'min_child_weight': 0.0, 'n_estimators': 100, 'scale_pos_weight': 3.2581682316700507}\n",
      "\n",
      "Best hyperparameters found in inner loop\n",
      "{'colsample_bytree': 0.7038689425522686, 'gamma': 4.954751891068028, 'learning_rate': 0.025738362235541486, 'max_depth': 35, 'min_child_weight': 0.0, 'n_estimators': 100, 'scale_pos_weight': 3.2581682316700507}\n",
      "\n",
      "\n",
      "Performance on the outer test fold:\n",
      "        Micro F1 (on outer loop): 48.18%\n",
      "        Micro Recall (on outer loop): 88.75%\n",
      "        Micro Precision (on outer loop): 33.06%\n",
      "\n",
      "100%|████████████████████████████████████████████| 100/100 [02:27<00:00,  1.47s/trial, best loss: -0.48102513553474613]\n",
      "Score on inner loop 0.48102513553474613 \n",
      " {'colsample_bytree': 0.9288829294879981, 'gamma': 0.20302113698267202, 'learning_rate': 0.07603119259559607, 'max_depth': 49, 'min_child_weight': 8.0, 'n_estimators': 400, 'scale_pos_weight': 3.513517241769992}\n",
      "\n",
      "100%|████████████████████████████████████████████| 100/100 [03:36<00:00,  2.16s/trial, best loss: -0.48520710059171596]\n",
      "Score on inner loop 0.48520710059171596 \n",
      " {'colsample_bytree': 0.7151490739803468, 'gamma': 0.5365832263035154, 'learning_rate': 0.011534063836626699, 'max_depth': 44, 'min_child_weight': 2.0, 'n_estimators': 600, 'scale_pos_weight': 4.424918082371791}\n",
      "\n",
      "Best hyperparameters found in inner loop\n",
      "{'colsample_bytree': 0.7151490739803468, 'gamma': 0.5365832263035154, 'learning_rate': 0.011534063836626699, 'max_depth': 44, 'min_child_weight': 2.0, 'n_estimators': 600, 'scale_pos_weight': 4.424918082371791}\n",
      "\n",
      "\n",
      "Performance on the outer test fold:\n",
      "        Micro F1 (on outer loop): 47.67%\n",
      "        Micro Recall (on outer loop): 90.04%\n",
      "        Micro Precision (on outer loop): 32.42%\n",
      "\n",
      "\n",
      "    Average over all folds:\n",
      "        Micro F1 48.05% +/- 0.27\n",
      "        Micro Recall 89.14% +/- 0.64\n",
      "        Micro Precision 32.89% +/- 0.34\n",
      "        Hamming 26.99% +/- 0.47\n",
      "        Accuracy 19.27% +/- 0.92\n"
     ]
    }
   ],
   "source": [
    "# perform nested CV with bayes optimization\n",
    "XGB.perform_bayesian_opt_pre(space,max_evals=100)"
   ]
  },
  {
   "cell_type": "markdown",
   "metadata": {},
   "source": [
    "# 2. Modelling using topic models"
   ]
  },
  {
   "cell_type": "markdown",
   "metadata": {},
   "source": [
    "## 2.1 create dataset"
   ]
  },
  {
   "cell_type": "code",
   "execution_count": 7,
   "metadata": {},
   "outputs": [],
   "source": [
    "# delete rows with empty reviews\n",
    "index_NA = df[df.text_review.isnull().values].index\n",
    "df = df.drop(index=index_NA)"
   ]
  },
  {
   "cell_type": "code",
   "execution_count": 8,
   "metadata": {},
   "outputs": [
    {
     "data": {
      "text/plain": [
       "text_review    0\n",
       "dtype: int64"
      ]
     },
     "execution_count": 8,
     "metadata": {},
     "output_type": "execute_result"
    }
   ],
   "source": [
    "# select text columns from dataset \n",
    "body = pd.DataFrame(df.loc[:,'text_review'])\n",
    "body.isna().sum()"
   ]
  },
  {
   "cell_type": "code",
   "execution_count": 9,
   "metadata": {
    "scrolled": true
   },
   "outputs": [
    {
     "data": {
      "text/html": [
       "<div>\n",
       "<style scoped>\n",
       "    .dataframe tbody tr th:only-of-type {\n",
       "        vertical-align: middle;\n",
       "    }\n",
       "\n",
       "    .dataframe tbody tr th {\n",
       "        vertical-align: top;\n",
       "    }\n",
       "\n",
       "    .dataframe thead th {\n",
       "        text-align: right;\n",
       "    }\n",
       "</style>\n",
       "<table border=\"1\" class=\"dataframe\">\n",
       "  <thead>\n",
       "    <tr style=\"text-align: right;\">\n",
       "      <th></th>\n",
       "      <th>text_review</th>\n",
       "    </tr>\n",
       "  </thead>\n",
       "  <tbody>\n",
       "    <tr>\n",
       "      <th>0</th>\n",
       "      <td>(+) Goede kamer, goed bed, inloopdouche fijn v...</td>\n",
       "    </tr>\n",
       "    <tr>\n",
       "      <th>1</th>\n",
       "      <td>(+) Zeer uitgebreid ontbijt en lekker!</td>\n",
       "    </tr>\n",
       "    <tr>\n",
       "      <th>2</th>\n",
       "      <td>\"(+) De hygiëne en de inrichting van de kamers...</td>\n",
       "    </tr>\n",
       "    <tr>\n",
       "      <th>3</th>\n",
       "      <td>(+) Goede bedden, makkelijk bereikbaar vanaf s...</td>\n",
       "    </tr>\n",
       "    <tr>\n",
       "      <th>4</th>\n",
       "      <td>(+) Heerlijk bed. Veel TV kanalen, Goede voorz...</td>\n",
       "    </tr>\n",
       "    <tr>\n",
       "      <th>...</th>\n",
       "      <td>...</td>\n",
       "    </tr>\n",
       "    <tr>\n",
       "      <th>1474</th>\n",
       "      <td>\"(+) Ontbijt was heerlijk, alles was aanwezig ...</td>\n",
       "    </tr>\n",
       "    <tr>\n",
       "      <th>1475</th>\n",
       "      <td>\"(+) Bedden waren schoon\\n\\n(-) Oud! Garage ou...</td>\n",
       "    </tr>\n",
       "    <tr>\n",
       "      <th>1476</th>\n",
       "      <td>(-) enorme renovatie in het pand, dus naast he...</td>\n",
       "    </tr>\n",
       "    <tr>\n",
       "      <th>1477</th>\n",
       "      <td>\"(+) Het ontbijt De service\\n\\n(-) De kamer wa...</td>\n",
       "    </tr>\n",
       "    <tr>\n",
       "      <th>1478</th>\n",
       "      <td>\"(+) Vriendelijk personeel, goed ontbijt.\\n\\n(...</td>\n",
       "    </tr>\n",
       "  </tbody>\n",
       "</table>\n",
       "<p>1440 rows × 1 columns</p>\n",
       "</div>"
      ],
      "text/plain": [
       "                                            text_review\n",
       "0     (+) Goede kamer, goed bed, inloopdouche fijn v...\n",
       "1                (+) Zeer uitgebreid ontbijt en lekker!\n",
       "2     \"(+) De hygiëne en de inrichting van de kamers...\n",
       "3     (+) Goede bedden, makkelijk bereikbaar vanaf s...\n",
       "4     (+) Heerlijk bed. Veel TV kanalen, Goede voorz...\n",
       "...                                                 ...\n",
       "1474  \"(+) Ontbijt was heerlijk, alles was aanwezig ...\n",
       "1475  \"(+) Bedden waren schoon\\n\\n(-) Oud! Garage ou...\n",
       "1476  (-) enorme renovatie in het pand, dus naast he...\n",
       "1477  \"(+) Het ontbijt De service\\n\\n(-) De kamer wa...\n",
       "1478  \"(+) Vriendelijk personeel, goed ontbijt.\\n\\n(...\n",
       "\n",
       "[1440 rows x 1 columns]"
      ]
     },
     "execution_count": 9,
     "metadata": {},
     "output_type": "execute_result"
    }
   ],
   "source": [
    "body"
   ]
  },
  {
   "cell_type": "code",
   "execution_count": 10,
   "metadata": {},
   "outputs": [
    {
     "data": {
      "text/html": [
       "<div>\n",
       "<style scoped>\n",
       "    .dataframe tbody tr th:only-of-type {\n",
       "        vertical-align: middle;\n",
       "    }\n",
       "\n",
       "    .dataframe tbody tr th {\n",
       "        vertical-align: top;\n",
       "    }\n",
       "\n",
       "    .dataframe thead th {\n",
       "        text-align: right;\n",
       "    }\n",
       "</style>\n",
       "<table border=\"1\" class=\"dataframe\">\n",
       "  <thead>\n",
       "    <tr style=\"text-align: right;\">\n",
       "      <th></th>\n",
       "      <th>Thank_Appreciation</th>\n",
       "      <th>Sollicit_future_visit</th>\n",
       "      <th>Positive_closing_wish</th>\n",
       "      <th>Express_positive_feeling</th>\n",
       "      <th>Compliment_as_motivator</th>\n",
       "      <th>Refer_compliment</th>\n",
       "      <th>Promote_facility_service_values</th>\n",
       "      <th>Express_hope</th>\n",
       "    </tr>\n",
       "  </thead>\n",
       "  <tbody>\n",
       "    <tr>\n",
       "      <th>0</th>\n",
       "      <td>1</td>\n",
       "      <td>1</td>\n",
       "      <td>0</td>\n",
       "      <td>1</td>\n",
       "      <td>0</td>\n",
       "      <td>0</td>\n",
       "      <td>0</td>\n",
       "      <td>0</td>\n",
       "    </tr>\n",
       "    <tr>\n",
       "      <th>1</th>\n",
       "      <td>1</td>\n",
       "      <td>1</td>\n",
       "      <td>0</td>\n",
       "      <td>1</td>\n",
       "      <td>0</td>\n",
       "      <td>0</td>\n",
       "      <td>0</td>\n",
       "      <td>0</td>\n",
       "    </tr>\n",
       "    <tr>\n",
       "      <th>2</th>\n",
       "      <td>1</td>\n",
       "      <td>1</td>\n",
       "      <td>0</td>\n",
       "      <td>1</td>\n",
       "      <td>0</td>\n",
       "      <td>0</td>\n",
       "      <td>0</td>\n",
       "      <td>0</td>\n",
       "    </tr>\n",
       "    <tr>\n",
       "      <th>3</th>\n",
       "      <td>1</td>\n",
       "      <td>1</td>\n",
       "      <td>0</td>\n",
       "      <td>1</td>\n",
       "      <td>0</td>\n",
       "      <td>0</td>\n",
       "      <td>0</td>\n",
       "      <td>0</td>\n",
       "    </tr>\n",
       "    <tr>\n",
       "      <th>4</th>\n",
       "      <td>1</td>\n",
       "      <td>1</td>\n",
       "      <td>0</td>\n",
       "      <td>1</td>\n",
       "      <td>0</td>\n",
       "      <td>0</td>\n",
       "      <td>0</td>\n",
       "      <td>0</td>\n",
       "    </tr>\n",
       "    <tr>\n",
       "      <th>...</th>\n",
       "      <td>...</td>\n",
       "      <td>...</td>\n",
       "      <td>...</td>\n",
       "      <td>...</td>\n",
       "      <td>...</td>\n",
       "      <td>...</td>\n",
       "      <td>...</td>\n",
       "      <td>...</td>\n",
       "    </tr>\n",
       "    <tr>\n",
       "      <th>1474</th>\n",
       "      <td>0</td>\n",
       "      <td>0</td>\n",
       "      <td>0</td>\n",
       "      <td>0</td>\n",
       "      <td>0</td>\n",
       "      <td>0</td>\n",
       "      <td>0</td>\n",
       "      <td>0</td>\n",
       "    </tr>\n",
       "    <tr>\n",
       "      <th>1475</th>\n",
       "      <td>0</td>\n",
       "      <td>0</td>\n",
       "      <td>0</td>\n",
       "      <td>0</td>\n",
       "      <td>0</td>\n",
       "      <td>0</td>\n",
       "      <td>0</td>\n",
       "      <td>0</td>\n",
       "    </tr>\n",
       "    <tr>\n",
       "      <th>1476</th>\n",
       "      <td>0</td>\n",
       "      <td>0</td>\n",
       "      <td>0</td>\n",
       "      <td>0</td>\n",
       "      <td>0</td>\n",
       "      <td>0</td>\n",
       "      <td>0</td>\n",
       "      <td>0</td>\n",
       "    </tr>\n",
       "    <tr>\n",
       "      <th>1477</th>\n",
       "      <td>0</td>\n",
       "      <td>0</td>\n",
       "      <td>0</td>\n",
       "      <td>0</td>\n",
       "      <td>0</td>\n",
       "      <td>0</td>\n",
       "      <td>0</td>\n",
       "      <td>0</td>\n",
       "    </tr>\n",
       "    <tr>\n",
       "      <th>1478</th>\n",
       "      <td>0</td>\n",
       "      <td>0</td>\n",
       "      <td>0</td>\n",
       "      <td>0</td>\n",
       "      <td>0</td>\n",
       "      <td>0</td>\n",
       "      <td>0</td>\n",
       "      <td>0</td>\n",
       "    </tr>\n",
       "  </tbody>\n",
       "</table>\n",
       "<p>1440 rows × 8 columns</p>\n",
       "</div>"
      ],
      "text/plain": [
       "      Thank_Appreciation  Sollicit_future_visit  Positive_closing_wish  \\\n",
       "0                      1                      1                      0   \n",
       "1                      1                      1                      0   \n",
       "2                      1                      1                      0   \n",
       "3                      1                      1                      0   \n",
       "4                      1                      1                      0   \n",
       "...                  ...                    ...                    ...   \n",
       "1474                   0                      0                      0   \n",
       "1475                   0                      0                      0   \n",
       "1476                   0                      0                      0   \n",
       "1477                   0                      0                      0   \n",
       "1478                   0                      0                      0   \n",
       "\n",
       "      Express_positive_feeling  Compliment_as_motivator  Refer_compliment  \\\n",
       "0                            1                        0                 0   \n",
       "1                            1                        0                 0   \n",
       "2                            1                        0                 0   \n",
       "3                            1                        0                 0   \n",
       "4                            1                        0                 0   \n",
       "...                        ...                      ...               ...   \n",
       "1474                         0                        0                 0   \n",
       "1475                         0                        0                 0   \n",
       "1476                         0                        0                 0   \n",
       "1477                         0                        0                 0   \n",
       "1478                         0                        0                 0   \n",
       "\n",
       "      Promote_facility_service_values  Express_hope  \n",
       "0                                   0             0  \n",
       "1                                   0             0  \n",
       "2                                   0             0  \n",
       "3                                   0             0  \n",
       "4                                   0             0  \n",
       "...                               ...           ...  \n",
       "1474                                0             0  \n",
       "1475                                0             0  \n",
       "1476                                0             0  \n",
       "1477                                0             0  \n",
       "1478                                0             0  \n",
       "\n",
       "[1440 rows x 8 columns]"
      ]
     },
     "execution_count": 10,
     "metadata": {},
     "output_type": "execute_result"
    }
   ],
   "source": [
    "# create response dataset\n",
    "Y = df.iloc[:,18:26]\n",
    "Y[Y > 1] = 1\n",
    "Y = Y.fillna(0).astype(int)\n",
    "Y"
   ]
  },
  {
   "cell_type": "markdown",
   "metadata": {},
   "source": [
    "## 2.2 Clean data "
   ]
  },
  {
   "cell_type": "markdown",
   "metadata": {},
   "source": [
    "Classic steps in cleaning text data\n",
    "1. Put everything to lowercase\n",
    "2. get rid of punctuation\n",
    "3. get rid of numbers\n",
    "4. get rid of stopwords\n",
    "5. standardize words using lemmatiziation"
   ]
  },
  {
   "cell_type": "markdown",
   "metadata": {},
   "source": [
    "### 2.2.1 Remove punctuation, numbers and non alphabetic characters"
   ]
  },
  {
   "cell_type": "code",
   "execution_count": 11,
   "metadata": {},
   "outputs": [],
   "source": [
    "# make all characters lowercase and remove punctuation and (+) & (-) & \\n\n",
    "def clean_text(text):\n",
    "    text = text.lower()\n",
    "    # remove non alphabetic characters\n",
    "    text = re.sub('[(+)|(-)|\\n|\"|“”|‘’]', '', text)\n",
    "    # remove digits\n",
    "    text = re.sub('\\d+', '', text)\n",
    "    # remove puncutation\n",
    "    text = re.sub('[%s]+' % re.escape(string.punctuation), '', text)\n",
    "    # remove redundant spaces\n",
    "    text = re.sub('\\s+', ' ', text).strip()\n",
    "    return text"
   ]
  },
  {
   "cell_type": "code",
   "execution_count": 12,
   "metadata": {},
   "outputs": [],
   "source": [
    "body['clean_text'] = body['text_review'].apply(lambda x: clean_text(x))"
   ]
  },
  {
   "cell_type": "markdown",
   "metadata": {},
   "source": [
    "### 2.2.2 Remove stopwords"
   ]
  },
  {
   "cell_type": "code",
   "execution_count": 13,
   "metadata": {},
   "outputs": [],
   "source": [
    "def remove_stopwords(text, stop_words):\n",
    "    text = [word for word in text.split(' ') if word not in stop_words]\n",
    "    return ' '.join(text)"
   ]
  },
  {
   "cell_type": "code",
   "execution_count": 14,
   "metadata": {},
   "outputs": [],
   "source": [
    "stop_words = stopwords.words('dutch')\n",
    "body['clean_text'] = body['clean_text'].apply(lambda x: remove_stopwords(x, stop_words))"
   ]
  },
  {
   "cell_type": "code",
   "execution_count": 15,
   "metadata": {},
   "outputs": [
    {
     "data": {
      "text/html": [
       "<div>\n",
       "<style scoped>\n",
       "    .dataframe tbody tr th:only-of-type {\n",
       "        vertical-align: middle;\n",
       "    }\n",
       "\n",
       "    .dataframe tbody tr th {\n",
       "        vertical-align: top;\n",
       "    }\n",
       "\n",
       "    .dataframe thead th {\n",
       "        text-align: right;\n",
       "    }\n",
       "</style>\n",
       "<table border=\"1\" class=\"dataframe\">\n",
       "  <thead>\n",
       "    <tr style=\"text-align: right;\">\n",
       "      <th></th>\n",
       "      <th>text_review</th>\n",
       "      <th>clean_text</th>\n",
       "    </tr>\n",
       "  </thead>\n",
       "  <tbody>\n",
       "    <tr>\n",
       "      <th>0</th>\n",
       "      <td>(+) Goede kamer, goed bed, inloopdouche fijn v...</td>\n",
       "      <td>goede kamer goed bed inloopdouche fijn gehandi...</td>\n",
       "    </tr>\n",
       "    <tr>\n",
       "      <th>1</th>\n",
       "      <td>(+) Zeer uitgebreid ontbijt en lekker!</td>\n",
       "      <td>zeer uitgebreid ontbijt lekker</td>\n",
       "    </tr>\n",
       "    <tr>\n",
       "      <th>2</th>\n",
       "      <td>\"(+) De hygiëne en de inrichting van de kamers...</td>\n",
       "      <td>hygiëne inrichting kamers niks</td>\n",
       "    </tr>\n",
       "    <tr>\n",
       "      <th>3</th>\n",
       "      <td>(+) Goede bedden, makkelijk bereikbaar vanaf s...</td>\n",
       "      <td>goede bedden makkelijk bereikbaar vanaf snelwe...</td>\n",
       "    </tr>\n",
       "    <tr>\n",
       "      <th>4</th>\n",
       "      <td>(+) Heerlijk bed. Veel TV kanalen, Goede voorz...</td>\n",
       "      <td>heerlijk bed tv kanalen goede voorzieningen ha...</td>\n",
       "    </tr>\n",
       "  </tbody>\n",
       "</table>\n",
       "</div>"
      ],
      "text/plain": [
       "                                         text_review  \\\n",
       "0  (+) Goede kamer, goed bed, inloopdouche fijn v...   \n",
       "1             (+) Zeer uitgebreid ontbijt en lekker!   \n",
       "2  \"(+) De hygiëne en de inrichting van de kamers...   \n",
       "3  (+) Goede bedden, makkelijk bereikbaar vanaf s...   \n",
       "4  (+) Heerlijk bed. Veel TV kanalen, Goede voorz...   \n",
       "\n",
       "                                          clean_text  \n",
       "0  goede kamer goed bed inloopdouche fijn gehandi...  \n",
       "1                     zeer uitgebreid ontbijt lekker  \n",
       "2                     hygiëne inrichting kamers niks  \n",
       "3  goede bedden makkelijk bereikbaar vanaf snelwe...  \n",
       "4  heerlijk bed tv kanalen goede voorzieningen ha...  "
      ]
     },
     "execution_count": 15,
     "metadata": {},
     "output_type": "execute_result"
    }
   ],
   "source": [
    "body.head()"
   ]
  },
  {
   "cell_type": "markdown",
   "metadata": {},
   "source": [
    "### 2.2.3 Lemmatizing "
   ]
  },
  {
   "cell_type": "code",
   "execution_count": 16,
   "metadata": {},
   "outputs": [],
   "source": [
    "# import dutch library\n",
    "def perform_lemmatizing(text, core):\n",
    "    sentence = core(text)\n",
    "    transformed = [word.lemma_ for word in sentence]\n",
    "    return ' '.join(transformed)"
   ]
  },
  {
   "cell_type": "code",
   "execution_count": 17,
   "metadata": {
    "scrolled": true
   },
   "outputs": [],
   "source": [
    "nlp = spacy.load(\"nl_core_news_sm\")"
   ]
  },
  {
   "cell_type": "code",
   "execution_count": 18,
   "metadata": {},
   "outputs": [],
   "source": [
    "body['clean_text_lemma'] = body['clean_text'].apply(lambda x: perform_lemmatizing(x, nlp))"
   ]
  },
  {
   "cell_type": "code",
   "execution_count": 19,
   "metadata": {},
   "outputs": [
    {
     "data": {
      "text/html": [
       "<div>\n",
       "<style scoped>\n",
       "    .dataframe tbody tr th:only-of-type {\n",
       "        vertical-align: middle;\n",
       "    }\n",
       "\n",
       "    .dataframe tbody tr th {\n",
       "        vertical-align: top;\n",
       "    }\n",
       "\n",
       "    .dataframe thead th {\n",
       "        text-align: right;\n",
       "    }\n",
       "</style>\n",
       "<table border=\"1\" class=\"dataframe\">\n",
       "  <thead>\n",
       "    <tr style=\"text-align: right;\">\n",
       "      <th></th>\n",
       "      <th>text_review</th>\n",
       "      <th>clean_text</th>\n",
       "      <th>clean_text_lemma</th>\n",
       "    </tr>\n",
       "  </thead>\n",
       "  <tbody>\n",
       "    <tr>\n",
       "      <th>0</th>\n",
       "      <td>(+) Goede kamer, goed bed, inloopdouche fijn v...</td>\n",
       "      <td>goede kamer goed bed inloopdouche fijn gehandi...</td>\n",
       "      <td>goed kamer goed bed inloopdouch fijn gehandica...</td>\n",
       "    </tr>\n",
       "    <tr>\n",
       "      <th>1</th>\n",
       "      <td>(+) Zeer uitgebreid ontbijt en lekker!</td>\n",
       "      <td>zeer uitgebreid ontbijt lekker</td>\n",
       "      <td>zeer uitbreiden ontbijt lekker</td>\n",
       "    </tr>\n",
       "    <tr>\n",
       "      <th>2</th>\n",
       "      <td>\"(+) De hygiëne en de inrichting van de kamers...</td>\n",
       "      <td>hygiëne inrichting kamers niks</td>\n",
       "      <td>hygiëne inrichting kamer niks</td>\n",
       "    </tr>\n",
       "    <tr>\n",
       "      <th>3</th>\n",
       "      <td>(+) Goede bedden, makkelijk bereikbaar vanaf s...</td>\n",
       "      <td>goede bedden makkelijk bereikbaar vanaf snelwe...</td>\n",
       "      <td>goed bed makkelijk bereikbaar vanaf snelweg mo...</td>\n",
       "    </tr>\n",
       "    <tr>\n",
       "      <th>4</th>\n",
       "      <td>(+) Heerlijk bed. Veel TV kanalen, Goede voorz...</td>\n",
       "      <td>heerlijk bed tv kanalen goede voorzieningen ha...</td>\n",
       "      <td>heerlijk bed tv kanaal goed voorziening handig...</td>\n",
       "    </tr>\n",
       "  </tbody>\n",
       "</table>\n",
       "</div>"
      ],
      "text/plain": [
       "                                         text_review  \\\n",
       "0  (+) Goede kamer, goed bed, inloopdouche fijn v...   \n",
       "1             (+) Zeer uitgebreid ontbijt en lekker!   \n",
       "2  \"(+) De hygiëne en de inrichting van de kamers...   \n",
       "3  (+) Goede bedden, makkelijk bereikbaar vanaf s...   \n",
       "4  (+) Heerlijk bed. Veel TV kanalen, Goede voorz...   \n",
       "\n",
       "                                          clean_text  \\\n",
       "0  goede kamer goed bed inloopdouche fijn gehandi...   \n",
       "1                     zeer uitgebreid ontbijt lekker   \n",
       "2                     hygiëne inrichting kamers niks   \n",
       "3  goede bedden makkelijk bereikbaar vanaf snelwe...   \n",
       "4  heerlijk bed tv kanalen goede voorzieningen ha...   \n",
       "\n",
       "                                    clean_text_lemma  \n",
       "0  goed kamer goed bed inloopdouch fijn gehandica...  \n",
       "1                     zeer uitbreiden ontbijt lekker  \n",
       "2                      hygiëne inrichting kamer niks  \n",
       "3  goed bed makkelijk bereikbaar vanaf snelweg mo...  \n",
       "4  heerlijk bed tv kanaal goed voorziening handig...  "
      ]
     },
     "execution_count": 19,
     "metadata": {},
     "output_type": "execute_result"
    }
   ],
   "source": [
    "body.head()"
   ]
  },
  {
   "cell_type": "markdown",
   "metadata": {},
   "source": [
    "## 2.3 Inspect and visualize most occuring words"
   ]
  },
  {
   "cell_type": "code",
   "execution_count": 20,
   "metadata": {},
   "outputs": [],
   "source": [
    "cv = CountVectorizer()\n",
    "data_CV = cv.fit_transform(body.clean_text_lemma)"
   ]
  },
  {
   "cell_type": "code",
   "execution_count": 21,
   "metadata": {
    "scrolled": true
   },
   "outputs": [
    {
     "data": {
      "text/html": [
       "<div>\n",
       "<style scoped>\n",
       "    .dataframe tbody tr th:only-of-type {\n",
       "        vertical-align: middle;\n",
       "    }\n",
       "\n",
       "    .dataframe tbody tr th {\n",
       "        vertical-align: top;\n",
       "    }\n",
       "\n",
       "    .dataframe thead th {\n",
       "        text-align: right;\n",
       "    }\n",
       "</style>\n",
       "<table border=\"1\" class=\"dataframe\">\n",
       "  <thead>\n",
       "    <tr style=\"text-align: right;\">\n",
       "      <th></th>\n",
       "      <th>aanbeveel</th>\n",
       "      <th>aanbevelen</th>\n",
       "      <th>aanbeveling</th>\n",
       "      <th>aanbieden</th>\n",
       "      <th>aanbieding</th>\n",
       "      <th>aanbod</th>\n",
       "      <th>aandacht</th>\n",
       "      <th>aandoen</th>\n",
       "      <th>aandringen</th>\n",
       "      <th>aanduiden</th>\n",
       "      <th>...</th>\n",
       "      <th>zwembad</th>\n",
       "      <th>zwembadruimte</th>\n",
       "      <th>zwemmen</th>\n",
       "      <th>zweterig</th>\n",
       "      <th>zwier</th>\n",
       "      <th>zwijgen</th>\n",
       "      <th>zéér</th>\n",
       "      <th>één</th>\n",
       "      <th>éénvoudig</th>\n",
       "      <th>óók</th>\n",
       "    </tr>\n",
       "  </thead>\n",
       "  <tbody>\n",
       "    <tr>\n",
       "      <th>0</th>\n",
       "      <td>0</td>\n",
       "      <td>0</td>\n",
       "      <td>0</td>\n",
       "      <td>0</td>\n",
       "      <td>0</td>\n",
       "      <td>0</td>\n",
       "      <td>0</td>\n",
       "      <td>0</td>\n",
       "      <td>0</td>\n",
       "      <td>0</td>\n",
       "      <td>...</td>\n",
       "      <td>0</td>\n",
       "      <td>0</td>\n",
       "      <td>0</td>\n",
       "      <td>0</td>\n",
       "      <td>0</td>\n",
       "      <td>0</td>\n",
       "      <td>0</td>\n",
       "      <td>0</td>\n",
       "      <td>0</td>\n",
       "      <td>0</td>\n",
       "    </tr>\n",
       "    <tr>\n",
       "      <th>1</th>\n",
       "      <td>0</td>\n",
       "      <td>0</td>\n",
       "      <td>0</td>\n",
       "      <td>0</td>\n",
       "      <td>0</td>\n",
       "      <td>0</td>\n",
       "      <td>0</td>\n",
       "      <td>0</td>\n",
       "      <td>0</td>\n",
       "      <td>0</td>\n",
       "      <td>...</td>\n",
       "      <td>0</td>\n",
       "      <td>0</td>\n",
       "      <td>0</td>\n",
       "      <td>0</td>\n",
       "      <td>0</td>\n",
       "      <td>0</td>\n",
       "      <td>0</td>\n",
       "      <td>0</td>\n",
       "      <td>0</td>\n",
       "      <td>0</td>\n",
       "    </tr>\n",
       "    <tr>\n",
       "      <th>2</th>\n",
       "      <td>0</td>\n",
       "      <td>0</td>\n",
       "      <td>0</td>\n",
       "      <td>0</td>\n",
       "      <td>0</td>\n",
       "      <td>0</td>\n",
       "      <td>0</td>\n",
       "      <td>0</td>\n",
       "      <td>0</td>\n",
       "      <td>0</td>\n",
       "      <td>...</td>\n",
       "      <td>0</td>\n",
       "      <td>0</td>\n",
       "      <td>0</td>\n",
       "      <td>0</td>\n",
       "      <td>0</td>\n",
       "      <td>0</td>\n",
       "      <td>0</td>\n",
       "      <td>0</td>\n",
       "      <td>0</td>\n",
       "      <td>0</td>\n",
       "    </tr>\n",
       "    <tr>\n",
       "      <th>3</th>\n",
       "      <td>0</td>\n",
       "      <td>0</td>\n",
       "      <td>0</td>\n",
       "      <td>0</td>\n",
       "      <td>0</td>\n",
       "      <td>0</td>\n",
       "      <td>0</td>\n",
       "      <td>0</td>\n",
       "      <td>0</td>\n",
       "      <td>0</td>\n",
       "      <td>...</td>\n",
       "      <td>0</td>\n",
       "      <td>0</td>\n",
       "      <td>0</td>\n",
       "      <td>0</td>\n",
       "      <td>0</td>\n",
       "      <td>0</td>\n",
       "      <td>0</td>\n",
       "      <td>0</td>\n",
       "      <td>0</td>\n",
       "      <td>0</td>\n",
       "    </tr>\n",
       "    <tr>\n",
       "      <th>4</th>\n",
       "      <td>0</td>\n",
       "      <td>0</td>\n",
       "      <td>0</td>\n",
       "      <td>0</td>\n",
       "      <td>0</td>\n",
       "      <td>0</td>\n",
       "      <td>0</td>\n",
       "      <td>0</td>\n",
       "      <td>0</td>\n",
       "      <td>0</td>\n",
       "      <td>...</td>\n",
       "      <td>0</td>\n",
       "      <td>0</td>\n",
       "      <td>0</td>\n",
       "      <td>0</td>\n",
       "      <td>0</td>\n",
       "      <td>0</td>\n",
       "      <td>0</td>\n",
       "      <td>0</td>\n",
       "      <td>0</td>\n",
       "      <td>0</td>\n",
       "    </tr>\n",
       "    <tr>\n",
       "      <th>...</th>\n",
       "      <td>...</td>\n",
       "      <td>...</td>\n",
       "      <td>...</td>\n",
       "      <td>...</td>\n",
       "      <td>...</td>\n",
       "      <td>...</td>\n",
       "      <td>...</td>\n",
       "      <td>...</td>\n",
       "      <td>...</td>\n",
       "      <td>...</td>\n",
       "      <td>...</td>\n",
       "      <td>...</td>\n",
       "      <td>...</td>\n",
       "      <td>...</td>\n",
       "      <td>...</td>\n",
       "      <td>...</td>\n",
       "      <td>...</td>\n",
       "      <td>...</td>\n",
       "      <td>...</td>\n",
       "      <td>...</td>\n",
       "      <td>...</td>\n",
       "    </tr>\n",
       "    <tr>\n",
       "      <th>1435</th>\n",
       "      <td>0</td>\n",
       "      <td>0</td>\n",
       "      <td>0</td>\n",
       "      <td>0</td>\n",
       "      <td>0</td>\n",
       "      <td>0</td>\n",
       "      <td>0</td>\n",
       "      <td>0</td>\n",
       "      <td>0</td>\n",
       "      <td>0</td>\n",
       "      <td>...</td>\n",
       "      <td>0</td>\n",
       "      <td>0</td>\n",
       "      <td>0</td>\n",
       "      <td>0</td>\n",
       "      <td>0</td>\n",
       "      <td>0</td>\n",
       "      <td>0</td>\n",
       "      <td>0</td>\n",
       "      <td>0</td>\n",
       "      <td>0</td>\n",
       "    </tr>\n",
       "    <tr>\n",
       "      <th>1436</th>\n",
       "      <td>0</td>\n",
       "      <td>0</td>\n",
       "      <td>0</td>\n",
       "      <td>0</td>\n",
       "      <td>0</td>\n",
       "      <td>0</td>\n",
       "      <td>0</td>\n",
       "      <td>0</td>\n",
       "      <td>0</td>\n",
       "      <td>0</td>\n",
       "      <td>...</td>\n",
       "      <td>0</td>\n",
       "      <td>0</td>\n",
       "      <td>0</td>\n",
       "      <td>0</td>\n",
       "      <td>0</td>\n",
       "      <td>0</td>\n",
       "      <td>0</td>\n",
       "      <td>0</td>\n",
       "      <td>0</td>\n",
       "      <td>0</td>\n",
       "    </tr>\n",
       "    <tr>\n",
       "      <th>1437</th>\n",
       "      <td>0</td>\n",
       "      <td>0</td>\n",
       "      <td>0</td>\n",
       "      <td>0</td>\n",
       "      <td>0</td>\n",
       "      <td>0</td>\n",
       "      <td>0</td>\n",
       "      <td>0</td>\n",
       "      <td>0</td>\n",
       "      <td>0</td>\n",
       "      <td>...</td>\n",
       "      <td>0</td>\n",
       "      <td>0</td>\n",
       "      <td>0</td>\n",
       "      <td>0</td>\n",
       "      <td>0</td>\n",
       "      <td>0</td>\n",
       "      <td>0</td>\n",
       "      <td>0</td>\n",
       "      <td>0</td>\n",
       "      <td>0</td>\n",
       "    </tr>\n",
       "    <tr>\n",
       "      <th>1438</th>\n",
       "      <td>0</td>\n",
       "      <td>0</td>\n",
       "      <td>0</td>\n",
       "      <td>0</td>\n",
       "      <td>0</td>\n",
       "      <td>0</td>\n",
       "      <td>0</td>\n",
       "      <td>0</td>\n",
       "      <td>0</td>\n",
       "      <td>0</td>\n",
       "      <td>...</td>\n",
       "      <td>0</td>\n",
       "      <td>0</td>\n",
       "      <td>0</td>\n",
       "      <td>0</td>\n",
       "      <td>0</td>\n",
       "      <td>0</td>\n",
       "      <td>0</td>\n",
       "      <td>0</td>\n",
       "      <td>0</td>\n",
       "      <td>0</td>\n",
       "    </tr>\n",
       "    <tr>\n",
       "      <th>1439</th>\n",
       "      <td>0</td>\n",
       "      <td>0</td>\n",
       "      <td>0</td>\n",
       "      <td>0</td>\n",
       "      <td>0</td>\n",
       "      <td>0</td>\n",
       "      <td>0</td>\n",
       "      <td>0</td>\n",
       "      <td>0</td>\n",
       "      <td>0</td>\n",
       "      <td>...</td>\n",
       "      <td>0</td>\n",
       "      <td>0</td>\n",
       "      <td>0</td>\n",
       "      <td>0</td>\n",
       "      <td>0</td>\n",
       "      <td>0</td>\n",
       "      <td>0</td>\n",
       "      <td>0</td>\n",
       "      <td>0</td>\n",
       "      <td>0</td>\n",
       "    </tr>\n",
       "  </tbody>\n",
       "</table>\n",
       "<p>1440 rows × 4073 columns</p>\n",
       "</div>"
      ],
      "text/plain": [
       "      aanbeveel  aanbevelen  aanbeveling  aanbieden  aanbieding  aanbod  \\\n",
       "0             0           0            0          0           0       0   \n",
       "1             0           0            0          0           0       0   \n",
       "2             0           0            0          0           0       0   \n",
       "3             0           0            0          0           0       0   \n",
       "4             0           0            0          0           0       0   \n",
       "...         ...         ...          ...        ...         ...     ...   \n",
       "1435          0           0            0          0           0       0   \n",
       "1436          0           0            0          0           0       0   \n",
       "1437          0           0            0          0           0       0   \n",
       "1438          0           0            0          0           0       0   \n",
       "1439          0           0            0          0           0       0   \n",
       "\n",
       "      aandacht  aandoen  aandringen  aanduiden  ...  zwembad  zwembadruimte  \\\n",
       "0            0        0           0          0  ...        0              0   \n",
       "1            0        0           0          0  ...        0              0   \n",
       "2            0        0           0          0  ...        0              0   \n",
       "3            0        0           0          0  ...        0              0   \n",
       "4            0        0           0          0  ...        0              0   \n",
       "...        ...      ...         ...        ...  ...      ...            ...   \n",
       "1435         0        0           0          0  ...        0              0   \n",
       "1436         0        0           0          0  ...        0              0   \n",
       "1437         0        0           0          0  ...        0              0   \n",
       "1438         0        0           0          0  ...        0              0   \n",
       "1439         0        0           0          0  ...        0              0   \n",
       "\n",
       "      zwemmen  zweterig  zwier  zwijgen  zéér  één  éénvoudig  óók  \n",
       "0           0         0      0        0     0    0          0    0  \n",
       "1           0         0      0        0     0    0          0    0  \n",
       "2           0         0      0        0     0    0          0    0  \n",
       "3           0         0      0        0     0    0          0    0  \n",
       "4           0         0      0        0     0    0          0    0  \n",
       "...       ...       ...    ...      ...   ...  ...        ...  ...  \n",
       "1435        0         0      0        0     0    0          0    0  \n",
       "1436        0         0      0        0     0    0          0    0  \n",
       "1437        0         0      0        0     0    0          0    0  \n",
       "1438        0         0      0        0     0    0          0    0  \n",
       "1439        0         0      0        0     0    0          0    0  \n",
       "\n",
       "[1440 rows x 4073 columns]"
      ]
     },
     "execution_count": 21,
     "metadata": {},
     "output_type": "execute_result"
    }
   ],
   "source": [
    "dtm_CV = pd.DataFrame(data_CV.toarray(), columns=cv.get_feature_names())\n",
    "dtm_CV"
   ]
  },
  {
   "cell_type": "code",
   "execution_count": 22,
   "metadata": {
    "scrolled": true
   },
   "outputs": [
    {
     "data": {
      "text/plain": [
       "kamer          1085\n",
       "ontbijt         623\n",
       "goed            476\n",
       "hotel           414\n",
       "we              339\n",
       "bed             320\n",
       "personeel       319\n",
       "zeer            259\n",
       "vriendelijk     254\n",
       "heel            251\n",
       "locatie         242\n",
       "klein           202\n",
       "prima           201\n",
       "badkamer        199\n",
       "erg             189\n",
       "wel             184\n",
       "ligging         154\n",
       "mooi            148\n",
       "wij             147\n",
       "liggen          140\n",
       "schoon          138\n",
       "prijs           134\n",
       "hebben          131\n",
       "ruim            131\n",
       "lekker          114\n",
       "slecht          111\n",
       "gaan            110\n",
       "komen           110\n",
       "heerlijk        109\n",
       "leuk            105\n",
       "dtype: int64"
      ]
     },
     "execution_count": 22,
     "metadata": {},
     "output_type": "execute_result"
    }
   ],
   "source": [
    "# if some words that are mostly used are not useful add them to the stopwords to delete and \n",
    "# perfrom the count vectorizer again \n",
    "# find the most common words over all the documtents\n",
    "dtm = dtm_CV.transpose()\n",
    "dtm.sum(axis=1).sort_values(ascending=False).head(30)"
   ]
  },
  {
   "cell_type": "markdown",
   "metadata": {},
   "source": [
    "Some words can also be categorized as stopwords: we, wel, wij -> remove these words"
   ]
  },
  {
   "cell_type": "code",
   "execution_count": 23,
   "metadata": {
    "scrolled": true
   },
   "outputs": [
    {
     "data": {
      "text/plain": [
       "kamer          1085\n",
       "ontbijt         623\n",
       "goed            476\n",
       "hotel           414\n",
       "bed             320\n",
       "personeel       319\n",
       "zeer            259\n",
       "vriendelijk     254\n",
       "heel            251\n",
       "locatie         242\n",
       "klein           202\n",
       "prima           201\n",
       "badkamer        199\n",
       "erg             189\n",
       "ligging         154\n",
       "mooi            148\n",
       "liggen          140\n",
       "schoon          138\n",
       "prijs           134\n",
       "ruim            131\n",
       "lekker          114\n",
       "slecht          111\n",
       "heerlijk        109\n",
       "leuk            105\n",
       "douche          103\n",
       "krijgen         102\n",
       "net             102\n",
       "staan            95\n",
       "nacht            92\n",
       "centrum          91\n",
       "dtype: int64"
      ]
     },
     "execution_count": 23,
     "metadata": {},
     "output_type": "execute_result"
    }
   ],
   "source": [
    "# add new stopwords to remove\n",
    "stop_words = stop_words + (['we', 'wel','wij', 'komen','gaan','vinden'])\n",
    "\n",
    "# remove stopwords from the text\n",
    "body['clean_text_lemma'] = body['clean_text_lemma'].apply(lambda x: remove_stopwords(x, stop_words))\n",
    "\n",
    "# initialize the document term matrix again \n",
    "cv = CountVectorizer()\n",
    "data_cv = cv.fit_transform(body.clean_text_lemma)\n",
    "data_dtm = pd.DataFrame(data_cv.toarray(), columns=cv.get_feature_names())\n",
    "\n",
    "# transpose data and calculate for each token the number of occurences\n",
    "dtm = data_dtm.transpose()\n",
    "dtm.sum(axis=1).sort_values(ascending=False).head(30)"
   ]
  },
  {
   "cell_type": "code",
   "execution_count": 24,
   "metadata": {
    "scrolled": false
   },
   "outputs": [
    {
     "data": {
      "image/png": "[encoded data removed]",
      "text/plain": [
       "<Figure size 432x288 with 1 Axes>"
      ]
     },
     "metadata": {
      "needs_background": "light"
     },
     "output_type": "display_data"
    }
   ],
   "source": [
    "# make 1 string with all the text in it\n",
    "text = ''.join(word for word in body.clean_text_lemma)\n",
    "\n",
    "# make plots \n",
    "wordcloud = WordCloud().generate(text)\n",
    "\n",
    "# Display the generated image:\n",
    "plt.imshow(wordcloud, interpolation='bilinear')\n",
    "plt.axis(\"off\")\n",
    "plt.show()"
   ]
  },
  {
   "cell_type": "code",
   "execution_count": 25,
   "metadata": {},
   "outputs": [],
   "source": [
    "# create class to store document term matrices\n",
    "class data:\n",
    "    def __init__(self, bow_dtm, tfidf_dtm, Y):\n",
    "        self.bow = bow_dtm\n",
    "        self.tfidf = tfidf_dtm\n",
    "        self.Y = Y\n",
    "\n",
    "# bow document-term matrix\n",
    "cv = CountVectorizer()\n",
    "data_cv = cv.fit_transform(body.clean_text_lemma)\n",
    "dtm_CV = pd.DataFrame(data_cv.toarray(), columns=cv.get_feature_names())\n",
    "\n",
    "# tfidf document-term matrix\n",
    "tfidf = TfidfVectorizer()\n",
    "data_tfidf = tfidf.fit_transform(body.clean_text_lemma)\n",
    "dtm_tfidf = pd.DataFrame(data_tfidf.toarray(), columns=tfidf.get_feature_names())\n",
    "\n",
    "dtm = data(dtm_CV, dtm_tfidf, Y)"
   ]
  },
  {
   "cell_type": "markdown",
   "metadata": {},
   "source": [
    "## 2.4 Latent Semantic Analysis (LSA)"
   ]
  },
  {
   "cell_type": "markdown",
   "metadata": {},
   "source": [
    "### 2.4.1 Find number of topics with best coherence score"
   ]
  },
  {
   "cell_type": "code",
   "execution_count": 59,
   "metadata": {},
   "outputs": [],
   "source": [
    "# make data in required format for gensim package\n",
    "data = []\n",
    "for text in body['clean_text_lemma']:\n",
    "    data.append(simple_preprocess(text))"
   ]
  },
  {
   "cell_type": "code",
   "execution_count": 70,
   "metadata": {
    "scrolled": true
   },
   "outputs": [
    {
     "name": "stdout",
     "output_type": "stream",
     "text": [
      "20 0.49027755919744037\n",
      "25 0.4761639668148874\n",
      "30 0.46590805781503614\n",
      "35 0.4495168454926935\n",
      "40 0.4423508296037741\n",
      "45 0.4170799397756698\n",
      "50 0.42620831438458107\n",
      "55 0.40924412945611044\n",
      "60 0.395630044100943\n",
      "65 0.3957825195330616\n",
      "70 0.38543791260054755\n",
      "75 0.38230976122672533\n",
      "80 0.37135819791961433\n",
      "85 0.3704785190783592\n",
      "90 0.366633698132494\n",
      "95 0.3626472072211304\n",
      "100 0.35314784687556383\n",
      "105 0.3523073740606559\n",
      "110 0.34095036902713477\n",
      "115 0.34117902489861385\n",
      "120 0.3432204120055123\n",
      "125 0.3383143760171268\n",
      "130 0.336050648841361\n",
      "135 0.3329837515433421\n",
      "140 0.3419220171587817\n",
      "145 0.34173687642107103\n",
      "150 0.33884394878145135\n",
      "155 0.34717186204363726\n",
      "160 0.3390148444030065\n",
      "165 0.3452070622709065\n",
      "170 0.34965623206318486\n",
      "175 0.345884394216666\n",
      "180 0.34633328980819056\n",
      "185 0.3573720358723022\n",
      "190 0.35852048922383023\n",
      "195 0.3616509869224252\n"
     ]
    }
   ],
   "source": [
    "# find number of topics with best coherence score (BOW)\n",
    "id2word = corpora.Dictionary(data)\n",
    "doc_term_matrix = [id2word.doc2bow(doc) for doc in data]\n",
    "values = {}\n",
    "for n in range(20,200,5):\n",
    "    lsa = LsiModel(doc_term_matrix, num_topics=n, id2word = id2word)\n",
    "    coherence_model_lsa = CoherenceModel(model=lsa, \n",
    "                                     texts=data, \n",
    "                                     dictionary=id2word, coherence='c_v')\n",
    "    values[n] = coherence_model_lsa.get_coherence()\n",
    "    print(n,coherence_model_lsa.get_coherence())\n"
   ]
  },
  {
   "cell_type": "code",
   "execution_count": 71,
   "metadata": {
    "scrolled": false
   },
   "outputs": [
    {
     "data": {
      "text/plain": [
       "[<matplotlib.lines.Line2D at 0x1b4cee5e5e0>]"
      ]
     },
     "execution_count": 71,
     "metadata": {},
     "output_type": "execute_result"
    },
    {
     "data": {
      "image/png": "[encoded data removed]",
      "text/plain": [
       "<Figure size 432x288 with 1 Axes>"
      ]
     },
     "metadata": {
      "needs_background": "light"
     },
     "output_type": "display_data"
    }
   ],
   "source": [
    "plt.plot(values.keys(), values.values())"
   ]
  },
  {
   "cell_type": "markdown",
   "metadata": {},
   "source": [
    "### 2.4.2 Naive bayes with BOW"
   ]
  },
  {
   "cell_type": "code",
   "execution_count": 40,
   "metadata": {},
   "outputs": [],
   "source": [
    "# make the pipeline that first performance LSA and then fits the Naive bayes on the output as predictors\n",
    "lsa = TruncatedSVD(random_state=0, n_iter=100)\n",
    "clf =  ClassifierChain(GaussianNB(), order = 'random', random_state=0)\n",
    "pipe = Pipeline([('svd', lsa),\n",
    "                ('classifier', clf)])\n",
    "GNB = Model_eval(dtm.bow, dtm.Y, \n",
    "                 pipe,\n",
    "                 'Gaussian Naive Bayes',\n",
    "                 metrics)"
   ]
  },
  {
   "cell_type": "code",
   "execution_count": 41,
   "metadata": {},
   "outputs": [],
   "source": [
    "# tune number of components/ topics\n",
    "grid = {'svd__n_components':[x for x in range(10,200,5)]}"
   ]
  },
  {
   "cell_type": "code",
   "execution_count": 42,
   "metadata": {
    "scrolled": true
   },
   "outputs": [
    {
     "name": "stderr",
     "output_type": "stream",
     "text": [
      "C:\\Users\\DB Accountancy\\anaconda3\\lib\\site-packages\\sklearn\\utils\\validation.py:67: FutureWarning: Pass shuffle=True, random_state=0 as keyword args. From version 0.25 passing these as positional arguments will result in an error\n",
      "  warnings.warn(\"Pass {} as keyword args. From version 0.25 \"\n",
      "[Parallel(n_jobs=-1)]: Using backend LokyBackend with 8 concurrent workers.\n"
     ]
    },
    {
     "name": "stdout",
     "output_type": "stream",
     "text": [
      "-------------------------------------------------- \n",
      "\n",
      "Algorithm: Gaussian Naive Bayes\n",
      "    Inner loop:\n",
      "Fitting 2 folds for each of 38 candidates, totalling 76 fits\n"
     ]
    },
    {
     "name": "stderr",
     "output_type": "stream",
     "text": [
      "[Parallel(n_jobs=-1)]: Done  34 tasks      | elapsed:  1.1min\n",
      "[Parallel(n_jobs=-1)]: Done  76 out of  76 | elapsed:  3.1min finished\n"
     ]
    },
    {
     "name": "stdout",
     "output_type": "stream",
     "text": [
      "\n",
      "        Best Micro F1 score (inner test folds): 37.55%\n",
      "        Best parameters: {'svd__n_components': 195}\n",
      "        Micro F1 (on outer loop): 34.39%\n",
      "        Micro Recall (on outer loop): 86.58%\n",
      "        Micro Precision (on outer loop): 21.46%\n",
      "Fitting 2 folds for each of 38 candidates, totalling 76 fits\n"
     ]
    },
    {
     "name": "stderr",
     "output_type": "stream",
     "text": [
      "[Parallel(n_jobs=-1)]: Using backend LokyBackend with 8 concurrent workers.\n",
      "[Parallel(n_jobs=-1)]: Done  34 tasks      | elapsed:  1.1min\n",
      "[Parallel(n_jobs=-1)]: Done  76 out of  76 | elapsed:  3.0min finished\n"
     ]
    },
    {
     "name": "stdout",
     "output_type": "stream",
     "text": [
      "\n",
      "        Best Micro F1 score (inner test folds): 37.63%\n",
      "        Best parameters: {'svd__n_components': 195}\n",
      "        Micro F1 (on outer loop): 36.00%\n",
      "        Micro Recall (on outer loop): 83.39%\n",
      "        Micro Precision (on outer loop): 22.96%\n",
      "Fitting 2 folds for each of 38 candidates, totalling 76 fits\n"
     ]
    },
    {
     "name": "stderr",
     "output_type": "stream",
     "text": [
      "[Parallel(n_jobs=-1)]: Using backend LokyBackend with 8 concurrent workers.\n",
      "[Parallel(n_jobs=-1)]: Done  34 tasks      | elapsed:  1.2min\n",
      "[Parallel(n_jobs=-1)]: Done  76 out of  76 | elapsed:  3.1min finished\n"
     ]
    },
    {
     "name": "stdout",
     "output_type": "stream",
     "text": [
      "\n",
      "        Best Micro F1 score (inner test folds): 36.84%\n",
      "        Best parameters: {'svd__n_components': 190}\n",
      "        Micro F1 (on outer loop): 34.43%\n",
      "        Micro Recall (on outer loop): 92.16%\n",
      "        Micro Precision (on outer loop): 21.17%\n",
      "Fitting 2 folds for each of 38 candidates, totalling 76 fits\n"
     ]
    },
    {
     "name": "stderr",
     "output_type": "stream",
     "text": [
      "[Parallel(n_jobs=-1)]: Using backend LokyBackend with 8 concurrent workers.\n",
      "[Parallel(n_jobs=-1)]: Done  34 tasks      | elapsed:  1.0min\n",
      "[Parallel(n_jobs=-1)]: Done  76 out of  76 | elapsed:  3.0min finished\n"
     ]
    },
    {
     "name": "stdout",
     "output_type": "stream",
     "text": [
      "\n",
      "        Best Micro F1 score (inner test folds): 39.82%\n",
      "        Best parameters: {'svd__n_components': 20}\n",
      "        Micro F1 (on outer loop): 38.52%\n",
      "        Micro Recall (on outer loop): 76.43%\n",
      "        Micro Precision (on outer loop): 25.75%\n",
      "Fitting 2 folds for each of 38 candidates, totalling 76 fits\n"
     ]
    },
    {
     "name": "stderr",
     "output_type": "stream",
     "text": [
      "[Parallel(n_jobs=-1)]: Using backend LokyBackend with 8 concurrent workers.\n",
      "[Parallel(n_jobs=-1)]: Done  34 tasks      | elapsed:  1.2min\n",
      "[Parallel(n_jobs=-1)]: Done  76 out of  76 | elapsed:  3.5min finished\n"
     ]
    },
    {
     "name": "stdout",
     "output_type": "stream",
     "text": [
      "\n",
      "        Best Micro F1 score (inner test folds): 37.30%\n",
      "        Best parameters: {'svd__n_components': 195}\n",
      "        Micro F1 (on outer loop): 37.24%\n",
      "        Micro Recall (on outer loop): 90.79%\n",
      "        Micro Precision (on outer loop): 23.42%\n",
      "\n",
      "    Average over all folds:\n",
      "        Micro F1 36.12% +/- 1.61\n",
      "        Micro Recall 85.87% +/- 5.65\n",
      "        Micro Precision 22.95% +/- 1.64\n",
      "        Hamming 41.37% +/- 4.63\n",
      "        Accuracy 23.61% +/- 3.97\n"
     ]
    }
   ],
   "source": [
    "GNB.perform_nested_CV(grid, inner_splits=2)"
   ]
  },
  {
   "cell_type": "markdown",
   "metadata": {},
   "source": [
    "### 2.4.3 Random Forest with BOW "
   ]
  },
  {
   "cell_type": "code",
   "execution_count": 26,
   "metadata": {},
   "outputs": [],
   "source": [
    "# setup\n",
    "lsa = TruncatedSVD(random_state=0, n_iter=100)\n",
    "clf = RandomForestClassifier(random_state=0,n_jobs=-1)\n",
    "pipe = Pipeline([('svd', lsa),\n",
    "                ('classifier', clf)])\n",
    "RF = Model_eval(dtm.bow, dtm.Y,\n",
    "                pipe,\n",
    "                'Random forest', \n",
    "               metrics)"
   ]
  },
  {
   "cell_type": "code",
   "execution_count": 27,
   "metadata": {},
   "outputs": [],
   "source": [
    "# specify the parameter grid\n",
    "n_estimators = [100,200, 300, 400, 500, 800, 1000, 1500]\n",
    "max_depth = [2, 5, 10, 15, 20, 50, 70, 100] \n",
    "min_samples_split = [2, 3, 4, 5, 10, 15, 20]\n",
    "min_samples_leaf = [2, 3, 4 ,5, 10, 15, 20]\n",
    "weights = [[{0:0.32, 1:0.68}, {0:0.34, 1:0.66}, \n",
    "           {0:0.3, 1:0.7}, {0:0.33, 1:0.67}, \n",
    "           {0:0.3, 1:0.7}, {0:0.3, 1:0.7}, \n",
    "           {0:0.3, 1:0.7}, {0:0.3, 1:0.7}], \n",
    "           [{0:0.32, 1:0.68}, {0:0.34, 1:0.66}, \n",
    "           {0:0.4, 1:0.6}, {0:0.33, 1:0.67}, \n",
    "           {0:0.4, 1:0.6}, {0:0.4, 1:0.6}, \n",
    "           {0:0.4, 1:0.6}, {0:0.4, 1:0.6}],\n",
    "           [{0:0.32, 1:0.68}, {0:0.34, 1:0.66}, \n",
    "           {0:0.2, 1:0.8}, {0:0.33, 1:0.67}, \n",
    "           {0:0.2, 1:0.8}, {0:0.2, 1:0.8}, \n",
    "           {0:0.2, 1:0.8}, {0:0.2, 1:0.8}],\n",
    "           [{0:0.32, 1:0.68}, {0:0.34, 1:0.66}, \n",
    "           {0:0.1, 1:0.9}, {0:0.33, 1:0.67}, \n",
    "           {0:0.1, 1:0.9}, {0:0.1, 1:0.9}, \n",
    "           {0:0.1, 1:0.9}, {0:0.1, 1:0.9}],\n",
    "           [{0:0.32, 1:0.68}, {0:0.34, 1:0.66}, \n",
    "           {0:0.01, 1:0.99}, {0:0.33, 1:0.67}, \n",
    "           {0:0.01, 1:0.99}, {0:0.01, 1:0.99}, \n",
    "           {0:0.01, 1:0.99}, {0:0.01, 1:0.99}]]\n",
    "max_features = ['auto','log2','sqrt']\n",
    "grid = {'classifier__n_estimators': n_estimators,\n",
    "        'classifier__max_depth': max_depth,\n",
    "        'classifier__max_features': max_features,\n",
    "        'classifier__min_samples_split': min_samples_split,\n",
    "        'classifier__min_samples_leaf': min_samples_leaf,\n",
    "        'classifier__class_weight': weights,\n",
    "        'svd__n_components':[20,25,30,35,40,50,100,200,300, 400]}"
   ]
  },
  {
   "cell_type": "code",
   "execution_count": 32,
   "metadata": {
    "scrolled": true
   },
   "outputs": [
    {
     "name": "stderr",
     "output_type": "stream",
     "text": [
      "C:\\Users\\DB Accountancy\\anaconda3\\lib\\site-packages\\sklearn\\utils\\validation.py:67: FutureWarning: Pass shuffle=True, random_state=0 as keyword args. From version 0.25 passing these as positional arguments will result in an error\n",
      "  warnings.warn(\"Pass {} as keyword args. From version 0.25 \"\n",
      "[Parallel(n_jobs=-1)]: Using backend LokyBackend with 8 concurrent workers.\n"
     ]
    },
    {
     "name": "stdout",
     "output_type": "stream",
     "text": [
      "-------------------------------------------------- \n",
      "\n",
      "Algorithm: Random forest\n",
      "    Inner loop:\n",
      "Fitting 2 folds for each of 100 candidates, totalling 200 fits\n"
     ]
    },
    {
     "name": "stderr",
     "output_type": "stream",
     "text": [
      "[Parallel(n_jobs=-1)]: Done  34 tasks      | elapsed:  1.6min\n",
      "[Parallel(n_jobs=-1)]: Done 184 tasks      | elapsed: 10.1min\n",
      "[Parallel(n_jobs=-1)]: Done 200 out of 200 | elapsed: 10.9min finished\n"
     ]
    },
    {
     "name": "stdout",
     "output_type": "stream",
     "text": [
      "\n",
      "        Best Micro F1 score (inner test folds): 61.80%\n",
      "        Best parameters: {'svd__n_components': 35, 'classifier__n_estimators': 500, 'classifier__min_samples_split': 10, 'classifier__min_samples_leaf': 2, 'classifier__max_features': 'auto', 'classifier__max_depth': 100, 'classifier__class_weight': [{0: 0.32, 1: 0.68}, {0: 0.34, 1: 0.66}, {0: 0.3, 1: 0.7}, {0: 0.33, 1: 0.67}, {0: 0.3, 1: 0.7}, {0: 0.3, 1: 0.7}, {0: 0.3, 1: 0.7}, {0: 0.3, 1: 0.7}]}\n",
      "        Micro F1 (on outer loop): 61.13%\n",
      "Fitting 2 folds for each of 100 candidates, totalling 200 fits\n"
     ]
    },
    {
     "name": "stderr",
     "output_type": "stream",
     "text": [
      "[Parallel(n_jobs=-1)]: Using backend LokyBackend with 8 concurrent workers.\n",
      "[Parallel(n_jobs=-1)]: Done  34 tasks      | elapsed:  2.1min\n",
      "[Parallel(n_jobs=-1)]: Done 184 tasks      | elapsed: 12.1min\n",
      "[Parallel(n_jobs=-1)]: Done 200 out of 200 | elapsed: 12.6min finished\n"
     ]
    },
    {
     "name": "stdout",
     "output_type": "stream",
     "text": [
      "\n",
      "        Best Micro F1 score (inner test folds): 61.12%\n",
      "        Best parameters: {'svd__n_components': 200, 'classifier__n_estimators': 500, 'classifier__min_samples_split': 5, 'classifier__min_samples_leaf': 5, 'classifier__max_features': 'auto', 'classifier__max_depth': 50, 'classifier__class_weight': [{0: 0.32, 1: 0.68}, {0: 0.34, 1: 0.66}, {0: 0.4, 1: 0.6}, {0: 0.33, 1: 0.67}, {0: 0.4, 1: 0.6}, {0: 0.4, 1: 0.6}, {0: 0.4, 1: 0.6}, {0: 0.4, 1: 0.6}]}\n",
      "        Micro F1 (on outer loop): 62.57%\n",
      "Fitting 2 folds for each of 100 candidates, totalling 200 fits\n"
     ]
    },
    {
     "name": "stderr",
     "output_type": "stream",
     "text": [
      "[Parallel(n_jobs=-1)]: Using backend LokyBackend with 8 concurrent workers.\n",
      "[Parallel(n_jobs=-1)]: Done  34 tasks      | elapsed:  1.6min\n",
      "[Parallel(n_jobs=-1)]: Done 184 tasks      | elapsed:  9.5min\n",
      "[Parallel(n_jobs=-1)]: Done 200 out of 200 | elapsed: 10.3min finished\n"
     ]
    },
    {
     "name": "stdout",
     "output_type": "stream",
     "text": [
      "\n",
      "        Best Micro F1 score (inner test folds): 60.23%\n",
      "        Best parameters: {'svd__n_components': 40, 'classifier__n_estimators': 500, 'classifier__min_samples_split': 2, 'classifier__min_samples_leaf': 3, 'classifier__max_features': 'log2', 'classifier__max_depth': 20, 'classifier__class_weight': [{0: 0.32, 1: 0.68}, {0: 0.34, 1: 0.66}, {0: 0.3, 1: 0.7}, {0: 0.33, 1: 0.67}, {0: 0.3, 1: 0.7}, {0: 0.3, 1: 0.7}, {0: 0.3, 1: 0.7}, {0: 0.3, 1: 0.7}]}\n",
      "        Micro F1 (on outer loop): 61.02%\n",
      "Fitting 2 folds for each of 100 candidates, totalling 200 fits\n"
     ]
    },
    {
     "name": "stderr",
     "output_type": "stream",
     "text": [
      "[Parallel(n_jobs=-1)]: Using backend LokyBackend with 8 concurrent workers.\n",
      "[Parallel(n_jobs=-1)]: Done  34 tasks      | elapsed:  2.3min\n",
      "[Parallel(n_jobs=-1)]: Done 184 tasks      | elapsed: 11.2min\n",
      "[Parallel(n_jobs=-1)]: Done 200 out of 200 | elapsed: 12.0min finished\n"
     ]
    },
    {
     "name": "stdout",
     "output_type": "stream",
     "text": [
      "\n",
      "        Best Micro F1 score (inner test folds): 61.24%\n",
      "        Best parameters: {'svd__n_components': 50, 'classifier__n_estimators': 100, 'classifier__min_samples_split': 5, 'classifier__min_samples_leaf': 3, 'classifier__max_features': 'log2', 'classifier__max_depth': 15, 'classifier__class_weight': [{0: 0.32, 1: 0.68}, {0: 0.34, 1: 0.66}, {0: 0.4, 1: 0.6}, {0: 0.33, 1: 0.67}, {0: 0.4, 1: 0.6}, {0: 0.4, 1: 0.6}, {0: 0.4, 1: 0.6}, {0: 0.4, 1: 0.6}]}\n",
      "        Micro F1 (on outer loop): 61.69%\n",
      "Fitting 2 folds for each of 100 candidates, totalling 200 fits\n"
     ]
    },
    {
     "name": "stderr",
     "output_type": "stream",
     "text": [
      "[Parallel(n_jobs=-1)]: Using backend LokyBackend with 8 concurrent workers.\n",
      "[Parallel(n_jobs=-1)]: Done  34 tasks      | elapsed:  2.5min\n",
      "[Parallel(n_jobs=-1)]: Done 184 tasks      | elapsed: 11.2min\n",
      "[Parallel(n_jobs=-1)]: Done 200 out of 200 | elapsed: 12.1min finished\n"
     ]
    },
    {
     "name": "stdout",
     "output_type": "stream",
     "text": [
      "\n",
      "        Best Micro F1 score (inner test folds): 60.37%\n",
      "        Best parameters: {'svd__n_components': 35, 'classifier__n_estimators': 100, 'classifier__min_samples_split': 5, 'classifier__min_samples_leaf': 4, 'classifier__max_features': 'sqrt', 'classifier__max_depth': 20, 'classifier__class_weight': [{0: 0.32, 1: 0.68}, {0: 0.34, 1: 0.66}, {0: 0.4, 1: 0.6}, {0: 0.33, 1: 0.67}, {0: 0.4, 1: 0.6}, {0: 0.4, 1: 0.6}, {0: 0.4, 1: 0.6}, {0: 0.4, 1: 0.6}]}\n",
      "        Micro F1 (on outer loop): 63.54%\n",
      "\n",
      "    Average over all folds:\n",
      "        Micro F1 61.99% +/- 0.95\n",
      "        Micro Recall 73.78% +/- 2.37\n",
      "        Micro Precision 53.51% +/- 1.66\n",
      "        Hamming 12.27% +/- 0.57\n",
      "        Accuracy 56.18% +/- 3.05\n"
     ]
    }
   ],
   "source": [
    "RF.perform_nested_CV(grid, inner_splits=2, random=True)"
   ]
  },
  {
   "cell_type": "markdown",
   "metadata": {},
   "source": [
    "### 2.4.4 XGBoost with BOW"
   ]
  },
  {
   "cell_type": "code",
   "execution_count": 30,
   "metadata": {},
   "outputs": [],
   "source": [
    "# make pipeline and initiliaze class\n",
    "lsa = TruncatedSVD(random_state=0, n_iter=100)\n",
    "clf = ClassifierChain(xgb.XGBClassifier(objective = \"binary:logistic\", eval_metric = 'aucpr', \n",
    "                                                        use_label_encoder=False, seed=0))\n",
    "pipe = Pipeline([('svd', lsa),\n",
    "                ('classifier', clf)])\n",
    "XGB = Model_eval(dtm.bow, dtm.Y,\n",
    "                pipe,\n",
    "                'XGBOOST', \n",
    "               metrics)"
   ]
  },
  {
   "cell_type": "code",
   "execution_count": 31,
   "metadata": {},
   "outputs": [],
   "source": [
    "# specify parameter space\n",
    "space={ 'max_depth': hp.quniform(\"max_depth\", 2, 50, 1),\n",
    "        'gamma': hp.uniform ('gamma', 1,9),\n",
    "        'colsample_bytree' : hp.uniform('colsample_bytree', 0.5,1),\n",
    "        'scale_pos_weight' : hp.uniform('scale_pos_weight', 0,5),\n",
    "        'n_estimators': hp.quniform('n_estimators', 100,1000,50),\n",
    "        'learning_rate': hp.uniform('learning_rate', 0.001, 0.2),\n",
    "        'min_child_weight' : hp.quniform('min_child_weight', 0, 10, 1),\n",
    "        'n_components': hp.quniform('n_components', 10,500, 20),\n",
    "        'seed': 0\n",
    "    }"
   ]
  },
  {
   "cell_type": "code",
   "execution_count": 38,
   "metadata": {
    "scrolled": true
   },
   "outputs": [
    {
     "name": "stdout",
     "output_type": "stream",
     "text": [
      "\r",
      "  0%|                                                                           | 0/30 [00:00<?, ?trial/s, best loss=?]"
     ]
    },
    {
     "name": "stderr",
     "output_type": "stream",
     "text": [
      "C:\\Users\\DB Accountancy\\anaconda3\\lib\\site-packages\\sklearn\\utils\\validation.py:67: FutureWarning: Pass shuffle=True, random_state=0 as keyword args. From version 0.25 passing these as positional arguments will result in an error\n",
      "  warnings.warn(\"Pass {} as keyword args. From version 0.25 \"\n"
     ]
    },
    {
     "name": "stdout",
     "output_type": "stream",
     "text": [
      "100%|███████████████████████████████████████████████| 30/30 [09:20<00:00, 18.70s/trial, best loss: -0.5709251101321586]\n",
      "Score on inner loop 0.552584670231729 \n",
      " {'colsample_bytree': 0.8612126010686805, 'gamma': 5.034093496357436, 'learning_rate': 0.06043726736740364, 'max_depth': 6, 'min_child_weight': 10.0, 'n_estimators': 1000, 'scale_pos_weight': 3.601736080386474, 'n_components': 80}\n",
      "\n",
      "100%|███████████████████████████████████████████████| 30/30 [08:16<00:00, 16.55s/trial, best loss: -0.6080139372822301]\n",
      "Score on inner loop 0.5913043478260871 \n",
      " {'colsample_bytree': 0.8921650244842885, 'gamma': 1.2807706589334116, 'learning_rate': 0.06771683723090957, 'max_depth': 3, 'min_child_weight': 8.0, 'n_estimators': 750, 'scale_pos_weight': 3.5397688028618335, 'n_components': 80}\n",
      "\n",
      "Best hyperparameters found in inner loop\n",
      "{'colsample_bytree': 0.8921650244842885, 'gamma': 1.2807706589334116, 'learning_rate': 0.06771683723090957, 'max_depth': 3, 'min_child_weight': 8.0, 'n_estimators': 750, 'scale_pos_weight': 3.5397688028618335, 'n_components': 80}\n",
      "\n",
      "\n",
      "Performance on the outer test fold:\n",
      "        Micro F1 (on outer loop): 61.83%\n",
      "        Micro Recall (on outer loop): 65.83%\n",
      "        Micro Precision (on outer loop): 58.29%\n",
      "\n",
      "100%|███████████████████████████████████████████████| 30/30 [11:50<00:00, 23.69s/trial, best loss: -0.5769944341372912]\n",
      "Score on inner loop 0.5769944341372912 \n",
      " {'colsample_bytree': 0.688087981795301, 'gamma': 8.063937634694962, 'learning_rate': 0.08960716469726099, 'max_depth': 23, 'min_child_weight': 6.0, 'n_estimators': 950, 'scale_pos_weight': 2.9647027698557333, 'n_components': 360}\n",
      "\n",
      "100%|███████████████████████████████████████████████| 30/30 [13:03<00:00, 26.13s/trial, best loss: -0.5647668393782384]\n",
      "Score on inner loop 0.5392070484581498 \n",
      " {'colsample_bytree': 0.9029031340327778, 'gamma': 5.5011338288508975, 'learning_rate': 0.06457338594620071, 'max_depth': 10, 'min_child_weight': 8.0, 'n_estimators': 350, 'scale_pos_weight': 3.6953191484083674, 'n_components': 340}\n",
      "\n",
      "Best hyperparameters found in inner loop\n",
      "{'colsample_bytree': 0.688087981795301, 'gamma': 8.063937634694962, 'learning_rate': 0.08960716469726099, 'max_depth': 23, 'min_child_weight': 6.0, 'n_estimators': 950, 'scale_pos_weight': 2.9647027698557333, 'n_components': 360}\n",
      "\n",
      "\n",
      "Performance on the outer test fold:\n",
      "        Micro F1 (on outer loop): 62.82%\n",
      "        Micro Recall (on outer loop): 65.71%\n",
      "        Micro Precision (on outer loop): 60.18%\n",
      "\n",
      "100%|███████████████████████████████████████████████| 30/30 [12:34<00:00, 25.14s/trial, best loss: -0.5928338762214984]\n",
      "Score on inner loop 0.6032786885245902 \n",
      " {'colsample_bytree': 0.8838107174879445, 'gamma': 8.26909996956266, 'learning_rate': 0.08386378705906834, 'max_depth': 7, 'min_child_weight': 5.0, 'n_estimators': 150, 'scale_pos_weight': 3.9797824882504127, 'n_components': 160}\n",
      "\n",
      "100%|███████████████████████████████████████████████| 30/30 [18:17<00:00, 36.57s/trial, best loss: -0.6045340050377834]\n",
      "Score on inner loop 0.5736170212765956 \n",
      " {'colsample_bytree': 0.7642346843116168, 'gamma': 7.407409770709361, 'learning_rate': 0.02784508096877492, 'max_depth': 15, 'min_child_weight': 4.0, 'n_estimators': 200, 'scale_pos_weight': 2.9902599166373984, 'n_components': 260}\n",
      "\n",
      "Best hyperparameters found in inner loop\n",
      "{'colsample_bytree': 0.8838107174879445, 'gamma': 8.26909996956266, 'learning_rate': 0.08386378705906834, 'max_depth': 7, 'min_child_weight': 5.0, 'n_estimators': 150, 'scale_pos_weight': 3.9797824882504127, 'n_components': 160}\n",
      "\n",
      "\n",
      "Performance on the outer test fold:\n",
      "        Micro F1 (on outer loop): 61.70%\n",
      "        Micro Recall (on outer loop): 66.79%\n",
      "        Micro Precision (on outer loop): 57.33%\n",
      "\n",
      "\n",
      "    Average over all folds:\n",
      "        Micro F1 62.12% +/- 0.50\n",
      "        Micro Recall 66.11% +/- 0.49\n",
      "        Micro Precision 58.60% +/- 1.18\n",
      "        Hamming 10.93% +/- 0.28\n",
      "        Accuracy 64.31% +/- 1.23\n"
     ]
    }
   ],
   "source": [
    "XGB.perform_bayesian_opt_pre(space, max_evals=30, lsa=True)"
   ]
  },
  {
   "cell_type": "markdown",
   "metadata": {},
   "source": [
    "### 2.4.5 Naive bayes with tfidf"
   ]
  },
  {
   "cell_type": "code",
   "execution_count": 44,
   "metadata": {},
   "outputs": [],
   "source": [
    "# set up \n",
    "lsa = TruncatedSVD(random_state=0, n_iter=100)\n",
    "clf =  ClassifierChain(GaussianNB(), order = 'random', random_state=0)\n",
    "pipe = Pipeline([('svd', lsa),\n",
    "                ('classifier', clf)])\n",
    "GNB = Model_eval(dtm.tfidf, dtm.Y, \n",
    "                 pipe,\n",
    "                 'Gaussian Naive Bayes',\n",
    "                 metrics)"
   ]
  },
  {
   "cell_type": "code",
   "execution_count": 45,
   "metadata": {},
   "outputs": [],
   "source": [
    "# parameter space\n",
    "grid = {'svd__n_components':[x for x in range(10,200,5)]}"
   ]
  },
  {
   "cell_type": "code",
   "execution_count": 46,
   "metadata": {
    "scrolled": true
   },
   "outputs": [
    {
     "name": "stderr",
     "output_type": "stream",
     "text": [
      "C:\\Users\\DB Accountancy\\anaconda3\\lib\\site-packages\\sklearn\\utils\\validation.py:67: FutureWarning: Pass shuffle=True, random_state=0 as keyword args. From version 0.25 passing these as positional arguments will result in an error\n",
      "  warnings.warn(\"Pass {} as keyword args. From version 0.25 \"\n",
      "[Parallel(n_jobs=-1)]: Using backend LokyBackend with 8 concurrent workers.\n"
     ]
    },
    {
     "name": "stdout",
     "output_type": "stream",
     "text": [
      "-------------------------------------------------- \n",
      "\n",
      "Algorithm: Gaussian Naive Bayes\n",
      "    Inner loop:\n",
      "Fitting 2 folds for each of 38 candidates, totalling 76 fits\n"
     ]
    },
    {
     "name": "stderr",
     "output_type": "stream",
     "text": [
      "[Parallel(n_jobs=-1)]: Done  34 tasks      | elapsed:   45.2s\n",
      "[Parallel(n_jobs=-1)]: Done  76 out of  76 | elapsed:  2.7min finished\n"
     ]
    },
    {
     "name": "stdout",
     "output_type": "stream",
     "text": [
      "\n",
      "        Best Micro F1 score (inner test folds): 40.35%\n",
      "        Best parameters: {'svd__n_components': 80}\n",
      "        Micro F1 (on outer loop): 44.08%\n",
      "        Micro Recall (on outer loop): 42.81%\n",
      "        Micro Precision (on outer loop): 45.42%\n",
      "Fitting 2 folds for each of 38 candidates, totalling 76 fits\n"
     ]
    },
    {
     "name": "stderr",
     "output_type": "stream",
     "text": [
      "[Parallel(n_jobs=-1)]: Using backend LokyBackend with 8 concurrent workers.\n",
      "[Parallel(n_jobs=-1)]: Done  34 tasks      | elapsed:   46.1s\n",
      "[Parallel(n_jobs=-1)]: Done  76 out of  76 | elapsed:  2.6min finished\n"
     ]
    },
    {
     "name": "stdout",
     "output_type": "stream",
     "text": [
      "\n",
      "        Best Micro F1 score (inner test folds): 45.48%\n",
      "        Best parameters: {'svd__n_components': 110}\n",
      "        Micro F1 (on outer loop): 45.12%\n",
      "        Micro Recall (on outer loop): 47.28%\n",
      "        Micro Precision (on outer loop): 43.15%\n",
      "Fitting 2 folds for each of 38 candidates, totalling 76 fits\n"
     ]
    },
    {
     "name": "stderr",
     "output_type": "stream",
     "text": [
      "[Parallel(n_jobs=-1)]: Using backend LokyBackend with 8 concurrent workers.\n",
      "[Parallel(n_jobs=-1)]: Done  34 tasks      | elapsed:   45.6s\n",
      "[Parallel(n_jobs=-1)]: Done  76 out of  76 | elapsed:  2.6min finished\n"
     ]
    },
    {
     "name": "stdout",
     "output_type": "stream",
     "text": [
      "\n",
      "        Best Micro F1 score (inner test folds): 35.93%\n",
      "        Best parameters: {'svd__n_components': 120}\n",
      "        Micro F1 (on outer loop): 38.79%\n",
      "        Micro Recall (on outer loop): 62.75%\n",
      "        Micro Precision (on outer loop): 28.07%\n",
      "Fitting 2 folds for each of 38 candidates, totalling 76 fits\n"
     ]
    },
    {
     "name": "stderr",
     "output_type": "stream",
     "text": [
      "[Parallel(n_jobs=-1)]: Using backend LokyBackend with 8 concurrent workers.\n",
      "[Parallel(n_jobs=-1)]: Done  34 tasks      | elapsed:   45.8s\n",
      "[Parallel(n_jobs=-1)]: Done  76 out of  76 | elapsed:  2.7min finished\n"
     ]
    },
    {
     "name": "stdout",
     "output_type": "stream",
     "text": [
      "\n",
      "        Best Micro F1 score (inner test folds): 42.42%\n",
      "        Best parameters: {'svd__n_components': 100}\n",
      "        Micro F1 (on outer loop): 39.32%\n",
      "        Micro Recall (on outer loop): 40.76%\n",
      "        Micro Precision (on outer loop): 37.98%\n",
      "Fitting 2 folds for each of 38 candidates, totalling 76 fits\n"
     ]
    },
    {
     "name": "stderr",
     "output_type": "stream",
     "text": [
      "[Parallel(n_jobs=-1)]: Using backend LokyBackend with 8 concurrent workers.\n",
      "[Parallel(n_jobs=-1)]: Done  34 tasks      | elapsed:   45.6s\n",
      "[Parallel(n_jobs=-1)]: Done  76 out of  76 | elapsed:  2.7min finished\n"
     ]
    },
    {
     "name": "stdout",
     "output_type": "stream",
     "text": [
      "\n",
      "        Best Micro F1 score (inner test folds): 40.08%\n",
      "        Best parameters: {'svd__n_components': 120}\n",
      "        Micro F1 (on outer loop): 47.14%\n",
      "        Micro Recall (on outer loop): 64.13%\n",
      "        Micro Precision (on outer loop): 37.27%\n",
      "\n",
      "    Average over all folds:\n",
      "        Micro F1 42.89% +/- 3.29\n",
      "        Micro Recall 51.55% +/- 9.94\n",
      "        Micro Precision 38.38% +/- 6.00\n",
      "        Hamming 18.70% +/- 4.15\n",
      "        Accuracy 55.28% +/- 6.38\n"
     ]
    }
   ],
   "source": [
    "GNB.perform_nested_CV(grid, inner_splits=2)"
   ]
  },
  {
   "cell_type": "markdown",
   "metadata": {},
   "source": [
    "### 2.4.6 RF with TF-IDF"
   ]
  },
  {
   "cell_type": "code",
   "execution_count": 125,
   "metadata": {},
   "outputs": [],
   "source": [
    "# set up\n",
    "lsa = TruncatedSVD(random_state=0, n_iter=100)\n",
    "clf = RandomForestClassifier(random_state=0)\n",
    "pipe = Pipeline([('svd', lsa),\n",
    "                ('classifier', clf)])\n",
    "RF = Model_eval(dtm.tfidf, dtm.Y,\n",
    "                pipe,\n",
    "                'Random forest', \n",
    "               metrics)"
   ]
  },
  {
   "cell_type": "code",
   "execution_count": 27,
   "metadata": {},
   "outputs": [],
   "source": [
    "# parameters\n",
    "n_estimators = [800, 1000, 1500]\n",
    "max_depth = [2, 5, 10, 15, 20, 50, 70, 100] \n",
    "min_samples_split = [2, 3, 4, 5, 10, 15, 20]\n",
    "min_samples_leaf = [2, 3, 4 ,5, 10, 15, 20]\n",
    "weights = [[{0:0.32, 1:0.68}, {0:0.34, 1:0.66}, \n",
    "           {0:0.3, 1:0.7}, {0:0.33, 1:0.67}, \n",
    "           {0:0.3, 1:0.7}, {0:0.3, 1:0.7}, \n",
    "           {0:0.3, 1:0.7}, {0:0.3, 1:0.7}], \n",
    "           [{0:0.32, 1:0.68}, {0:0.34, 1:0.66}, \n",
    "           {0:0.4, 1:0.6}, {0:0.33, 1:0.67}, \n",
    "           {0:0.4, 1:0.6}, {0:0.4, 1:0.6}, \n",
    "           {0:0.4, 1:0.6}, {0:0.4, 1:0.6}],\n",
    "           [{0:0.32, 1:0.68}, {0:0.34, 1:0.66}, \n",
    "           {0:0.2, 1:0.8}, {0:0.33, 1:0.67}, \n",
    "           {0:0.2, 1:0.8}, {0:0.2, 1:0.8}, \n",
    "           {0:0.2, 1:0.8}, {0:0.2, 1:0.8}],\n",
    "           [{0:0.32, 1:0.68}, {0:0.34, 1:0.66}, \n",
    "           {0:0.1, 1:0.9}, {0:0.33, 1:0.67}, \n",
    "           {0:0.1, 1:0.9}, {0:0.1, 1:0.9}, \n",
    "           {0:0.1, 1:0.9}, {0:0.1, 1:0.9}],\n",
    "           [{0:0.32, 1:0.68}, {0:0.34, 1:0.66}, \n",
    "           {0:0.01, 1:0.99}, {0:0.33, 1:0.67}, \n",
    "           {0:0.01, 1:0.99}, {0:0.01, 1:0.99}, \n",
    "           {0:0.01, 1:0.99}, {0:0.01, 1:0.99}]]\n",
    "max_features = ['auto','log2','sqrt']\n",
    "grid = {'classifier__n_estimators': n_estimators,\n",
    "        'classifier__max_depth': max_depth,\n",
    "        'classifier__min_samples_split': min_samples_split,\n",
    "        'classifier__min_samples_leaf': min_samples_leaf,\n",
    "        'classifier__class_weight': weights,\n",
    "        'classifier__max_features': max_features,\n",
    "        'svd__n_components':[20,25,30,35,40,50,100,200,300, 400]}"
   ]
  },
  {
   "cell_type": "code",
   "execution_count": 28,
   "metadata": {
    "scrolled": true
   },
   "outputs": [
    {
     "name": "stderr",
     "output_type": "stream",
     "text": [
      "C:\\Users\\DB Accountancy\\anaconda3\\lib\\site-packages\\sklearn\\utils\\validation.py:67: FutureWarning: Pass shuffle=True, random_state=0 as keyword args. From version 0.25 passing these as positional arguments will result in an error\n",
      "  warnings.warn(\"Pass {} as keyword args. From version 0.25 \"\n",
      "[Parallel(n_jobs=-1)]: Using backend LokyBackend with 8 concurrent workers.\n"
     ]
    },
    {
     "name": "stdout",
     "output_type": "stream",
     "text": [
      "-------------------------------------------------- \n",
      "\n",
      "Algorithm: Random forest\n",
      "    Inner loop:\n",
      "Fitting 2 folds for each of 100 candidates, totalling 200 fits\n"
     ]
    },
    {
     "name": "stderr",
     "output_type": "stream",
     "text": [
      "[Parallel(n_jobs=-1)]: Done  34 tasks      | elapsed:  3.0min\n",
      "[Parallel(n_jobs=-1)]: Done 184 tasks      | elapsed: 14.8min\n",
      "[Parallel(n_jobs=-1)]: Done 200 out of 200 | elapsed: 15.9min finished\n"
     ]
    },
    {
     "name": "stdout",
     "output_type": "stream",
     "text": [
      "\n",
      "        Best Micro F1 score (inner test folds): 63.31%\n",
      "        Best parameters: {'svd__n_components': 50, 'classifier__n_estimators': 800, 'classifier__min_samples_split': 3, 'classifier__min_samples_leaf': 5, 'classifier__max_features': 'sqrt', 'classifier__max_depth': 100, 'classifier__class_weight': [{0: 0.32, 1: 0.68}, {0: 0.34, 1: 0.66}, {0: 0.3, 1: 0.7}, {0: 0.33, 1: 0.67}, {0: 0.3, 1: 0.7}, {0: 0.3, 1: 0.7}, {0: 0.3, 1: 0.7}, {0: 0.3, 1: 0.7}]}\n",
      "        Micro F1 (on outer loop): 63.75%\n",
      "Fitting 2 folds for each of 100 candidates, totalling 200 fits\n"
     ]
    },
    {
     "name": "stderr",
     "output_type": "stream",
     "text": [
      "[Parallel(n_jobs=-1)]: Using backend LokyBackend with 8 concurrent workers.\n",
      "[Parallel(n_jobs=-1)]: Done  34 tasks      | elapsed:  2.8min\n",
      "[Parallel(n_jobs=-1)]: Done 184 tasks      | elapsed: 17.1min\n",
      "[Parallel(n_jobs=-1)]: Done 200 out of 200 | elapsed: 18.7min finished\n"
     ]
    },
    {
     "name": "stdout",
     "output_type": "stream",
     "text": [
      "\n",
      "        Best Micro F1 score (inner test folds): 64.60%\n",
      "        Best parameters: {'svd__n_components': 30, 'classifier__n_estimators': 1500, 'classifier__min_samples_split': 15, 'classifier__min_samples_leaf': 2, 'classifier__max_features': 'auto', 'classifier__max_depth': 100, 'classifier__class_weight': [{0: 0.32, 1: 0.68}, {0: 0.34, 1: 0.66}, {0: 0.4, 1: 0.6}, {0: 0.33, 1: 0.67}, {0: 0.4, 1: 0.6}, {0: 0.4, 1: 0.6}, {0: 0.4, 1: 0.6}, {0: 0.4, 1: 0.6}]}\n",
      "        Micro F1 (on outer loop): 62.23%\n",
      "Fitting 2 folds for each of 100 candidates, totalling 200 fits\n"
     ]
    },
    {
     "name": "stderr",
     "output_type": "stream",
     "text": [
      "[Parallel(n_jobs=-1)]: Using backend LokyBackend with 8 concurrent workers.\n",
      "[Parallel(n_jobs=-1)]: Done  34 tasks      | elapsed:  2.2min\n",
      "[Parallel(n_jobs=-1)]: Done 184 tasks      | elapsed: 13.1min\n",
      "[Parallel(n_jobs=-1)]: Done 200 out of 200 | elapsed: 14.1min finished\n"
     ]
    },
    {
     "name": "stdout",
     "output_type": "stream",
     "text": [
      "\n",
      "        Best Micro F1 score (inner test folds): 64.81%\n",
      "        Best parameters: {'svd__n_components': 50, 'classifier__n_estimators': 800, 'classifier__min_samples_split': 10, 'classifier__min_samples_leaf': 2, 'classifier__max_features': 'log2', 'classifier__max_depth': 100, 'classifier__class_weight': [{0: 0.32, 1: 0.68}, {0: 0.34, 1: 0.66}, {0: 0.2, 1: 0.8}, {0: 0.33, 1: 0.67}, {0: 0.2, 1: 0.8}, {0: 0.2, 1: 0.8}, {0: 0.2, 1: 0.8}, {0: 0.2, 1: 0.8}]}\n",
      "        Micro F1 (on outer loop): 63.13%\n",
      "Fitting 2 folds for each of 100 candidates, totalling 200 fits\n"
     ]
    },
    {
     "name": "stderr",
     "output_type": "stream",
     "text": [
      "[Parallel(n_jobs=-1)]: Using backend LokyBackend with 8 concurrent workers.\n",
      "[Parallel(n_jobs=-1)]: Done  34 tasks      | elapsed:  2.9min\n",
      "[Parallel(n_jobs=-1)]: Done 184 tasks      | elapsed: 12.4min\n",
      "[Parallel(n_jobs=-1)]: Done 200 out of 200 | elapsed: 13.6min finished\n"
     ]
    },
    {
     "name": "stdout",
     "output_type": "stream",
     "text": [
      "\n",
      "        Best Micro F1 score (inner test folds): 63.22%\n",
      "        Best parameters: {'svd__n_components': 40, 'classifier__n_estimators': 1000, 'classifier__min_samples_split': 4, 'classifier__min_samples_leaf': 4, 'classifier__max_features': 'sqrt', 'classifier__max_depth': 20, 'classifier__class_weight': [{0: 0.32, 1: 0.68}, {0: 0.34, 1: 0.66}, {0: 0.3, 1: 0.7}, {0: 0.33, 1: 0.67}, {0: 0.3, 1: 0.7}, {0: 0.3, 1: 0.7}, {0: 0.3, 1: 0.7}, {0: 0.3, 1: 0.7}]}\n",
      "        Micro F1 (on outer loop): 66.19%\n",
      "Fitting 2 folds for each of 100 candidates, totalling 200 fits\n"
     ]
    },
    {
     "name": "stderr",
     "output_type": "stream",
     "text": [
      "[Parallel(n_jobs=-1)]: Using backend LokyBackend with 8 concurrent workers.\n",
      "[Parallel(n_jobs=-1)]: Done  34 tasks      | elapsed:  2.2min\n",
      "[Parallel(n_jobs=-1)]: Done 184 tasks      | elapsed: 11.3min\n",
      "[Parallel(n_jobs=-1)]: Done 200 out of 200 | elapsed: 11.8min finished\n"
     ]
    },
    {
     "name": "stdout",
     "output_type": "stream",
     "text": [
      "\n",
      "        Best Micro F1 score (inner test folds): 63.44%\n",
      "        Best parameters: {'svd__n_components': 40, 'classifier__n_estimators': 1500, 'classifier__min_samples_split': 10, 'classifier__min_samples_leaf': 5, 'classifier__max_features': 'log2', 'classifier__max_depth': 70, 'classifier__class_weight': [{0: 0.32, 1: 0.68}, {0: 0.34, 1: 0.66}, {0: 0.3, 1: 0.7}, {0: 0.33, 1: 0.67}, {0: 0.3, 1: 0.7}, {0: 0.3, 1: 0.7}, {0: 0.3, 1: 0.7}, {0: 0.3, 1: 0.7}]}\n",
      "        Micro F1 (on outer loop): 66.58%\n",
      "\n",
      "    Average over all folds:\n",
      "        Micro F1 64.37% +/- 1.71\n",
      "        Micro Recall 73.39% +/- 2.67\n",
      "        Micro Precision 57.38% +/- 1.94\n",
      "        Hamming 11.01% +/- 0.61\n",
      "        Accuracy 59.72% +/- 1.34\n"
     ]
    }
   ],
   "source": [
    "RF.perform_nested_CV(grid, inner_splits=2, random=True)"
   ]
  },
  {
   "cell_type": "code",
   "execution_count": 126,
   "metadata": {},
   "outputs": [],
   "source": [
    "# more specific grid\n",
    "n_estimators = [800]\n",
    "max_depth = [50, 100] \n",
    "min_samples_split = [3, 10]\n",
    "min_samples_leaf = [4, 5]\n",
    "weights = [[{0:0.32, 1:0.68}, {0:0.34, 1:0.66}, \n",
    "           {0:0.3, 1:0.7}, {0:0.33, 1:0.67}, \n",
    "           {0:0.3, 1:0.7}, {0:0.3, 1:0.7}, \n",
    "           {0:0.3, 1:0.7}, {0:0.3, 1:0.7}], \n",
    "           [{0:0.32, 1:0.68}, {0:0.34, 1:0.66}, \n",
    "           {0:0.4, 1:0.6}, {0:0.33, 1:0.67}, \n",
    "           {0:0.4, 1:0.6}, {0:0.4, 1:0.6}, \n",
    "           {0:0.4, 1:0.6}, {0:0.4, 1:0.6}]]\n",
    "max_features = ['sqrt','log2'] \n",
    "grid = {'classifier__n_estimators': n_estimators,\n",
    "        'classifier__max_depth': max_depth,\n",
    "        'classifier__min_samples_split': min_samples_split,\n",
    "        'classifier__min_samples_leaf': min_samples_leaf,\n",
    "        'classifier__class_weight': weights,\n",
    "        'classifier__max_features': max_features,\n",
    "        'svd__n_components':[30,35,40]}"
   ]
  },
  {
   "cell_type": "code",
   "execution_count": 114,
   "metadata": {
    "scrolled": true
   },
   "outputs": [
    {
     "name": "stderr",
     "output_type": "stream",
     "text": [
      "C:\\Users\\DB Accountancy\\anaconda3\\lib\\site-packages\\sklearn\\utils\\validation.py:67: FutureWarning: Pass shuffle=True, random_state=0 as keyword args. From version 0.25 passing these as positional arguments will result in an error\n",
      "  warnings.warn(\"Pass {} as keyword args. From version 0.25 \"\n",
      "[Parallel(n_jobs=-1)]: Using backend LokyBackend with 8 concurrent workers.\n"
     ]
    },
    {
     "name": "stdout",
     "output_type": "stream",
     "text": [
      "-------------------------------------------------- \n",
      "\n",
      "Algorithm: Random forest\n",
      "    Inner loop:\n",
      "Fitting 2 folds for each of 96 candidates, totalling 192 fits\n"
     ]
    },
    {
     "name": "stderr",
     "output_type": "stream",
     "text": [
      "[Parallel(n_jobs=-1)]: Done  34 tasks      | elapsed:  1.4min\n",
      "[Parallel(n_jobs=-1)]: Done 192 out of 192 | elapsed:  6.2min finished\n"
     ]
    },
    {
     "name": "stdout",
     "output_type": "stream",
     "text": [
      "\n",
      "        Best Micro F1 score (inner test folds): 64.25%\n",
      "        Best parameters: {'classifier__class_weight': [{0: 0.32, 1: 0.68}, {0: 0.34, 1: 0.66}, {0: 0.4, 1: 0.6}, {0: 0.33, 1: 0.67}, {0: 0.4, 1: 0.6}, {0: 0.4, 1: 0.6}, {0: 0.4, 1: 0.6}, {0: 0.4, 1: 0.6}], 'classifier__max_depth': 50, 'classifier__max_features': 'sqrt', 'classifier__min_samples_leaf': 4, 'classifier__min_samples_split': 10, 'classifier__n_estimators': 800, 'svd__n_components': 40}\n",
      "        Micro F1 (on outer loop): 62.96%\n",
      "        Micro Recall (on outer loop): 70.61%\n",
      "        Micro Precision (on outer loop): 56.81%\n",
      "Fitting 2 folds for each of 96 candidates, totalling 192 fits\n"
     ]
    },
    {
     "name": "stderr",
     "output_type": "stream",
     "text": [
      "[Parallel(n_jobs=-1)]: Using backend LokyBackend with 8 concurrent workers.\n",
      "[Parallel(n_jobs=-1)]: Done  34 tasks      | elapsed:  1.3min\n",
      "[Parallel(n_jobs=-1)]: Done 192 out of 192 | elapsed:  6.3min finished\n"
     ]
    },
    {
     "name": "stdout",
     "output_type": "stream",
     "text": [
      "\n",
      "        Best Micro F1 score (inner test folds): 63.31%\n",
      "        Best parameters: {'classifier__class_weight': [{0: 0.32, 1: 0.68}, {0: 0.34, 1: 0.66}, {0: 0.4, 1: 0.6}, {0: 0.33, 1: 0.67}, {0: 0.4, 1: 0.6}, {0: 0.4, 1: 0.6}, {0: 0.4, 1: 0.6}, {0: 0.4, 1: 0.6}], 'classifier__max_depth': 50, 'classifier__max_features': 'log2', 'classifier__min_samples_leaf': 5, 'classifier__min_samples_split': 3, 'classifier__n_estimators': 800, 'svd__n_components': 30}\n",
      "        Micro F1 (on outer loop): 63.78%\n",
      "        Micro Recall (on outer loop): 77.64%\n",
      "        Micro Precision (on outer loop): 54.12%\n",
      "Fitting 2 folds for each of 96 candidates, totalling 192 fits\n"
     ]
    },
    {
     "name": "stderr",
     "output_type": "stream",
     "text": [
      "[Parallel(n_jobs=-1)]: Using backend LokyBackend with 8 concurrent workers.\n",
      "[Parallel(n_jobs=-1)]: Done  34 tasks      | elapsed:  1.2min\n",
      "[Parallel(n_jobs=-1)]: Done 192 out of 192 | elapsed:  5.7min finished\n"
     ]
    },
    {
     "name": "stdout",
     "output_type": "stream",
     "text": [
      "\n",
      "        Best Micro F1 score (inner test folds): 64.25%\n",
      "        Best parameters: {'classifier__class_weight': [{0: 0.32, 1: 0.68}, {0: 0.34, 1: 0.66}, {0: 0.4, 1: 0.6}, {0: 0.33, 1: 0.67}, {0: 0.4, 1: 0.6}, {0: 0.4, 1: 0.6}, {0: 0.4, 1: 0.6}, {0: 0.4, 1: 0.6}], 'classifier__max_depth': 50, 'classifier__max_features': 'log2', 'classifier__min_samples_leaf': 4, 'classifier__min_samples_split': 3, 'classifier__n_estimators': 800, 'svd__n_components': 30}\n",
      "        Micro F1 (on outer loop): 64.36%\n",
      "        Micro Recall (on outer loop): 69.93%\n",
      "        Micro Precision (on outer loop): 59.61%\n",
      "Fitting 2 folds for each of 96 candidates, totalling 192 fits\n"
     ]
    },
    {
     "name": "stderr",
     "output_type": "stream",
     "text": [
      "[Parallel(n_jobs=-1)]: Using backend LokyBackend with 8 concurrent workers.\n",
      "[Parallel(n_jobs=-1)]: Done  34 tasks      | elapsed:  1.1min\n",
      "[Parallel(n_jobs=-1)]: Done 192 out of 192 | elapsed:  5.6min finished\n"
     ]
    },
    {
     "name": "stdout",
     "output_type": "stream",
     "text": [
      "\n",
      "        Best Micro F1 score (inner test folds): 62.11%\n",
      "        Best parameters: {'classifier__class_weight': [{0: 0.32, 1: 0.68}, {0: 0.34, 1: 0.66}, {0: 0.3, 1: 0.7}, {0: 0.33, 1: 0.67}, {0: 0.3, 1: 0.7}, {0: 0.3, 1: 0.7}, {0: 0.3, 1: 0.7}, {0: 0.3, 1: 0.7}], 'classifier__max_depth': 50, 'classifier__max_features': 'sqrt', 'classifier__min_samples_leaf': 4, 'classifier__min_samples_split': 3, 'classifier__n_estimators': 800, 'svd__n_components': 30}\n",
      "        Micro F1 (on outer loop): 64.36%\n",
      "        Micro Recall (on outer loop): 71.02%\n",
      "        Micro Precision (on outer loop): 58.84%\n",
      "Fitting 2 folds for each of 96 candidates, totalling 192 fits\n"
     ]
    },
    {
     "name": "stderr",
     "output_type": "stream",
     "text": [
      "[Parallel(n_jobs=-1)]: Using backend LokyBackend with 8 concurrent workers.\n",
      "[Parallel(n_jobs=-1)]: Done  34 tasks      | elapsed:  1.1min\n",
      "[Parallel(n_jobs=-1)]: Done 192 out of 192 | elapsed:  6.0min finished\n"
     ]
    },
    {
     "name": "stdout",
     "output_type": "stream",
     "text": [
      "\n",
      "        Best Micro F1 score (inner test folds): 63.15%\n",
      "        Best parameters: {'classifier__class_weight': [{0: 0.32, 1: 0.68}, {0: 0.34, 1: 0.66}, {0: 0.3, 1: 0.7}, {0: 0.33, 1: 0.67}, {0: 0.3, 1: 0.7}, {0: 0.3, 1: 0.7}, {0: 0.3, 1: 0.7}, {0: 0.3, 1: 0.7}], 'classifier__max_depth': 50, 'classifier__max_features': 'log2', 'classifier__min_samples_leaf': 4, 'classifier__min_samples_split': 10, 'classifier__n_estimators': 800, 'svd__n_components': 40}\n",
      "        Micro F1 (on outer loop): 68.03%\n",
      "        Micro Recall (on outer loop): 79.05%\n",
      "        Micro Precision (on outer loop): 59.71%\n",
      "\n",
      "    Average over all folds:\n",
      "        Micro F1 64.70% +/- 1.74\n",
      "        Micro Recall 73.65% +/- 3.87\n",
      "        Micro Precision 57.82% +/- 2.12\n",
      "        Hamming 10.89% +/- 0.67\n",
      "        Accuracy 60.76% +/- 1.51\n"
     ]
    }
   ],
   "source": [
    "RF.perform_nested_CV(grid, inner_splits=2)"
   ]
  },
  {
   "cell_type": "markdown",
   "metadata": {},
   "source": [
    "### 2.4.7 XGBOOST with TF-IDF"
   ]
  },
  {
   "cell_type": "code",
   "execution_count": 132,
   "metadata": {},
   "outputs": [],
   "source": [
    "# set up\n",
    "lsa = TruncatedSVD(random_state=0, n_iter=100)\n",
    "clf = ClassifierChain(xgb.XGBClassifier(objective = \"binary:logistic\", eval_metric = 'aucpr', \n",
    "                                                        use_label_encoder=False, seed=0))\n",
    "pipe = Pipeline([('svd', lsa),\n",
    "                ('classifier', clf)])\n",
    "XGB = Model_eval(dtm.tfidf, dtm.Y,\n",
    "                pipe,\n",
    "                'Random forest', \n",
    "               metrics)"
   ]
  },
  {
   "cell_type": "code",
   "execution_count": 133,
   "metadata": {},
   "outputs": [],
   "source": [
    "# parameter space\n",
    "space={ 'max_depth': hp.quniform(\"max_depth\", 2, 50, 1),\n",
    "        'gamma': hp.uniform ('gamma', 1,9),\n",
    "        'colsample_bytree' : hp.uniform('colsample_bytree', 0.5,1),\n",
    "        'scale_pos_weight' : hp.uniform('scale_pos_weight', 0,5),\n",
    "        'n_estimators': hp.quniform('n_estimators', 100,1000,50),\n",
    "        'learning_rate': hp.uniform('learning_rate', 0.001, 0.2),\n",
    "        'min_child_weight' : hp.quniform('min_child_weight', 0, 10, 1),\n",
    "        'n_components': hp.quniform('n_components', 10,500, 20),\n",
    "        'seed': 0\n",
    "    }"
   ]
  },
  {
   "cell_type": "code",
   "execution_count": 118,
   "metadata": {
    "scrolled": true
   },
   "outputs": [
    {
     "name": "stdout",
     "output_type": "stream",
     "text": [
      "\r",
      "  0%|                                                                           | 0/30 [00:00<?, ?trial/s, best loss=?]"
     ]
    },
    {
     "name": "stderr",
     "output_type": "stream",
     "text": [
      "C:\\Users\\DB Accountancy\\anaconda3\\lib\\site-packages\\sklearn\\utils\\validation.py:67: FutureWarning: Pass shuffle=True, random_state=0 as keyword args. From version 0.25 passing these as positional arguments will result in an error\n",
      "  warnings.warn(\"Pass {} as keyword args. From version 0.25 \"\n"
     ]
    },
    {
     "name": "stdout",
     "output_type": "stream",
     "text": [
      "100%|███████████████████████████████████████████████| 30/30 [07:47<00:00, 15.58s/trial, best loss: -0.5951134380453753]\n",
      "Score on inner loop 0.5951134380453753 \n",
      " {'colsample_bytree': 0.9053987618285813, 'gamma': 6.3343728296824064, 'learning_rate': 0.02907983551061663, 'max_depth': 23, 'min_child_weight': 8.0, 'n_estimators': 150, 'scale_pos_weight': 2.177849903534753, 'n_components': 220}\n",
      "\n",
      "100%|████████████████████████████████████████████████| 30/30 [06:55<00:00, 13.85s/trial, best loss: -0.615111111111111]\n",
      "Score on inner loop 0.615111111111111 \n",
      " {'colsample_bytree': 0.7105887012769158, 'gamma': 6.772875350693135, 'learning_rate': 0.12309449492551033, 'max_depth': 12, 'min_child_weight': 7.0, 'n_estimators': 300, 'scale_pos_weight': 2.2229417914040996, 'n_components': 140}\n",
      "\n",
      "Best hyperparameters found in inner loop\n",
      "{'colsample_bytree': 0.7105887012769158, 'gamma': 6.772875350693135, 'learning_rate': 0.12309449492551033, 'max_depth': 12, 'min_child_weight': 7.0, 'n_estimators': 300, 'scale_pos_weight': 2.2229417914040996, 'n_components': 140}\n",
      "\n",
      "\n",
      "Performance on the outer test fold:\n",
      "        Micro F1 (on outer loop): 66.54%\n",
      "        Micro Recall (on outer loop): 66.99%\n",
      "        Micro Precision (on outer loop): 66.10%\n",
      "\n",
      "100%|███████████████████████████████████████████████| 30/30 [09:50<00:00, 19.70s/trial, best loss: -0.5669160432252702]\n",
      "Score on inner loop 0.5669160432252702 \n",
      " {'colsample_bytree': 0.645757691975984, 'gamma': 5.7008222973152725, 'learning_rate': 0.03899125604397143, 'max_depth': 28, 'min_child_weight': 8.0, 'n_estimators': 400, 'scale_pos_weight': 2.5794960214102836, 'n_components': 220}\n",
      "\n",
      "100%|███████████████████████████████████████████████| 30/30 [07:39<00:00, 15.32s/trial, best loss: -0.5756013745704468]\n",
      "Score on inner loop 0.5756013745704468 \n",
      " {'colsample_bytree': 0.6270632139766859, 'gamma': 8.19764425196349, 'learning_rate': 0.14681649535832383, 'max_depth': 17, 'min_child_weight': 10.0, 'n_estimators': 300, 'scale_pos_weight': 2.5607983885155976, 'n_components': 180}\n",
      "\n",
      "Best hyperparameters found in inner loop\n",
      "{'colsample_bytree': 0.6270632139766859, 'gamma': 8.19764425196349, 'learning_rate': 0.14681649535832383, 'max_depth': 17, 'min_child_weight': 10.0, 'n_estimators': 300, 'scale_pos_weight': 2.5607983885155976, 'n_components': 180}\n",
      "\n",
      "\n",
      "Performance on the outer test fold:\n",
      "        Micro F1 (on outer loop): 62.39%\n",
      "        Micro Recall (on outer loop): 63.41%\n",
      "        Micro Precision (on outer loop): 61.41%\n",
      "\n",
      "100%|███████████████████████████████████████████████| 30/30 [07:29<00:00, 14.99s/trial, best loss: -0.6240458015267175]\n",
      "Score on inner loop 0.6240458015267175 \n",
      " {'colsample_bytree': 0.600903398568898, 'gamma': 2.533916044838631, 'learning_rate': 0.17453078130697075, 'max_depth': 16, 'min_child_weight': 9.0, 'n_estimators': 250, 'scale_pos_weight': 4.595058665499249, 'n_components': 60}\n",
      "\n",
      "100%|███████████████████████████████████████████████| 30/30 [06:18<00:00, 12.63s/trial, best loss: -0.6369668246445497]\n",
      "Score on inner loop 0.6369668246445497 \n",
      " {'colsample_bytree': 0.9920595377783666, 'gamma': 1.0869415404836995, 'learning_rate': 0.187701262239788, 'max_depth': 48, 'min_child_weight': 10.0, 'n_estimators': 150, 'scale_pos_weight': 2.7581581232541756, 'n_components': 200}\n",
      "\n",
      "Best hyperparameters found in inner loop\n",
      "{'colsample_bytree': 0.9920595377783666, 'gamma': 1.0869415404836995, 'learning_rate': 0.187701262239788, 'max_depth': 48, 'min_child_weight': 10.0, 'n_estimators': 150, 'scale_pos_weight': 2.7581581232541756, 'n_components': 200}\n",
      "\n",
      "\n",
      "Performance on the outer test fold:\n",
      "        Micro F1 (on outer loop): 59.65%\n",
      "        Micro Recall (on outer loop): 54.89%\n",
      "        Micro Precision (on outer loop): 65.30%\n",
      "\n",
      "\n",
      "    Average over all folds:\n",
      "        Micro F1 62.86% +/- 2.83\n",
      "        Micro Recall 61.76% +/- 5.07\n",
      "        Micro Precision 64.27% +/- 2.05\n",
      "        Hamming 9.85% +/- 0.56\n",
      "        Accuracy 68.26% +/- 0.60\n"
     ]
    }
   ],
   "source": [
    "XGB.perform_bayesian_opt_pre(space,max_evals=30, lsa=True)"
   ]
  },
  {
   "cell_type": "markdown",
   "metadata": {},
   "source": [
    "## 2.5 Latent Dirichlet Allocation (LDA)"
   ]
  },
  {
   "cell_type": "code",
   "execution_count": 26,
   "metadata": {},
   "outputs": [],
   "source": [
    "# make data in required format for gensim package\n",
    "data = []\n",
    "for text in body['clean_text_lemma']:\n",
    "    data.append(simple_preprocess(text))"
   ]
  },
  {
   "cell_type": "code",
   "execution_count": 27,
   "metadata": {
    "scrolled": true
   },
   "outputs": [
    {
     "name": "stdout",
     "output_type": "stream",
     "text": [
      "20 0.438650308867781\n",
      "25 0.4496447296303197\n",
      "30 0.4414422672675098\n",
      "35 0.44714394719582873\n",
      "40 0.4374228775262443\n",
      "45 0.4389973105496504\n",
      "50 0.4232393222230333\n",
      "55 0.4283890401610936\n",
      "60 0.4198187221399972\n",
      "65 0.4109262740409232\n",
      "70 0.4132593460390563\n",
      "75 0.4007088575245668\n",
      "80 0.42020335366657535\n",
      "85 0.4052701165764751\n",
      "90 0.40043730872173666\n",
      "95 0.4012332992077816\n",
      "100 0.3906585313866303\n",
      "105 0.40829648811627695\n",
      "110 0.39502516340212135\n",
      "115 0.4061068911703274\n",
      "120 0.38531453724452774\n",
      "125 0.3900807904226289\n",
      "130 0.38722444194437783\n",
      "135 0.3901025583007207\n",
      "140 0.3841743762535204\n",
      "145 0.39613678640578043\n",
      "150 0.3982726830075572\n",
      "155 0.42969309629461\n",
      "160 0.42552323129321046\n",
      "165 0.38853533974103033\n",
      "170 0.4163897285731032\n",
      "175 0.4166158828375537\n",
      "180 0.44627674456121663\n",
      "185 0.4141931750808759\n",
      "190 0.4357680936225781\n",
      "195 0.4613654489616092\n"
     ]
    }
   ],
   "source": [
    "# find number of topics with best coherence score \n",
    "id2word = corpora.Dictionary(data)\n",
    "doc_term_matrix = [id2word.doc2bow(doc) for doc in data]\n",
    "values = {}\n",
    "for n in range(20,200,5):\n",
    "    lda = LdaModel(doc_term_matrix, num_topics=n, id2word = id2word)\n",
    "    coherence_model_lda = CoherenceModel(model=lda, \n",
    "                                     texts=data, \n",
    "                                     dictionary=id2word, coherence='c_v')\n",
    "    values[n] = coherence_model_lda.get_coherence()\n",
    "    print(n,coherence_model_lda.get_coherence())\n"
   ]
  },
  {
   "cell_type": "markdown",
   "metadata": {},
   "source": [
    "### 2.5.1 Naive bayes with BOW"
   ]
  },
  {
   "cell_type": "code",
   "execution_count": 48,
   "metadata": {},
   "outputs": [],
   "source": [
    "# set up\n",
    "lda = LatentDirichletAllocation(random_state=0, max_iter=100)\n",
    "clf =  ClassifierChain(GaussianNB(), order = 'random', random_state=0)\n",
    "pipe = Pipeline([('svd', lda),\n",
    "                ('classifier', clf)])\n",
    "GNB = Model_eval(dtm.bow, dtm.Y, \n",
    "                 pipe,\n",
    "                 'Gaussian Naive Bayes',\n",
    "                 metrics)"
   ]
  },
  {
   "cell_type": "code",
   "execution_count": 49,
   "metadata": {},
   "outputs": [],
   "source": [
    "# parameters\n",
    "grid = {'svd__n_components':[x for x in range(10,200,5)]}"
   ]
  },
  {
   "cell_type": "code",
   "execution_count": 50,
   "metadata": {
    "scrolled": true
   },
   "outputs": [
    {
     "name": "stderr",
     "output_type": "stream",
     "text": [
      "C:\\Users\\DB Accountancy\\anaconda3\\lib\\site-packages\\sklearn\\utils\\validation.py:67: FutureWarning: Pass shuffle=True, random_state=0 as keyword args. From version 0.25 passing these as positional arguments will result in an error\n",
      "  warnings.warn(\"Pass {} as keyword args. From version 0.25 \"\n",
      "[Parallel(n_jobs=-1)]: Using backend LokyBackend with 8 concurrent workers.\n"
     ]
    },
    {
     "name": "stdout",
     "output_type": "stream",
     "text": [
      "-------------------------------------------------- \n",
      "\n",
      "Algorithm: Gaussian Naive Bayes\n",
      "    Inner loop:\n",
      "Fitting 2 folds for each of 38 candidates, totalling 76 fits\n"
     ]
    },
    {
     "name": "stderr",
     "output_type": "stream",
     "text": [
      "[Parallel(n_jobs=-1)]: Done  34 tasks      | elapsed:  3.3min\n",
      "[Parallel(n_jobs=-1)]: Done  76 out of  76 | elapsed:  8.1min finished\n"
     ]
    },
    {
     "name": "stdout",
     "output_type": "stream",
     "text": [
      "\n",
      "        Best Micro F1 score (inner test folds): 52.50%\n",
      "        Best parameters: {'svd__n_components': 175}\n",
      "        Micro F1 (on outer loop): 47.72%\n",
      "        Micro Recall (on outer loop): 60.06%\n",
      "        Micro Precision (on outer loop): 39.58%\n",
      "Fitting 2 folds for each of 38 candidates, totalling 76 fits\n"
     ]
    },
    {
     "name": "stderr",
     "output_type": "stream",
     "text": [
      "[Parallel(n_jobs=-1)]: Using backend LokyBackend with 8 concurrent workers.\n",
      "[Parallel(n_jobs=-1)]: Done  34 tasks      | elapsed:  3.2min\n",
      "[Parallel(n_jobs=-1)]: Done  76 out of  76 | elapsed:  7.8min finished\n"
     ]
    },
    {
     "name": "stdout",
     "output_type": "stream",
     "text": [
      "\n",
      "        Best Micro F1 score (inner test folds): 54.53%\n",
      "        Best parameters: {'svd__n_components': 175}\n",
      "        Micro F1 (on outer loop): 51.63%\n",
      "        Micro Recall (on outer loop): 73.16%\n",
      "        Micro Precision (on outer loop): 39.90%\n",
      "Fitting 2 folds for each of 38 candidates, totalling 76 fits\n"
     ]
    },
    {
     "name": "stderr",
     "output_type": "stream",
     "text": [
      "[Parallel(n_jobs=-1)]: Using backend LokyBackend with 8 concurrent workers.\n",
      "[Parallel(n_jobs=-1)]: Done  34 tasks      | elapsed:  3.2min\n",
      "[Parallel(n_jobs=-1)]: Done  76 out of  76 | elapsed:  7.9min finished\n"
     ]
    },
    {
     "name": "stdout",
     "output_type": "stream",
     "text": [
      "\n",
      "        Best Micro F1 score (inner test folds): 52.09%\n",
      "        Best parameters: {'svd__n_components': 185}\n",
      "        Micro F1 (on outer loop): 46.43%\n",
      "        Micro Recall (on outer loop): 62.75%\n",
      "        Micro Precision (on outer loop): 36.85%\n",
      "Fitting 2 folds for each of 38 candidates, totalling 76 fits\n"
     ]
    },
    {
     "name": "stderr",
     "output_type": "stream",
     "text": [
      "[Parallel(n_jobs=-1)]: Using backend LokyBackend with 8 concurrent workers.\n",
      "[Parallel(n_jobs=-1)]: Done  34 tasks      | elapsed:  3.2min\n",
      "[Parallel(n_jobs=-1)]: Done  76 out of  76 | elapsed:  7.9min finished\n"
     ]
    },
    {
     "name": "stdout",
     "output_type": "stream",
     "text": [
      "\n",
      "        Best Micro F1 score (inner test folds): 53.88%\n",
      "        Best parameters: {'svd__n_components': 125}\n",
      "        Micro F1 (on outer loop): 47.46%\n",
      "        Micro Recall (on outer loop): 78.98%\n",
      "        Micro Precision (on outer loop): 33.93%\n",
      "Fitting 2 folds for each of 38 candidates, totalling 76 fits\n"
     ]
    },
    {
     "name": "stderr",
     "output_type": "stream",
     "text": [
      "[Parallel(n_jobs=-1)]: Using backend LokyBackend with 8 concurrent workers.\n",
      "[Parallel(n_jobs=-1)]: Done  34 tasks      | elapsed:  3.2min\n",
      "[Parallel(n_jobs=-1)]: Done  76 out of  76 | elapsed:  7.8min finished\n"
     ]
    },
    {
     "name": "stdout",
     "output_type": "stream",
     "text": [
      "\n",
      "        Best Micro F1 score (inner test folds): 51.81%\n",
      "        Best parameters: {'svd__n_components': 115}\n",
      "        Micro F1 (on outer loop): 47.35%\n",
      "        Micro Recall (on outer loop): 70.79%\n",
      "        Micro Precision (on outer loop): 35.57%\n",
      "\n",
      "    Average over all folds:\n",
      "        Micro F1 48.12% +/- 1.81\n",
      "        Micro Recall 69.15% +/- 6.91\n",
      "        Micro Precision 37.16% +/- 2.30\n",
      "        Hamming 20.22% +/- 2.18\n",
      "        Accuracy 40.49% +/- 7.50\n"
     ]
    }
   ],
   "source": [
    "GNB.perform_nested_CV(grid, inner_splits=2)"
   ]
  },
  {
   "cell_type": "markdown",
   "metadata": {},
   "source": [
    "### 2.5.2 Random forest with BOW"
   ]
  },
  {
   "cell_type": "code",
   "execution_count": 52,
   "metadata": {},
   "outputs": [],
   "source": [
    "# set-up\n",
    "lda = LatentDirichletAllocation(random_state=0, max_iter=100)\n",
    "clf = RandomForestClassifier(n_jobs=-1, random_state=0)\n",
    "pipe = Pipeline([('svd', lda),\n",
    "                ('classifier', clf)])\n",
    "RF = Model_eval(dtm.bow, dtm.Y,\n",
    "                pipe,\n",
    "                'Random forest', \n",
    "                 metrics)"
   ]
  },
  {
   "cell_type": "code",
   "execution_count": 121,
   "metadata": {},
   "outputs": [],
   "source": [
    "# parameters\n",
    "n_estimators = [100,200, 300, 400, 500, 800, 1000, 1500]\n",
    "max_depth = [2, 5, 10, 15, 20, 50, 70, 100] \n",
    "min_samples_split = [2, 3, 4, 5, 10, 15, 20]\n",
    "min_samples_leaf = [2, 3, 4 ,5, 10, 15, 20]\n",
    "weights = [[{0:0.32, 1:0.68}, {0:0.34, 1:0.66}, \n",
    "           {0:0.3, 1:0.7}, {0:0.33, 1:0.67}, \n",
    "           {0:0.3, 1:0.7}, {0:0.3, 1:0.7}, \n",
    "           {0:0.3, 1:0.7}, {0:0.3, 1:0.7}], \n",
    "           [{0:0.32, 1:0.68}, {0:0.34, 1:0.66}, \n",
    "           {0:0.4, 1:0.6}, {0:0.33, 1:0.67}, \n",
    "           {0:0.4, 1:0.6}, {0:0.4, 1:0.6}, \n",
    "           {0:0.4, 1:0.6}, {0:0.4, 1:0.6}],\n",
    "           [{0:0.32, 1:0.68}, {0:0.34, 1:0.66}, \n",
    "           {0:0.2, 1:0.8}, {0:0.33, 1:0.67}, \n",
    "           {0:0.2, 1:0.8}, {0:0.2, 1:0.8}, \n",
    "           {0:0.2, 1:0.8}, {0:0.2, 1:0.8}],\n",
    "           [{0:0.32, 1:0.68}, {0:0.34, 1:0.66}, \n",
    "           {0:0.1, 1:0.9}, {0:0.33, 1:0.67}, \n",
    "           {0:0.1, 1:0.9}, {0:0.1, 1:0.9}, \n",
    "           {0:0.1, 1:0.9}, {0:0.1, 1:0.9}],\n",
    "           [{0:0.32, 1:0.68}, {0:0.34, 1:0.66}, \n",
    "           {0:0.01, 1:0.99}, {0:0.33, 1:0.67}, \n",
    "           {0:0.01, 1:0.99}, {0:0.01, 1:0.99}, \n",
    "           {0:0.01, 1:0.99}, {0:0.01, 1:0.99}]]\n",
    "grid = {'classifier__n_estimators': n_estimators,\n",
    "        'classifier__max_depth': max_depth,\n",
    "        'classifier__min_samples_split': min_samples_split,\n",
    "        'classifier__min_samples_leaf': min_samples_leaf,\n",
    "        'classifier__class_weight': weights,\n",
    "        'svd__n_components':[20,25,30,35,40,50,100,200,300, 400],\n",
    "        'svd__doc_topic_prior':[0.05,0.1,0.5,1],\n",
    "        'svd__topic_word_prior': [0.05,0.1,0.5,1]}"
   ]
  },
  {
   "cell_type": "code",
   "execution_count": 122,
   "metadata": {
    "scrolled": true
   },
   "outputs": [
    {
     "name": "stderr",
     "output_type": "stream",
     "text": [
      "C:\\Users\\DB Accountancy\\anaconda3\\lib\\site-packages\\sklearn\\utils\\validation.py:67: FutureWarning: Pass shuffle=True, random_state=0 as keyword args. From version 0.25 passing these as positional arguments will result in an error\n",
      "  warnings.warn(\"Pass {} as keyword args. From version 0.25 \"\n",
      "[Parallel(n_jobs=-1)]: Using backend LokyBackend with 8 concurrent workers.\n"
     ]
    },
    {
     "name": "stdout",
     "output_type": "stream",
     "text": [
      "-------------------------------------------------- \n",
      "\n",
      "Algorithm: Random forest\n",
      "    Inner loop:\n",
      "Fitting 2 folds for each of 100 candidates, totalling 200 fits\n"
     ]
    },
    {
     "name": "stderr",
     "output_type": "stream",
     "text": [
      "[Parallel(n_jobs=-1)]: Done  34 tasks      | elapsed:  4.0min\n",
      "[Parallel(n_jobs=-1)]: Done 184 tasks      | elapsed: 22.6min\n",
      "[Parallel(n_jobs=-1)]: Done 200 out of 200 | elapsed: 25.6min finished\n"
     ]
    },
    {
     "name": "stdout",
     "output_type": "stream",
     "text": [
      "\n",
      "        Best Micro F1 score (inner test folds): 56.52%\n",
      "        Best parameters: {'svd__topic_word_prior': 0.05, 'svd__n_components': 200, 'svd__doc_topic_prior': 0.5, 'classifier__n_estimators': 300, 'classifier__min_samples_split': 3, 'classifier__min_samples_leaf': 3, 'classifier__max_depth': 15, 'classifier__class_weight': [{0: 0.32, 1: 0.68}, {0: 0.34, 1: 0.66}, {0: 0.4, 1: 0.6}, {0: 0.33, 1: 0.67}, {0: 0.4, 1: 0.6}, {0: 0.4, 1: 0.6}, {0: 0.4, 1: 0.6}, {0: 0.4, 1: 0.6}]}\n",
      "        Micro F1 (on outer loop): 55.36%\n",
      "Fitting 2 folds for each of 100 candidates, totalling 200 fits\n"
     ]
    },
    {
     "name": "stderr",
     "output_type": "stream",
     "text": [
      "[Parallel(n_jobs=-1)]: Using backend LokyBackend with 8 concurrent workers.\n",
      "[Parallel(n_jobs=-1)]: Done  34 tasks      | elapsed:  6.6min\n",
      "[Parallel(n_jobs=-1)]: Done 184 tasks      | elapsed: 30.5min\n",
      "[Parallel(n_jobs=-1)]: Done 200 out of 200 | elapsed: 32.8min finished\n"
     ]
    },
    {
     "name": "stdout",
     "output_type": "stream",
     "text": [
      "\n",
      "        Best Micro F1 score (inner test folds): 59.44%\n",
      "        Best parameters: {'svd__topic_word_prior': 0.05, 'svd__n_components': 40, 'svd__doc_topic_prior': 1, 'classifier__n_estimators': 400, 'classifier__min_samples_split': 4, 'classifier__min_samples_leaf': 5, 'classifier__max_depth': 50, 'classifier__class_weight': [{0: 0.32, 1: 0.68}, {0: 0.34, 1: 0.66}, {0: 0.4, 1: 0.6}, {0: 0.33, 1: 0.67}, {0: 0.4, 1: 0.6}, {0: 0.4, 1: 0.6}, {0: 0.4, 1: 0.6}, {0: 0.4, 1: 0.6}]}\n",
      "        Micro F1 (on outer loop): 61.01%\n",
      "Fitting 2 folds for each of 100 candidates, totalling 200 fits\n"
     ]
    },
    {
     "name": "stderr",
     "output_type": "stream",
     "text": [
      "[Parallel(n_jobs=-1)]: Using backend LokyBackend with 8 concurrent workers.\n",
      "[Parallel(n_jobs=-1)]: Done  34 tasks      | elapsed:  6.9min\n",
      "[Parallel(n_jobs=-1)]: Done 184 tasks      | elapsed: 33.2min\n",
      "[Parallel(n_jobs=-1)]: Done 200 out of 200 | elapsed: 35.8min finished\n"
     ]
    },
    {
     "name": "stdout",
     "output_type": "stream",
     "text": [
      "\n",
      "        Best Micro F1 score (inner test folds): 57.77%\n",
      "        Best parameters: {'svd__topic_word_prior': 0.05, 'svd__n_components': 20, 'svd__doc_topic_prior': 0.5, 'classifier__n_estimators': 400, 'classifier__min_samples_split': 15, 'classifier__min_samples_leaf': 5, 'classifier__max_depth': 70, 'classifier__class_weight': [{0: 0.32, 1: 0.68}, {0: 0.34, 1: 0.66}, {0: 0.4, 1: 0.6}, {0: 0.33, 1: 0.67}, {0: 0.4, 1: 0.6}, {0: 0.4, 1: 0.6}, {0: 0.4, 1: 0.6}, {0: 0.4, 1: 0.6}]}\n",
      "        Micro F1 (on outer loop): 61.29%\n",
      "Fitting 2 folds for each of 100 candidates, totalling 200 fits\n"
     ]
    },
    {
     "name": "stderr",
     "output_type": "stream",
     "text": [
      "[Parallel(n_jobs=-1)]: Using backend LokyBackend with 8 concurrent workers.\n",
      "[Parallel(n_jobs=-1)]: Done  34 tasks      | elapsed:  6.2min\n",
      "[Parallel(n_jobs=-1)]: Done 184 tasks      | elapsed: 30.3min\n",
      "[Parallel(n_jobs=-1)]: Done 200 out of 200 | elapsed: 31.9min finished\n"
     ]
    },
    {
     "name": "stdout",
     "output_type": "stream",
     "text": [
      "\n",
      "        Best Micro F1 score (inner test folds): 55.42%\n",
      "        Best parameters: {'svd__topic_word_prior': 0.1, 'svd__n_components': 30, 'svd__doc_topic_prior': 1, 'classifier__n_estimators': 1500, 'classifier__min_samples_split': 5, 'classifier__min_samples_leaf': 2, 'classifier__max_depth': 20, 'classifier__class_weight': [{0: 0.32, 1: 0.68}, {0: 0.34, 1: 0.66}, {0: 0.1, 1: 0.9}, {0: 0.33, 1: 0.67}, {0: 0.1, 1: 0.9}, {0: 0.1, 1: 0.9}, {0: 0.1, 1: 0.9}, {0: 0.1, 1: 0.9}]}\n",
      "        Micro F1 (on outer loop): 60.37%\n",
      "Fitting 2 folds for each of 100 candidates, totalling 200 fits\n"
     ]
    },
    {
     "name": "stderr",
     "output_type": "stream",
     "text": [
      "[Parallel(n_jobs=-1)]: Using backend LokyBackend with 8 concurrent workers.\n",
      "[Parallel(n_jobs=-1)]: Done  34 tasks      | elapsed:  4.2min\n",
      "[Parallel(n_jobs=-1)]: Done 184 tasks      | elapsed: 22.8min\n",
      "[Parallel(n_jobs=-1)]: Done 200 out of 200 | elapsed: 24.5min finished\n"
     ]
    },
    {
     "name": "stdout",
     "output_type": "stream",
     "text": [
      "\n",
      "        Best Micro F1 score (inner test folds): 55.92%\n",
      "        Best parameters: {'svd__topic_word_prior': 0.1, 'svd__n_components': 35, 'svd__doc_topic_prior': 1, 'classifier__n_estimators': 300, 'classifier__min_samples_split': 10, 'classifier__min_samples_leaf': 3, 'classifier__max_depth': 100, 'classifier__class_weight': [{0: 0.32, 1: 0.68}, {0: 0.34, 1: 0.66}, {0: 0.3, 1: 0.7}, {0: 0.33, 1: 0.67}, {0: 0.3, 1: 0.7}, {0: 0.3, 1: 0.7}, {0: 0.3, 1: 0.7}, {0: 0.3, 1: 0.7}]}\n",
      "        Micro F1 (on outer loop): 62.14%\n",
      "\n",
      "    Average over all folds:\n",
      "        Micro F1 60.03% +/- 2.40\n",
      "        Micro Recall 69.79% +/- 4.29\n",
      "        Micro Precision 52.91% +/- 3.55\n",
      "        Hamming 12.60% +/- 1.13\n",
      "        Accuracy 56.25% +/- 3.12\n"
     ]
    }
   ],
   "source": [
    "RF.perform_nested_CV(grid, inner_splits=2, random=True, iterations=100)"
   ]
  },
  {
   "cell_type": "code",
   "execution_count": 55,
   "metadata": {},
   "outputs": [],
   "source": [
    "# more specific parameter grid\n",
    "n_estimators = [1500]\n",
    "max_depth = [20, 70] \n",
    "min_samples_split = [3, 15]\n",
    "min_samples_leaf = [2, 5]\n",
    "weights = [[{0:0.32, 1:0.68}, {0:0.34, 1:0.66}, \n",
    "           {0:0.4, 1:0.6}, {0:0.33, 1:0.67}, \n",
    "           {0:0.4, 1:0.6}, {0:0.4, 1:0.6}, \n",
    "           {0:0.4, 1:0.6}, {0:0.4, 1:0.6}],\n",
    "          [{0:0.32, 1:0.68}, {0:0.34, 1:0.66}, \n",
    "           {0:0.3, 1:0.7}, {0:0.33, 1:0.67}, \n",
    "           {0:0.3, 1:0.7}, {0:0.3, 1:0.7}, \n",
    "           {0:0.3, 1:0.7}, {0:0.3, 1:0.7}]]\n",
    "max_features = ['auto','log2']\n",
    "grid = {'classifier__n_estimators': n_estimators,\n",
    "        'classifier__max_depth': max_depth,\n",
    "        'classifier__min_samples_split': min_samples_split,\n",
    "        'classifier__min_samples_leaf': min_samples_leaf,\n",
    "        'classifier__class_weight': weights,\n",
    "        'classifier__max_features': max_features,\n",
    "        'svd__n_components':[30,40,200],\n",
    "        'svd__doc_topic_prior':[0.05],\n",
    "        'svd__topic_word_prior': [0.1]}"
   ]
  },
  {
   "cell_type": "code",
   "execution_count": 56,
   "metadata": {
    "scrolled": true
   },
   "outputs": [
    {
     "name": "stderr",
     "output_type": "stream",
     "text": [
      "C:\\Users\\DB Accountancy\\anaconda3\\lib\\site-packages\\sklearn\\utils\\validation.py:67: FutureWarning: Pass shuffle=True, random_state=0 as keyword args. From version 0.25 passing these as positional arguments will result in an error\n",
      "  warnings.warn(\"Pass {} as keyword args. From version 0.25 \"\n",
      "[Parallel(n_jobs=-1)]: Using backend LokyBackend with 8 concurrent workers.\n"
     ]
    },
    {
     "name": "stdout",
     "output_type": "stream",
     "text": [
      "-------------------------------------------------- \n",
      "\n",
      "Algorithm: Random forest\n",
      "    Inner loop:\n",
      "Fitting 2 folds for each of 96 candidates, totalling 192 fits\n"
     ]
    },
    {
     "name": "stderr",
     "output_type": "stream",
     "text": [
      "[Parallel(n_jobs=-1)]: Done  34 tasks      | elapsed:  4.6min\n",
      "[Parallel(n_jobs=-1)]: Done 192 out of 192 | elapsed: 22.5min finished\n"
     ]
    },
    {
     "name": "stdout",
     "output_type": "stream",
     "text": [
      "\n",
      "        Best Micro F1 score (inner test folds): 53.56%\n",
      "        Best parameters: {'classifier__class_weight': [{0: 0.32, 1: 0.68}, {0: 0.34, 1: 0.66}, {0: 0.4, 1: 0.6}, {0: 0.33, 1: 0.67}, {0: 0.4, 1: 0.6}, {0: 0.4, 1: 0.6}, {0: 0.4, 1: 0.6}, {0: 0.4, 1: 0.6}], 'classifier__max_depth': 20, 'classifier__max_features': 'auto', 'classifier__min_samples_leaf': 2, 'classifier__min_samples_split': 3, 'classifier__n_estimators': 1500, 'svd__doc_topic_prior': 0.05, 'svd__n_components': 40, 'svd__topic_word_prior': 0.1}\n",
      "        Micro F1 (on outer loop): 50.81%\n",
      "        Micro Recall (on outer loop): 69.97%\n",
      "        Micro Precision (on outer loop): 39.89%\n",
      "Fitting 2 folds for each of 96 candidates, totalling 192 fits\n"
     ]
    },
    {
     "name": "stderr",
     "output_type": "stream",
     "text": [
      "[Parallel(n_jobs=-1)]: Using backend LokyBackend with 8 concurrent workers.\n",
      "[Parallel(n_jobs=-1)]: Done  34 tasks      | elapsed:  3.8min\n",
      "[Parallel(n_jobs=-1)]: Done 192 out of 192 | elapsed: 20.4min finished\n"
     ]
    },
    {
     "name": "stdout",
     "output_type": "stream",
     "text": [
      "\n",
      "        Best Micro F1 score (inner test folds): 54.16%\n",
      "        Best parameters: {'classifier__class_weight': [{0: 0.32, 1: 0.68}, {0: 0.34, 1: 0.66}, {0: 0.4, 1: 0.6}, {0: 0.33, 1: 0.67}, {0: 0.4, 1: 0.6}, {0: 0.4, 1: 0.6}, {0: 0.4, 1: 0.6}, {0: 0.4, 1: 0.6}], 'classifier__max_depth': 70, 'classifier__max_features': 'auto', 'classifier__min_samples_leaf': 2, 'classifier__min_samples_split': 15, 'classifier__n_estimators': 1500, 'svd__doc_topic_prior': 0.05, 'svd__n_components': 40, 'svd__topic_word_prior': 0.1}\n",
      "        Micro F1 (on outer loop): 54.48%\n",
      "        Micro Recall (on outer loop): 75.72%\n",
      "        Micro Precision (on outer loop): 42.55%\n",
      "Fitting 2 folds for each of 96 candidates, totalling 192 fits\n"
     ]
    },
    {
     "name": "stderr",
     "output_type": "stream",
     "text": [
      "[Parallel(n_jobs=-1)]: Using backend LokyBackend with 8 concurrent workers.\n",
      "[Parallel(n_jobs=-1)]: Done  34 tasks      | elapsed:  3.9min\n",
      "[Parallel(n_jobs=-1)]: Done 192 out of 192 | elapsed: 21.5min finished\n"
     ]
    },
    {
     "name": "stdout",
     "output_type": "stream",
     "text": [
      "\n",
      "        Best Micro F1 score (inner test folds): 54.13%\n",
      "        Best parameters: {'classifier__class_weight': [{0: 0.32, 1: 0.68}, {0: 0.34, 1: 0.66}, {0: 0.4, 1: 0.6}, {0: 0.33, 1: 0.67}, {0: 0.4, 1: 0.6}, {0: 0.4, 1: 0.6}, {0: 0.4, 1: 0.6}, {0: 0.4, 1: 0.6}], 'classifier__max_depth': 70, 'classifier__max_features': 'auto', 'classifier__min_samples_leaf': 2, 'classifier__min_samples_split': 3, 'classifier__n_estimators': 1500, 'svd__doc_topic_prior': 0.05, 'svd__n_components': 40, 'svd__topic_word_prior': 0.1}\n",
      "        Micro F1 (on outer loop): 54.61%\n",
      "        Micro Recall (on outer loop): 71.57%\n",
      "        Micro Precision (on outer loop): 44.15%\n",
      "Fitting 2 folds for each of 96 candidates, totalling 192 fits\n"
     ]
    },
    {
     "name": "stderr",
     "output_type": "stream",
     "text": [
      "[Parallel(n_jobs=-1)]: Using backend LokyBackend with 8 concurrent workers.\n",
      "[Parallel(n_jobs=-1)]: Done  34 tasks      | elapsed:  3.9min\n",
      "[Parallel(n_jobs=-1)]: Done 192 out of 192 | elapsed: 21.7min finished\n"
     ]
    },
    {
     "name": "stdout",
     "output_type": "stream",
     "text": [
      "\n",
      "        Best Micro F1 score (inner test folds): 52.19%\n",
      "        Best parameters: {'classifier__class_weight': [{0: 0.32, 1: 0.68}, {0: 0.34, 1: 0.66}, {0: 0.4, 1: 0.6}, {0: 0.33, 1: 0.67}, {0: 0.4, 1: 0.6}, {0: 0.4, 1: 0.6}, {0: 0.4, 1: 0.6}, {0: 0.4, 1: 0.6}], 'classifier__max_depth': 20, 'classifier__max_features': 'auto', 'classifier__min_samples_leaf': 2, 'classifier__min_samples_split': 15, 'classifier__n_estimators': 1500, 'svd__doc_topic_prior': 0.05, 'svd__n_components': 30, 'svd__topic_word_prior': 0.1}\n",
      "        Micro F1 (on outer loop): 54.33%\n",
      "        Micro Recall (on outer loop): 80.89%\n",
      "        Micro Precision (on outer loop): 40.90%\n",
      "Fitting 2 folds for each of 96 candidates, totalling 192 fits\n"
     ]
    },
    {
     "name": "stderr",
     "output_type": "stream",
     "text": [
      "[Parallel(n_jobs=-1)]: Using backend LokyBackend with 8 concurrent workers.\n",
      "[Parallel(n_jobs=-1)]: Done  34 tasks      | elapsed:  4.1min\n",
      "[Parallel(n_jobs=-1)]: Done 192 out of 192 | elapsed: 21.1min finished\n"
     ]
    },
    {
     "name": "stdout",
     "output_type": "stream",
     "text": [
      "\n",
      "        Best Micro F1 score (inner test folds): 53.41%\n",
      "        Best parameters: {'classifier__class_weight': [{0: 0.32, 1: 0.68}, {0: 0.34, 1: 0.66}, {0: 0.4, 1: 0.6}, {0: 0.33, 1: 0.67}, {0: 0.4, 1: 0.6}, {0: 0.4, 1: 0.6}, {0: 0.4, 1: 0.6}, {0: 0.4, 1: 0.6}], 'classifier__max_depth': 20, 'classifier__max_features': 'auto', 'classifier__min_samples_leaf': 2, 'classifier__min_samples_split': 3, 'classifier__n_estimators': 1500, 'svd__doc_topic_prior': 0.05, 'svd__n_components': 40, 'svd__topic_word_prior': 0.1}\n",
      "        Micro F1 (on outer loop): 58.36%\n",
      "        Micro Recall (on outer loop): 73.65%\n",
      "        Micro Precision (on outer loop): 48.33%\n",
      "\n",
      "    Average over all folds:\n",
      "        Micro F1 54.52% +/- 2.39\n",
      "        Micro Recall 74.36% +/- 3.80\n",
      "        Micro Precision 43.17% +/- 2.96\n",
      "        Hamming 16.86% +/- 1.59\n",
      "        Accuracy 45.69% +/- 5.18\n"
     ]
    }
   ],
   "source": [
    "RF.perform_nested_CV(grid, inner_splits=2)"
   ]
  },
  {
   "cell_type": "markdown",
   "metadata": {},
   "source": [
    "### 2.5.3 XGBOOST with BOW"
   ]
  },
  {
   "cell_type": "code",
   "execution_count": 138,
   "metadata": {},
   "outputs": [],
   "source": [
    "# setup \n",
    "lda = LatentDirichletAllocation(n_jobs=-1, random_state=0, max_iter = 100)\n",
    "clf = ClassifierChain(xgb.XGBClassifier(objective = \"binary:logistic\", eval_metric = 'aucpr', \n",
    "                                                        use_label_encoder=False, seed=0))\n",
    "pipe = Pipeline([('svd', lda),\n",
    "                            ('classifier', clf)])\n",
    "XGB = Model_eval(dtm.bow, dtm.Y,\n",
    "                pipe,\n",
    "                'XGBOOST', \n",
    "               metrics)"
   ]
  },
  {
   "cell_type": "code",
   "execution_count": 139,
   "metadata": {},
   "outputs": [],
   "source": [
    "# parameters\n",
    "space={ 'max_depth': hp.quniform(\"max_depth\", 2, 50, 1),\n",
    "        'gamma': hp.uniform ('gamma', 1,9),\n",
    "        'colsample_bytree' : hp.uniform('colsample_bytree', 0.5,1),\n",
    "        'scale_pos_weight' : hp.uniform('scale_pos_weight', 0,5),\n",
    "        'n_estimators': hp.quniform('n_estimators', 100,1000,50),\n",
    "        'learning_rate': hp.uniform('learning_rate', 0.001, 0.2),\n",
    "        'min_child_weight' : hp.quniform('min_child_weight', 0, 10, 1),\n",
    "        'n_components': hp.quniform('n_components', 10,500, 20),\n",
    "        'seed': 0\n",
    "    }"
   ]
  },
  {
   "cell_type": "code",
   "execution_count": 41,
   "metadata": {
    "scrolled": true
   },
   "outputs": [
    {
     "name": "stdout",
     "output_type": "stream",
     "text": [
      "\r",
      "  0%|                                                                           | 0/30 [00:00<?, ?trial/s, best loss=?]"
     ]
    },
    {
     "name": "stderr",
     "output_type": "stream",
     "text": [
      "C:\\Users\\DB Accountancy\\anaconda3\\lib\\site-packages\\sklearn\\utils\\validation.py:67: FutureWarning: Pass shuffle=True, random_state=0 as keyword args. From version 0.25 passing these as positional arguments will result in an error\n",
      "  warnings.warn(\"Pass {} as keyword args. From version 0.25 \"\n"
     ]
    },
    {
     "name": "stdout",
     "output_type": "stream",
     "text": [
      "100%|███████████████████████████████████████████████| 30/30 [16:42<00:00, 33.41s/trial, best loss: -0.5749817117776153]\n",
      "Score on inner loop 0.5749817117776153 \n",
      " {'colsample_bytree': 0.8524563438340713, 'gamma': 4.229216728854999, 'learning_rate': 0.11569144902067507, 'max_depth': 30, 'min_child_weight': 8.0, 'n_estimators': 850, 'scale_pos_weight': 2.834374917301308, 'n_components': 140}\n",
      "\n",
      "100%|███████████████████████████████████████████████| 30/30 [33:35<00:00, 67.19s/trial, best loss: -0.5944170771756978]\n",
      "Score on inner loop 0.5944170771756978 \n",
      " {'colsample_bytree': 0.884761481334283, 'gamma': 4.3784786578727495, 'learning_rate': 0.12125679258741343, 'max_depth': 10, 'min_child_weight': 5.0, 'n_estimators': 800, 'scale_pos_weight': 1.8973527277964992, 'n_components': 440}\n",
      "\n",
      "Best hyperparameters found in inner loop\n",
      "{'colsample_bytree': 0.884761481334283, 'gamma': 4.3784786578727495, 'learning_rate': 0.12125679258741343, 'max_depth': 10, 'min_child_weight': 5.0, 'n_estimators': 800, 'scale_pos_weight': 1.8973527277964992, 'n_components': 440}\n",
      "\n",
      "\n",
      "Performance on the outer test fold:\n",
      "        Micro F1 (on outer loop): 62.00%\n",
      "        Micro Recall (on outer loop): 68.34%\n",
      "        Micro Precision (on outer loop): 56.73%\n",
      "\n",
      "100%|███████████████████████████████████████████████| 30/30 [39:10<00:00, 78.34s/trial, best loss: -0.5698729582577132]\n",
      "Score on inner loop 0.5698729582577132 \n",
      " {'colsample_bytree': 0.5475329584408251, 'gamma': 7.1507609857878425, 'learning_rate': 0.11845359579491789, 'max_depth': 15, 'min_child_weight': 1.0, 'n_estimators': 650, 'scale_pos_weight': 2.1571747101189818, 'n_components': 440}\n",
      "\n",
      "100%|███████████████████████████████████████████████| 30/30 [47:23<00:00, 94.78s/trial, best loss: -0.5257452574525746]\n",
      "Score on inner loop 0.5257452574525746 \n",
      " {'colsample_bytree': 0.9090419329355066, 'gamma': 1.1312885024248107, 'learning_rate': 0.14555691597062334, 'max_depth': 18, 'min_child_weight': 10.0, 'n_estimators': 150, 'scale_pos_weight': 3.0748547211961794, 'n_components': 340}\n",
      "\n",
      "Best hyperparameters found in inner loop\n",
      "{'colsample_bytree': 0.5475329584408251, 'gamma': 7.1507609857878425, 'learning_rate': 0.11845359579491789, 'max_depth': 15, 'min_child_weight': 1.0, 'n_estimators': 650, 'scale_pos_weight': 2.1571747101189818, 'n_components': 440}\n",
      "\n",
      "\n",
      "Performance on the outer test fold:\n",
      "        Micro F1 (on outer loop): 61.78%\n",
      "        Micro Recall (on outer loop): 71.84%\n",
      "        Micro Precision (on outer loop): 54.19%\n",
      "\n",
      "100%|███████████████████████████████████████████████| 30/30 [33:29<00:00, 66.98s/trial, best loss: -0.5898305084745762]\n",
      "Score on inner loop 0.5898305084745762 \n",
      " {'colsample_bytree': 0.5675739202583223, 'gamma': 5.414822665189562, 'learning_rate': 0.09682904846861494, 'max_depth': 3, 'min_child_weight': 5.0, 'n_estimators': 300, 'scale_pos_weight': 1.6269716572850634, 'n_components': 400}\n",
      "\n",
      "100%|███████████████████████████████████████████████| 30/30 [19:11<00:00, 38.40s/trial, best loss: -0.5569230769230769]\n",
      "Score on inner loop 0.5569230769230769 \n",
      " {'colsample_bytree': 0.6178232925682811, 'gamma': 7.719778526773265, 'learning_rate': 0.053751416812736506, 'max_depth': 5, 'min_child_weight': 7.0, 'n_estimators': 600, 'scale_pos_weight': 2.3892545177454267, 'n_components': 260}\n",
      "\n",
      "Best hyperparameters found in inner loop\n",
      "{'colsample_bytree': 0.5675739202583223, 'gamma': 5.414822665189562, 'learning_rate': 0.09682904846861494, 'max_depth': 3, 'min_child_weight': 5.0, 'n_estimators': 300, 'scale_pos_weight': 1.6269716572850634, 'n_components': 400}\n",
      "\n",
      "\n",
      "Performance on the outer test fold:\n",
      "        Micro F1 (on outer loop): 53.23%\n",
      "        Micro Recall (on outer loop): 53.74%\n",
      "        Micro Precision (on outer loop): 52.73%\n",
      "\n",
      "\n",
      "    Average over all folds:\n",
      "        Micro F1 59.00% +/- 4.08\n",
      "        Micro Recall 64.64% +/- 7.84\n",
      "        Micro Precision 54.55% +/- 1.65\n",
      "        Hamming 12.07% +/- 0.62\n",
      "        Accuracy 61.94% +/- 0.60\n"
     ]
    }
   ],
   "source": [
    "XGB.perform_bayesian_opt_pre(space, max_evals=30, lda=True)"
   ]
  },
  {
   "cell_type": "markdown",
   "metadata": {},
   "source": [
    "### 2.5.4 naive bayes with TFIDF"
   ]
  },
  {
   "cell_type": "code",
   "execution_count": 52,
   "metadata": {},
   "outputs": [],
   "source": [
    "# setup\n",
    "lda = LatentDirichletAllocation(random_state=0, max_iter=100)\n",
    "clf =  ClassifierChain(GaussianNB(), order = 'random', random_state=0)\n",
    "pipe = Pipeline([('svd', lda),\n",
    "                ('classifier', clf)])\n",
    "GNB = Model_eval(dtm.tfidf, dtm.Y, \n",
    "                 pipe,\n",
    "                 'Gaussian Naive Bayes',\n",
    "                 metrics)"
   ]
  },
  {
   "cell_type": "code",
   "execution_count": 53,
   "metadata": {},
   "outputs": [],
   "source": [
    "# parameters\n",
    "grid = {'svd__n_components':[x for x in range(10,200,5)]}"
   ]
  },
  {
   "cell_type": "code",
   "execution_count": 54,
   "metadata": {
    "scrolled": true
   },
   "outputs": [
    {
     "name": "stderr",
     "output_type": "stream",
     "text": [
      "C:\\Users\\DB Accountancy\\anaconda3\\lib\\site-packages\\sklearn\\utils\\validation.py:67: FutureWarning: Pass shuffle=True, random_state=0 as keyword args. From version 0.25 passing these as positional arguments will result in an error\n",
      "  warnings.warn(\"Pass {} as keyword args. From version 0.25 \"\n",
      "[Parallel(n_jobs=-1)]: Using backend LokyBackend with 8 concurrent workers.\n"
     ]
    },
    {
     "name": "stdout",
     "output_type": "stream",
     "text": [
      "-------------------------------------------------- \n",
      "\n",
      "Algorithm: Gaussian Naive Bayes\n",
      "    Inner loop:\n",
      "Fitting 2 folds for each of 38 candidates, totalling 76 fits\n"
     ]
    },
    {
     "name": "stderr",
     "output_type": "stream",
     "text": [
      "[Parallel(n_jobs=-1)]: Done  34 tasks      | elapsed:  2.8min\n",
      "[Parallel(n_jobs=-1)]: Done  76 out of  76 | elapsed:  7.0min finished\n"
     ]
    },
    {
     "name": "stdout",
     "output_type": "stream",
     "text": [
      "\n",
      "        Best Micro F1 score (inner test folds): 52.26%\n",
      "        Best parameters: {'svd__n_components': 150}\n",
      "        Micro F1 (on outer loop): 43.59%\n",
      "        Micro Recall (on outer loop): 66.77%\n",
      "        Micro Precision (on outer loop): 32.35%\n",
      "Fitting 2 folds for each of 38 candidates, totalling 76 fits\n"
     ]
    },
    {
     "name": "stderr",
     "output_type": "stream",
     "text": [
      "[Parallel(n_jobs=-1)]: Using backend LokyBackend with 8 concurrent workers.\n",
      "[Parallel(n_jobs=-1)]: Done  34 tasks      | elapsed:  2.6min\n",
      "[Parallel(n_jobs=-1)]: Done  76 out of  76 | elapsed:  6.8min finished\n"
     ]
    },
    {
     "name": "stdout",
     "output_type": "stream",
     "text": [
      "\n",
      "        Best Micro F1 score (inner test folds): 51.69%\n",
      "        Best parameters: {'svd__n_components': 170}\n",
      "        Micro F1 (on outer loop): 46.95%\n",
      "        Micro Recall (on outer loop): 71.25%\n",
      "        Micro Precision (on outer loop): 35.01%\n",
      "Fitting 2 folds for each of 38 candidates, totalling 76 fits\n"
     ]
    },
    {
     "name": "stderr",
     "output_type": "stream",
     "text": [
      "[Parallel(n_jobs=-1)]: Using backend LokyBackend with 8 concurrent workers.\n",
      "[Parallel(n_jobs=-1)]: Done  34 tasks      | elapsed:  2.6min\n",
      "[Parallel(n_jobs=-1)]: Done  76 out of  76 | elapsed:  6.7min finished\n"
     ]
    },
    {
     "name": "stdout",
     "output_type": "stream",
     "text": [
      "\n",
      "        Best Micro F1 score (inner test folds): 52.00%\n",
      "        Best parameters: {'svd__n_components': 160}\n",
      "        Micro F1 (on outer loop): 47.06%\n",
      "        Micro Recall (on outer loop): 74.51%\n",
      "        Micro Precision (on outer loop): 34.39%\n",
      "Fitting 2 folds for each of 38 candidates, totalling 76 fits\n"
     ]
    },
    {
     "name": "stderr",
     "output_type": "stream",
     "text": [
      "[Parallel(n_jobs=-1)]: Using backend LokyBackend with 8 concurrent workers.\n",
      "[Parallel(n_jobs=-1)]: Done  34 tasks      | elapsed:  2.6min\n",
      "[Parallel(n_jobs=-1)]: Done  76 out of  76 | elapsed:  6.8min finished\n"
     ]
    },
    {
     "name": "stdout",
     "output_type": "stream",
     "text": [
      "\n",
      "        Best Micro F1 score (inner test folds): 51.99%\n",
      "        Best parameters: {'svd__n_components': 165}\n",
      "        Micro F1 (on outer loop): 47.02%\n",
      "        Micro Recall (on outer loop): 70.38%\n",
      "        Micro Precision (on outer loop): 35.30%\n",
      "Fitting 2 folds for each of 38 candidates, totalling 76 fits\n"
     ]
    },
    {
     "name": "stderr",
     "output_type": "stream",
     "text": [
      "[Parallel(n_jobs=-1)]: Using backend LokyBackend with 8 concurrent workers.\n",
      "[Parallel(n_jobs=-1)]: Done  34 tasks      | elapsed:  2.2min\n",
      "[Parallel(n_jobs=-1)]: Done  76 out of  76 | elapsed:  5.5min finished\n"
     ]
    },
    {
     "name": "stdout",
     "output_type": "stream",
     "text": [
      "\n",
      "        Best Micro F1 score (inner test folds): 49.56%\n",
      "        Best parameters: {'svd__n_components': 175}\n",
      "        Micro F1 (on outer loop): 47.68%\n",
      "        Micro Recall (on outer loop): 71.75%\n",
      "        Micro Precision (on outer loop): 35.70%\n",
      "\n",
      "    Average over all folds:\n",
      "        Micro F1 46.46% +/- 1.46\n",
      "        Micro Recall 70.93% +/- 2.50\n",
      "        Micro Precision 34.55% +/- 1.18\n",
      "        Hamming 22.15% +/- 0.71\n",
      "        Accuracy 38.54% +/- 2.46\n"
     ]
    }
   ],
   "source": [
    "GNB.perform_nested_CV(grid, inner_splits=2)"
   ]
  },
  {
   "cell_type": "markdown",
   "metadata": {},
   "source": [
    "### 2.5.5 Random Forest with TF-IDF"
   ]
  },
  {
   "cell_type": "code",
   "execution_count": 34,
   "metadata": {},
   "outputs": [],
   "source": [
    "# setup\n",
    "lda = LatentDirichletAllocation(random_state=0, max_iter = 100)\n",
    "clf = RandomForestClassifier(random_state=0, n_jobs=-1)\n",
    "pipe = Pipeline([('svd', lda),\n",
    "                 ('classifier', clf)])\n",
    "RF = Model_eval(dtm.tfidf, dtm.Y,\n",
    "                pipe,\n",
    "                'Random forest', \n",
    "               metrics)"
   ]
  },
  {
   "cell_type": "code",
   "execution_count": 35,
   "metadata": {},
   "outputs": [],
   "source": [
    "# parameters\n",
    "n_estimators = [800, 1000, 1500]\n",
    "max_depth = [2, 5, 10, 15, 20, 50, 70, 100] \n",
    "min_samples_split = [2, 3, 4, 5, 10, 15, 20]\n",
    "min_samples_leaf = [2, 3, 4 ,5, 10, 15, 20]\n",
    "weights = [[{0:0.32, 1:0.68}, {0:0.34, 1:0.66}, \n",
    "           {0:0.3, 1:0.7}, {0:0.33, 1:0.67}, \n",
    "           {0:0.3, 1:0.7}, {0:0.3, 1:0.7}, \n",
    "           {0:0.3, 1:0.7}, {0:0.3, 1:0.7}], \n",
    "           [{0:0.32, 1:0.68}, {0:0.34, 1:0.66}, \n",
    "           {0:0.4, 1:0.6}, {0:0.33, 1:0.67}, \n",
    "           {0:0.4, 1:0.6}, {0:0.4, 1:0.6}, \n",
    "           {0:0.4, 1:0.6}, {0:0.4, 1:0.6}],\n",
    "           [{0:0.32, 1:0.68}, {0:0.34, 1:0.66}, \n",
    "           {0:0.2, 1:0.8}, {0:0.33, 1:0.67}, \n",
    "           {0:0.2, 1:0.8}, {0:0.2, 1:0.8}, \n",
    "           {0:0.2, 1:0.8}, {0:0.2, 1:0.8}],\n",
    "           [{0:0.32, 1:0.68}, {0:0.34, 1:0.66}, \n",
    "           {0:0.1, 1:0.9}, {0:0.33, 1:0.67}, \n",
    "           {0:0.1, 1:0.9}, {0:0.1, 1:0.9}, \n",
    "           {0:0.1, 1:0.9}, {0:0.1, 1:0.9}],\n",
    "           [{0:0.32, 1:0.68}, {0:0.34, 1:0.66}, \n",
    "           {0:0.01, 1:0.99}, {0:0.33, 1:0.67}, \n",
    "           {0:0.01, 1:0.99}, {0:0.01, 1:0.99}, \n",
    "           {0:0.01, 1:0.99}, {0:0.01, 1:0.99}]]\n",
    "max_features = ['auto','sqrt','log2']\n",
    "grid = {'classifier__n_estimators': n_estimators,\n",
    "        'classifier__max_depth': max_depth,\n",
    "        'classifier__min_samples_split': min_samples_split,\n",
    "        'classifier__min_samples_leaf': min_samples_leaf,\n",
    "        'classifier__class_weight': weights,\n",
    "        'classifier__max_features': max_features,\n",
    "        'svd__n_components':[20,25,30,35,40,50,100,200,300, 400],\n",
    "        'svd__doc_topic_prior':[0.05,0.1,0.5,1],\n",
    "        'svd__topic_word_prior': [0.05,0.1,0.5,1]}"
   ]
  },
  {
   "cell_type": "code",
   "execution_count": 36,
   "metadata": {
    "scrolled": true
   },
   "outputs": [
    {
     "name": "stderr",
     "output_type": "stream",
     "text": [
      "C:\\Users\\DB Accountancy\\anaconda3\\lib\\site-packages\\sklearn\\utils\\validation.py:67: FutureWarning: Pass shuffle=True, random_state=0 as keyword args. From version 0.25 passing these as positional arguments will result in an error\n",
      "  warnings.warn(\"Pass {} as keyword args. From version 0.25 \"\n",
      "[Parallel(n_jobs=-1)]: Using backend LokyBackend with 8 concurrent workers.\n"
     ]
    },
    {
     "name": "stdout",
     "output_type": "stream",
     "text": [
      "-------------------------------------------------- \n",
      "\n",
      "Algorithm: Random forest\n",
      "    Inner loop:\n",
      "Fitting 2 folds for each of 100 candidates, totalling 200 fits\n"
     ]
    },
    {
     "name": "stderr",
     "output_type": "stream",
     "text": [
      "[Parallel(n_jobs=-1)]: Done  34 tasks      | elapsed:  3.5min\n",
      "[Parallel(n_jobs=-1)]: Done 184 tasks      | elapsed: 22.1min\n",
      "[Parallel(n_jobs=-1)]: Done 200 out of 200 | elapsed: 24.1min finished\n"
     ]
    },
    {
     "name": "stdout",
     "output_type": "stream",
     "text": [
      "\n",
      "        Best Micro F1 score (inner test folds): 56.04%\n",
      "        Best parameters: {'svd__topic_word_prior': 0.1, 'svd__n_components': 300, 'svd__doc_topic_prior': 0.5, 'classifier__n_estimators': 1500, 'classifier__min_samples_split': 10, 'classifier__min_samples_leaf': 3, 'classifier__max_features': 'auto', 'classifier__max_depth': 15, 'classifier__class_weight': [{0: 0.32, 1: 0.68}, {0: 0.34, 1: 0.66}, {0: 0.4, 1: 0.6}, {0: 0.33, 1: 0.67}, {0: 0.4, 1: 0.6}, {0: 0.4, 1: 0.6}, {0: 0.4, 1: 0.6}, {0: 0.4, 1: 0.6}]}\n",
      "        Micro F1 (on outer loop): 55.95%\n",
      "Fitting 2 folds for each of 100 candidates, totalling 200 fits\n"
     ]
    },
    {
     "name": "stderr",
     "output_type": "stream",
     "text": [
      "[Parallel(n_jobs=-1)]: Using backend LokyBackend with 8 concurrent workers.\n",
      "[Parallel(n_jobs=-1)]: Done  34 tasks      | elapsed:  5.0min\n",
      "[Parallel(n_jobs=-1)]: Done 184 tasks      | elapsed: 23.9min\n",
      "[Parallel(n_jobs=-1)]: Done 200 out of 200 | elapsed: 26.8min finished\n"
     ]
    },
    {
     "name": "stdout",
     "output_type": "stream",
     "text": [
      "\n",
      "        Best Micro F1 score (inner test folds): 55.05%\n",
      "        Best parameters: {'svd__topic_word_prior': 0.05, 'svd__n_components': 40, 'svd__doc_topic_prior': 1, 'classifier__n_estimators': 800, 'classifier__min_samples_split': 5, 'classifier__min_samples_leaf': 4, 'classifier__max_features': 'log2', 'classifier__max_depth': 20, 'classifier__class_weight': [{0: 0.32, 1: 0.68}, {0: 0.34, 1: 0.66}, {0: 0.3, 1: 0.7}, {0: 0.33, 1: 0.67}, {0: 0.3, 1: 0.7}, {0: 0.3, 1: 0.7}, {0: 0.3, 1: 0.7}, {0: 0.3, 1: 0.7}]}\n",
      "        Micro F1 (on outer loop): 53.93%\n",
      "Fitting 2 folds for each of 100 candidates, totalling 200 fits\n"
     ]
    },
    {
     "name": "stderr",
     "output_type": "stream",
     "text": [
      "[Parallel(n_jobs=-1)]: Using backend LokyBackend with 8 concurrent workers.\n",
      "[Parallel(n_jobs=-1)]: Done  34 tasks      | elapsed:  5.1min\n",
      "[Parallel(n_jobs=-1)]: Done 184 tasks      | elapsed: 27.7min\n",
      "[Parallel(n_jobs=-1)]: Done 200 out of 200 | elapsed: 30.7min finished\n"
     ]
    },
    {
     "name": "stdout",
     "output_type": "stream",
     "text": [
      "\n",
      "        Best Micro F1 score (inner test folds): 53.34%\n",
      "        Best parameters: {'svd__topic_word_prior': 0.05, 'svd__n_components': 100, 'svd__doc_topic_prior': 1, 'classifier__n_estimators': 800, 'classifier__min_samples_split': 2, 'classifier__min_samples_leaf': 2, 'classifier__max_features': 'sqrt', 'classifier__max_depth': 70, 'classifier__class_weight': [{0: 0.32, 1: 0.68}, {0: 0.34, 1: 0.66}, {0: 0.4, 1: 0.6}, {0: 0.33, 1: 0.67}, {0: 0.4, 1: 0.6}, {0: 0.4, 1: 0.6}, {0: 0.4, 1: 0.6}, {0: 0.4, 1: 0.6}]}\n",
      "        Micro F1 (on outer loop): 54.14%\n",
      "Fitting 2 folds for each of 100 candidates, totalling 200 fits\n"
     ]
    },
    {
     "name": "stderr",
     "output_type": "stream",
     "text": [
      "[Parallel(n_jobs=-1)]: Using backend LokyBackend with 8 concurrent workers.\n",
      "[Parallel(n_jobs=-1)]: Done  34 tasks      | elapsed:  5.7min\n",
      "[Parallel(n_jobs=-1)]: Done 184 tasks      | elapsed: 22.0min\n",
      "[Parallel(n_jobs=-1)]: Done 200 out of 200 | elapsed: 23.1min finished\n"
     ]
    },
    {
     "name": "stdout",
     "output_type": "stream",
     "text": [
      "\n",
      "        Best Micro F1 score (inner test folds): 56.19%\n",
      "        Best parameters: {'svd__topic_word_prior': 0.1, 'svd__n_components': 400, 'svd__doc_topic_prior': 1, 'classifier__n_estimators': 1500, 'classifier__min_samples_split': 3, 'classifier__min_samples_leaf': 4, 'classifier__max_features': 'sqrt', 'classifier__max_depth': 20, 'classifier__class_weight': [{0: 0.32, 1: 0.68}, {0: 0.34, 1: 0.66}, {0: 0.3, 1: 0.7}, {0: 0.33, 1: 0.67}, {0: 0.3, 1: 0.7}, {0: 0.3, 1: 0.7}, {0: 0.3, 1: 0.7}, {0: 0.3, 1: 0.7}]}\n",
      "        Micro F1 (on outer loop): 57.58%\n",
      "Fitting 2 folds for each of 100 candidates, totalling 200 fits\n"
     ]
    },
    {
     "name": "stderr",
     "output_type": "stream",
     "text": [
      "[Parallel(n_jobs=-1)]: Using backend LokyBackend with 8 concurrent workers.\n",
      "[Parallel(n_jobs=-1)]: Done  34 tasks      | elapsed:  3.1min\n",
      "[Parallel(n_jobs=-1)]: Done 184 tasks      | elapsed: 18.7min\n",
      "[Parallel(n_jobs=-1)]: Done 200 out of 200 | elapsed: 20.3min finished\n"
     ]
    },
    {
     "name": "stdout",
     "output_type": "stream",
     "text": [
      "\n",
      "        Best Micro F1 score (inner test folds): 52.55%\n",
      "        Best parameters: {'svd__topic_word_prior': 0.1, 'svd__n_components': 30, 'svd__doc_topic_prior': 0.5, 'classifier__n_estimators': 800, 'classifier__min_samples_split': 5, 'classifier__min_samples_leaf': 4, 'classifier__max_features': 'auto', 'classifier__max_depth': 100, 'classifier__class_weight': [{0: 0.32, 1: 0.68}, {0: 0.34, 1: 0.66}, {0: 0.3, 1: 0.7}, {0: 0.33, 1: 0.67}, {0: 0.3, 1: 0.7}, {0: 0.3, 1: 0.7}, {0: 0.3, 1: 0.7}, {0: 0.3, 1: 0.7}]}\n",
      "        Micro F1 (on outer loop): 57.91%\n",
      "\n",
      "    Average over all folds:\n",
      "        Micro F1 55.90% +/- 1.67\n",
      "        Micro Recall 70.72% +/- 6.63\n",
      "        Micro Precision 46.53% +/- 2.03\n",
      "        Hamming 15.08% +/- 0.99\n",
      "        Accuracy 48.96% +/- 3.37\n"
     ]
    }
   ],
   "source": [
    "RF.perform_nested_CV(grid, inner_splits=2, random=True, iterations=100)"
   ]
  },
  {
   "cell_type": "code",
   "execution_count": 45,
   "metadata": {},
   "outputs": [],
   "source": [
    "# more specific grid\n",
    "n_estimators = [1000]\n",
    "max_depth = [20,70] \n",
    "min_samples_split = [5,10]\n",
    "max_features = ['auto','sqrt']\n",
    "weights = [[{0:0.32, 1:0.68}, {0:0.34, 1:0.66}, \n",
    "           {0:0.3, 1:0.7}, {0:0.33, 1:0.67}, \n",
    "           {0:0.3, 1:0.7}, {0:0.3, 1:0.7}, \n",
    "           {0:0.3, 1:0.7}, {0:0.3, 1:0.7}], \n",
    "           [{0:0.32, 1:0.68}, {0:0.34, 1:0.66}, \n",
    "           {0:0.4, 1:0.6}, {0:0.33, 1:0.67}, \n",
    "           {0:0.4, 1:0.6}, {0:0.4, 1:0.6}, \n",
    "           {0:0.4, 1:0.6}, {0:0.4, 1:0.6}]]\n",
    "grid = {'classifier__n_estimators': n_estimators,\n",
    "        'classifier__max_depth': max_depth,\n",
    "        'classifier__class_weight': weights,\n",
    "        'classifier__min_samples_split': min_samples_split,\n",
    "        'classifier__max_features':max_features,\n",
    "        'svd__n_components':[30,40,100,300],\n",
    "        'svd__doc_topic_prior':[1]}"
   ]
  },
  {
   "cell_type": "code",
   "execution_count": 46,
   "metadata": {},
   "outputs": [],
   "source": [
    "# setup\n",
    "lda = LatentDirichletAllocation(n_jobs=-1, random_state=0, max_iter = 100, topic_word_prior=0.1)\n",
    "clf = RandomForestClassifier(random_state=0, min_samples_leaf = 4)\n",
    "pipe = Pipeline([('svd', lda),\n",
    "                ('classifier', clf)])\n",
    "RF = Model_eval(dtm_tfidf, Y,\n",
    "                pipe,\n",
    "                'Random forest', \n",
    "               metrics)"
   ]
  },
  {
   "cell_type": "code",
   "execution_count": 47,
   "metadata": {
    "scrolled": true
   },
   "outputs": [
    {
     "name": "stderr",
     "output_type": "stream",
     "text": [
      "C:\\Users\\DB Accountancy\\anaconda3\\lib\\site-packages\\sklearn\\utils\\validation.py:67: FutureWarning: Pass shuffle=True, random_state=0 as keyword args. From version 0.25 passing these as positional arguments will result in an error\n",
      "  warnings.warn(\"Pass {} as keyword args. From version 0.25 \"\n",
      "[Parallel(n_jobs=-1)]: Using backend LokyBackend with 8 concurrent workers.\n"
     ]
    },
    {
     "name": "stdout",
     "output_type": "stream",
     "text": [
      "-------------------------------------------------- \n",
      "\n",
      "Algorithm: Random forest\n",
      "    Inner loop:\n",
      "Fitting 2 folds for each of 64 candidates, totalling 128 fits\n"
     ]
    },
    {
     "name": "stderr",
     "output_type": "stream",
     "text": [
      "[Parallel(n_jobs=-1)]: Done  34 tasks      | elapsed:  4.4min\n",
      "[Parallel(n_jobs=-1)]: Done 128 out of 128 | elapsed: 15.9min finished\n"
     ]
    },
    {
     "name": "stdout",
     "output_type": "stream",
     "text": [
      "\n",
      "        Best Micro F1 score (inner test folds): 59.29%\n",
      "        Best parameters: {'classifier__class_weight': [{0: 0.32, 1: 0.68}, {0: 0.34, 1: 0.66}, {0: 0.4, 1: 0.6}, {0: 0.33, 1: 0.67}, {0: 0.4, 1: 0.6}, {0: 0.4, 1: 0.6}, {0: 0.4, 1: 0.6}, {0: 0.4, 1: 0.6}], 'classifier__max_depth': 20, 'classifier__max_features': 'auto', 'classifier__min_samples_split': 10, 'classifier__n_estimators': 1000, 'svd__doc_topic_prior': 1, 'svd__n_components': 300}\n",
      "        Micro F1 (on outer loop): 57.84%\n",
      "        Micro Recall (on outer loop): 68.37%\n",
      "        Micro Precision (on outer loop): 50.12%\n",
      "Fitting 2 folds for each of 64 candidates, totalling 128 fits\n"
     ]
    },
    {
     "name": "stderr",
     "output_type": "stream",
     "text": [
      "[Parallel(n_jobs=-1)]: Using backend LokyBackend with 8 concurrent workers.\n",
      "[Parallel(n_jobs=-1)]: Done  34 tasks      | elapsed:  4.3min\n",
      "[Parallel(n_jobs=-1)]: Done 128 out of 128 | elapsed: 15.3min finished\n"
     ]
    },
    {
     "name": "stdout",
     "output_type": "stream",
     "text": [
      "\n",
      "        Best Micro F1 score (inner test folds): 57.65%\n",
      "        Best parameters: {'classifier__class_weight': [{0: 0.32, 1: 0.68}, {0: 0.34, 1: 0.66}, {0: 0.4, 1: 0.6}, {0: 0.33, 1: 0.67}, {0: 0.4, 1: 0.6}, {0: 0.4, 1: 0.6}, {0: 0.4, 1: 0.6}, {0: 0.4, 1: 0.6}], 'classifier__max_depth': 70, 'classifier__max_features': 'auto', 'classifier__min_samples_split': 5, 'classifier__n_estimators': 1000, 'svd__doc_topic_prior': 1, 'svd__n_components': 300}\n",
      "        Micro F1 (on outer loop): 62.55%\n",
      "        Micro Recall (on outer loop): 71.25%\n",
      "        Micro Precision (on outer loop): 55.75%\n",
      "Fitting 2 folds for each of 64 candidates, totalling 128 fits\n"
     ]
    },
    {
     "name": "stderr",
     "output_type": "stream",
     "text": [
      "[Parallel(n_jobs=-1)]: Using backend LokyBackend with 8 concurrent workers.\n",
      "[Parallel(n_jobs=-1)]: Done  34 tasks      | elapsed:  4.1min\n",
      "[Parallel(n_jobs=-1)]: Done 128 out of 128 | elapsed: 15.3min finished\n"
     ]
    },
    {
     "name": "stdout",
     "output_type": "stream",
     "text": [
      "\n",
      "        Best Micro F1 score (inner test folds): 57.09%\n",
      "        Best parameters: {'classifier__class_weight': [{0: 0.32, 1: 0.68}, {0: 0.34, 1: 0.66}, {0: 0.4, 1: 0.6}, {0: 0.33, 1: 0.67}, {0: 0.4, 1: 0.6}, {0: 0.4, 1: 0.6}, {0: 0.4, 1: 0.6}, {0: 0.4, 1: 0.6}], 'classifier__max_depth': 70, 'classifier__max_features': 'auto', 'classifier__min_samples_split': 5, 'classifier__n_estimators': 1000, 'svd__doc_topic_prior': 1, 'svd__n_components': 100}\n",
      "        Micro F1 (on outer loop): 57.92%\n",
      "        Micro Recall (on outer loop): 73.53%\n",
      "        Micro Precision (on outer loop): 47.77%\n",
      "Fitting 2 folds for each of 64 candidates, totalling 128 fits\n"
     ]
    },
    {
     "name": "stderr",
     "output_type": "stream",
     "text": [
      "[Parallel(n_jobs=-1)]: Using backend LokyBackend with 8 concurrent workers.\n",
      "[Parallel(n_jobs=-1)]: Done  34 tasks      | elapsed:  4.5min\n",
      "[Parallel(n_jobs=-1)]: Done 128 out of 128 | elapsed: 15.7min finished\n"
     ]
    },
    {
     "name": "stdout",
     "output_type": "stream",
     "text": [
      "\n",
      "        Best Micro F1 score (inner test folds): 56.79%\n",
      "        Best parameters: {'classifier__class_weight': [{0: 0.32, 1: 0.68}, {0: 0.34, 1: 0.66}, {0: 0.4, 1: 0.6}, {0: 0.33, 1: 0.67}, {0: 0.4, 1: 0.6}, {0: 0.4, 1: 0.6}, {0: 0.4, 1: 0.6}, {0: 0.4, 1: 0.6}], 'classifier__max_depth': 70, 'classifier__max_features': 'auto', 'classifier__min_samples_split': 5, 'classifier__n_estimators': 1000, 'svd__doc_topic_prior': 1, 'svd__n_components': 300}\n",
      "        Micro F1 (on outer loop): 61.80%\n",
      "        Micro Recall (on outer loop): 70.06%\n",
      "        Micro Precision (on outer loop): 55.28%\n",
      "Fitting 2 folds for each of 64 candidates, totalling 128 fits\n"
     ]
    },
    {
     "name": "stderr",
     "output_type": "stream",
     "text": [
      "[Parallel(n_jobs=-1)]: Using backend LokyBackend with 8 concurrent workers.\n",
      "[Parallel(n_jobs=-1)]: Done  34 tasks      | elapsed:  4.1min\n",
      "[Parallel(n_jobs=-1)]: Done 128 out of 128 | elapsed: 15.3min finished\n"
     ]
    },
    {
     "name": "stdout",
     "output_type": "stream",
     "text": [
      "\n",
      "        Best Micro F1 score (inner test folds): 57.57%\n",
      "        Best parameters: {'classifier__class_weight': [{0: 0.32, 1: 0.68}, {0: 0.34, 1: 0.66}, {0: 0.4, 1: 0.6}, {0: 0.33, 1: 0.67}, {0: 0.4, 1: 0.6}, {0: 0.4, 1: 0.6}, {0: 0.4, 1: 0.6}, {0: 0.4, 1: 0.6}], 'classifier__max_depth': 70, 'classifier__max_features': 'auto', 'classifier__min_samples_split': 10, 'classifier__n_estimators': 1000, 'svd__doc_topic_prior': 1, 'svd__n_components': 300}\n",
      "        Micro F1 (on outer loop): 60.42%\n",
      "        Micro Recall (on outer loop): 68.57%\n",
      "        Micro Precision (on outer loop): 54.00%\n",
      "\n",
      "    Average over all folds:\n",
      "        Micro F1 60.10% +/- 1.94\n",
      "        Micro Recall 70.36% +/- 1.90\n",
      "        Micro Precision 52.58% +/- 3.12\n",
      "        Hamming 12.68% +/- 1.01\n",
      "        Accuracy 56.39% +/- 3.27\n"
     ]
    }
   ],
   "source": [
    "RF.perform_nested_CV(grid, inner_splits=2)"
   ]
  },
  {
   "cell_type": "markdown",
   "metadata": {},
   "source": [
    "### 2.5.6 XGBOOST with TF-IDF"
   ]
  },
  {
   "cell_type": "code",
   "execution_count": 48,
   "metadata": {},
   "outputs": [],
   "source": [
    "# setup\n",
    "lda = LatentDirichletAllocation(n_jobs=-1, random_state=0, max_iter=100)\n",
    "clf = ClassifierChain(xgb.XGBClassifier(objective = \"binary:logistic\", eval_metric = 'aucpr', \n",
    "                                                        use_label_encoder=False, seed=0))\n",
    "pipe = Pipeline([('svd', lda),\n",
    "                            ('classifier', clf)])\n",
    "XGB = Model_eval(dtm.tfidf, dtm.Y,\n",
    "                pipe,\n",
    "                'xgboost', \n",
    "               metrics)"
   ]
  },
  {
   "cell_type": "code",
   "execution_count": 49,
   "metadata": {},
   "outputs": [],
   "source": [
    "# parameter space\n",
    "space={ 'max_depth': hp.quniform(\"max_depth\", 2, 50, 1),\n",
    "        'gamma': hp.uniform ('gamma', 1,9),\n",
    "        'colsample_bytree' : hp.uniform('colsample_bytree', 0.5,1),\n",
    "        'scale_pos_weight' : hp.uniform('scale_pos_weight', 0,5),\n",
    "        'n_estimators': hp.quniform('n_estimators', 100,1000,20),\n",
    "        'learning_rate': hp.uniform('learning_rate', 0.001, 0.2),\n",
    "        'min_child_weight' : hp.quniform('min_child_weight', 0, 10, 1),\n",
    "        'n_components': hp.quniform('n_components', 10,500, 20),\n",
    "        'seed': 0\n",
    "    }"
   ]
  },
  {
   "cell_type": "code",
   "execution_count": 50,
   "metadata": {
    "scrolled": true
   },
   "outputs": [
    {
     "name": "stdout",
     "output_type": "stream",
     "text": [
      "\r",
      "  0%|                                                                           | 0/30 [00:00<?, ?trial/s, best loss=?]"
     ]
    },
    {
     "name": "stderr",
     "output_type": "stream",
     "text": [
      "C:\\Users\\DB Accountancy\\anaconda3\\lib\\site-packages\\sklearn\\utils\\validation.py:67: FutureWarning: Pass shuffle=True, random_state=0 as keyword args. From version 0.25 passing these as positional arguments will result in an error\n",
      "  warnings.warn(\"Pass {} as keyword args. From version 0.25 \"\n"
     ]
    },
    {
     "name": "stdout",
     "output_type": "stream",
     "text": [
      " 50%|███████████████████████▌                       | 15/30 [08:22<10:21, 41.46s/trial, best loss: -0.5451612903225806]"
     ]
    },
    {
     "name": "stderr",
     "output_type": "stream",
     "text": [
      "C:\\Users\\DB Accountancy\\anaconda3\\lib\\site-packages\\sklearn\\decomposition\\_lda.py:806: RuntimeWarning: overflow encountered in exp\n",
      "  return np.exp(-1.0 * perword_bound)\n",
      "\n"
     ]
    },
    {
     "name": "stdout",
     "output_type": "stream",
     "text": [
      "100%|███████████████████████████████████████████████| 30/30 [17:33<00:00, 35.10s/trial, best loss: -0.5493087557603686]\n",
      "Score on inner loop 0.5493087557603686 \n",
      " {'colsample_bytree': 0.8808647239660715, 'gamma': 2.5695069773598354, 'learning_rate': 0.09128362657592613, 'max_depth': 9, 'min_child_weight': 2.0, 'n_estimators': 260, 'scale_pos_weight': 4.695050421955056, 'n_components': 200}\n",
      "\n",
      "100%|███████████████████████████████████████████████| 30/30 [17:17<00:00, 34.59s/trial, best loss: -0.5711878685762425]\n",
      "Score on inner loop 0.5711878685762425 \n",
      " {'colsample_bytree': 0.7259177560821897, 'gamma': 7.4286979133304, 'learning_rate': 0.19990169572212912, 'max_depth': 32, 'min_child_weight': 1.0, 'n_estimators': 760, 'scale_pos_weight': 3.8251853087864736, 'n_components': 340}\n",
      "\n",
      "Best hyperparameters found in inner loop\n",
      "{'colsample_bytree': 0.7259177560821897, 'gamma': 7.4286979133304, 'learning_rate': 0.19990169572212912, 'max_depth': 32, 'min_child_weight': 1.0, 'n_estimators': 760, 'scale_pos_weight': 3.8251853087864736, 'n_components': 340}\n",
      "\n",
      "\n",
      "Performance on the outer test fold:\n",
      "        Micro F1 (on outer loop): 55.39%\n",
      "        Micro Recall (on outer loop): 51.54%\n",
      "        Micro Precision (on outer loop): 59.87%\n",
      "\n",
      "  7%|███▏                                            | 2/30 [00:20<04:18,  9.25s/trial, best loss: -0.4919454770755886]"
     ]
    },
    {
     "name": "stderr",
     "output_type": "stream",
     "text": [
      "C:\\Users\\DB Accountancy\\anaconda3\\lib\\site-packages\\sklearn\\decomposition\\_lda.py:806: RuntimeWarning: overflow encountered in exp\n",
      "  return np.exp(-1.0 * perword_bound)\n",
      "\n"
     ]
    },
    {
     "name": "stdout",
     "output_type": "stream",
     "text": [
      " 40%|██████████████████▍                           | 12/30 [04:27<06:06, 20.35s/trial, best loss: -0.49844720496894407]"
     ]
    },
    {
     "name": "stderr",
     "output_type": "stream",
     "text": [
      "C:\\Users\\DB Accountancy\\anaconda3\\lib\\site-packages\\sklearn\\decomposition\\_lda.py:806: RuntimeWarning: overflow encountered in exp\n",
      "  return np.exp(-1.0 * perword_bound)\n",
      "\n"
     ]
    },
    {
     "name": "stdout",
     "output_type": "stream",
     "text": [
      "\r",
      " 43%|███████████████████▉                          | 13/30 [05:02<07:00, 24.71s/trial, best loss: -0.49844720496894407]"
     ]
    },
    {
     "name": "stderr",
     "output_type": "stream",
     "text": [
      "C:\\Users\\DB Accountancy\\anaconda3\\lib\\site-packages\\sklearn\\decomposition\\_lda.py:806: RuntimeWarning: overflow encountered in exp\n",
      "  return np.exp(-1.0 * perword_bound)\n",
      "\n"
     ]
    },
    {
     "name": "stdout",
     "output_type": "stream",
     "text": [
      "\r",
      " 47%|█████████████████████▍                        | 14/30 [05:44<07:59, 29.97s/trial, best loss: -0.49844720496894407]"
     ]
    },
    {
     "name": "stderr",
     "output_type": "stream",
     "text": [
      "C:\\Users\\DB Accountancy\\anaconda3\\lib\\site-packages\\sklearn\\decomposition\\_lda.py:806: RuntimeWarning: overflow encountered in exp\n",
      "  return np.exp(-1.0 * perword_bound)\n",
      "\n"
     ]
    },
    {
     "name": "stdout",
     "output_type": "stream",
     "text": [
      "100%|███████████████████████████████████████████████| 30/30 [16:46<00:00, 33.56s/trial, best loss: -0.5474576271186441]\n",
      "Score on inner loop 0.5474576271186441 \n",
      " {'colsample_bytree': 0.7361815854552042, 'gamma': 6.179232515312562, 'learning_rate': 0.09550622063938259, 'max_depth': 29, 'min_child_weight': 7.0, 'n_estimators': 320, 'scale_pos_weight': 4.0165605917825715, 'n_components': 300}\n",
      "\n",
      "100%|███████████████████████████████████████████████| 30/30 [36:01<00:00, 72.05s/trial, best loss: -0.5711711711711712]\n",
      "Score on inner loop 0.5711711711711712 \n",
      " {'colsample_bytree': 0.9077822815360623, 'gamma': 5.090204099300857, 'learning_rate': 0.19932543045540188, 'max_depth': 37, 'min_child_weight': 5.0, 'n_estimators': 620, 'scale_pos_weight': 3.504889891022607, 'n_components': 320}\n",
      "\n",
      "Best hyperparameters found in inner loop\n",
      "{'colsample_bytree': 0.9077822815360623, 'gamma': 5.090204099300857, 'learning_rate': 0.19932543045540188, 'max_depth': 37, 'min_child_weight': 5.0, 'n_estimators': 620, 'scale_pos_weight': 3.504889891022607, 'n_components': 320}\n",
      "\n",
      "\n",
      "Performance on the outer test fold:\n",
      "        Micro F1 (on outer loop): 52.46%\n",
      "        Micro Recall (on outer loop): 59.20%\n",
      "        Micro Precision (on outer loop): 47.10%\n",
      "\n",
      " 53%|█████████████████████████                      | 16/30 [13:28<15:27, 66.23s/trial, best loss: -0.5291005291005291]"
     ]
    },
    {
     "name": "stderr",
     "output_type": "stream",
     "text": [
      "C:\\Users\\DB Accountancy\\anaconda3\\lib\\site-packages\\sklearn\\decomposition\\_lda.py:806: RuntimeWarning: overflow encountered in exp\n",
      "  return np.exp(-1.0 * perword_bound)\n",
      "\n"
     ]
    },
    {
     "name": "stdout",
     "output_type": "stream",
     "text": [
      "100%|████████████████████████████████████████████████| 30/30 [24:55<00:00, 49.87s/trial, best loss: -0.570999248685199]\n",
      "Score on inner loop 0.570999248685199 \n",
      " {'colsample_bytree': 0.7982291177279011, 'gamma': 6.993950815828568, 'learning_rate': 0.06307145786845687, 'max_depth': 5, 'min_child_weight': 9.0, 'n_estimators': 880, 'scale_pos_weight': 3.055582660408824, 'n_components': 220}\n",
      "\n",
      " 27%|████████████▊                                   | 8/30 [09:32<30:15, 82.53s/trial, best loss: -0.4892881824464409]"
     ]
    },
    {
     "name": "stderr",
     "output_type": "stream",
     "text": [
      "C:\\Users\\DB Accountancy\\anaconda3\\lib\\site-packages\\sklearn\\decomposition\\_lda.py:806: RuntimeWarning: overflow encountered in exp\n",
      "  return np.exp(-1.0 * perword_bound)\n",
      "\n"
     ]
    },
    {
     "name": "stdout",
     "output_type": "stream",
     "text": [
      " 33%|███████████████▋                               | 10/30 [12:25<28:11, 84.58s/trial, best loss: -0.4892881824464409]"
     ]
    },
    {
     "name": "stderr",
     "output_type": "stream",
     "text": [
      "C:\\Users\\DB Accountancy\\anaconda3\\lib\\site-packages\\sklearn\\decomposition\\_lda.py:806: RuntimeWarning: overflow encountered in exp\n",
      "  return np.exp(-1.0 * perword_bound)\n",
      "\n"
     ]
    },
    {
     "name": "stdout",
     "output_type": "stream",
     "text": [
      "100%|███████████████████████████████████████████████| 30/30 [30:38<00:00, 61.27s/trial, best loss: -0.5910808767951626]\n",
      "Score on inner loop 0.5910808767951626 \n",
      " {'colsample_bytree': 0.5790142848118754, 'gamma': 8.015769540970314, 'learning_rate': 0.12545788148691056, 'max_depth': 14, 'min_child_weight': 0.0, 'n_estimators': 640, 'scale_pos_weight': 4.43282453610716, 'n_components': 180}\n",
      "\n",
      "Best hyperparameters found in inner loop\n",
      "{'colsample_bytree': 0.5790142848118754, 'gamma': 8.015769540970314, 'learning_rate': 0.12545788148691056, 'max_depth': 14, 'min_child_weight': 0.0, 'n_estimators': 640, 'scale_pos_weight': 4.43282453610716, 'n_components': 180}\n",
      "\n",
      "\n",
      "Performance on the outer test fold:\n",
      "        Micro F1 (on outer loop): 50.69%\n",
      "        Micro Recall (on outer loop): 56.24%\n",
      "        Micro Precision (on outer loop): 46.14%\n",
      "\n",
      "\n",
      "    Average over all folds:\n",
      "        Micro F1 52.85% +/- 1.94\n",
      "        Micro Recall 55.66% +/- 3.15\n",
      "        Micro Precision 51.04% +/- 6.26\n",
      "        Hamming 13.54% +/- 1.66\n",
      "        Accuracy 58.54% +/- 3.57\n"
     ]
    }
   ],
   "source": [
    "XGB.perform_bayesian_opt_pre(space,max_evals=30,lda=True)"
   ]
  },
  {
   "cell_type": "markdown",
   "metadata": {},
   "source": [
    "# 3. Interpretation of topics"
   ]
  },
  {
   "cell_type": "code",
   "execution_count": 39,
   "metadata": {},
   "outputs": [],
   "source": [
    "# initialize all models and every document-term matrix\n",
    "# bag of words document-term matrix\n",
    "cv = CountVectorizer()\n",
    "data_cv = cv.fit_transform(body.clean_text_lemma)\n",
    "dtm_CV = pd.DataFrame(data_cv.toarray(), columns=cv.get_feature_names())\n",
    "\n",
    "# tfidf document-term matrix\n",
    "tfidf = TfidfVectorizer()\n",
    "data_tfidf = tfidf.fit_transform(body.clean_text_lemma)\n",
    "dtm_tfidf = pd.DataFrame(data_tfidf.toarray(), columns=tfidf.get_feature_names())\n",
    "\n",
    "# lsa model\n",
    "lsa_obj = TruncatedSVD(n_components=30, \n",
    "                       n_iter=100, \n",
    "                       random_state=0)\n",
    "lsa_data = lsa_obj.fit_transform(dtm_tfidf)\n",
    "\n",
    "# lda model\n",
    "lda_obj = LatentDirichletAllocation(n_components=30,\n",
    "                                    doc_topic_prior = 0.1,\n",
    "                                    topic_word_prior = 1,\n",
    "                                    n_jobs=-1, random_state=0)\n",
    "lda_data = lda_obj.fit_transform(dtm_tfidf)"
   ]
  },
  {
   "cell_type": "code",
   "execution_count": 51,
   "metadata": {
    "scrolled": true
   },
   "outputs": [
    {
     "name": "stdout",
     "output_type": "stream",
     "text": [
      "\n",
      "Topic #5:\n",
      "locatie; prima; ontbijt; schoon; super; leuk; vriendelijk; personeel; kamer; top; ruim\n",
      "\n",
      "Topic #6:\n",
      "ligging; hotel; prima; heerlijk; schoon; perfect; centraal; mooi; centrum; leuk; sfeer\n",
      "\n",
      "Topic #7:\n",
      "ruim; schoon; bed; heerlijk; goed; zeer; mooi; kamer; fijn; prima; vriendelijk\n",
      "\n",
      "Topic #19:\n",
      "heerlijk; ruim; prijs; leuk; kwaliteit; sfeer; perfect; prima; zeer; verhouding; vriendelijkheid\n",
      "\n",
      "Topic #22:\n",
      "ok; leuk; parking; kamer; schoon; slecht; duur; sfeer; bed; proper; echt\n"
     ]
    }
   ],
   "source": [
    "# show terms per topic (LSA)\n",
    "words = cv.get_feature_names()\n",
    "for topic_idx, topic in enumerate(lsa_obj.components_):\n",
    "    if topic_idx in [4,5,6,21,18]:\n",
    "        print(f\"\\nTopic #{topic_idx+1}:\")\n",
    "        print(\"; \".join([words[i]\n",
    "                         for i in topic.argsort()[:-10 - 2:-1]]))"
   ]
  },
  {
   "cell_type": "markdown",
   "metadata": {},
   "source": [
    "## 3.1 best overall model: Random Forest (LSA & TF-IDF)"
   ]
  },
  {
   "cell_type": "code",
   "execution_count": 50,
   "metadata": {
    "scrolled": true
   },
   "outputs": [
    {
     "data": {
      "text/html": [
       "<div>\n",
       "<style scoped>\n",
       "    .dataframe tbody tr th:only-of-type {\n",
       "        vertical-align: middle;\n",
       "    }\n",
       "\n",
       "    .dataframe tbody tr th {\n",
       "        vertical-align: top;\n",
       "    }\n",
       "\n",
       "    .dataframe thead th {\n",
       "        text-align: right;\n",
       "    }\n",
       "</style>\n",
       "<table border=\"1\" class=\"dataframe\">\n",
       "  <thead>\n",
       "    <tr style=\"text-align: right;\">\n",
       "      <th></th>\n",
       "      <th>topic_1</th>\n",
       "      <th>topic_2</th>\n",
       "      <th>topic_3</th>\n",
       "      <th>topic_4</th>\n",
       "      <th>topic_5</th>\n",
       "      <th>topic_6</th>\n",
       "      <th>topic_7</th>\n",
       "      <th>topic_8</th>\n",
       "      <th>topic_9</th>\n",
       "      <th>topic_10</th>\n",
       "      <th>...</th>\n",
       "      <th>topic_21</th>\n",
       "      <th>topic_22</th>\n",
       "      <th>topic_23</th>\n",
       "      <th>topic_24</th>\n",
       "      <th>topic_25</th>\n",
       "      <th>topic_26</th>\n",
       "      <th>topic_27</th>\n",
       "      <th>topic_28</th>\n",
       "      <th>topic_29</th>\n",
       "      <th>topic_30</th>\n",
       "    </tr>\n",
       "  </thead>\n",
       "  <tbody>\n",
       "    <tr>\n",
       "      <th>0</th>\n",
       "      <td>0.220452</td>\n",
       "      <td>-0.008734</td>\n",
       "      <td>-0.103587</td>\n",
       "      <td>0.168713</td>\n",
       "      <td>-0.185408</td>\n",
       "      <td>-0.053710</td>\n",
       "      <td>0.159080</td>\n",
       "      <td>-0.026212</td>\n",
       "      <td>-0.059545</td>\n",
       "      <td>0.010566</td>\n",
       "      <td>...</td>\n",
       "      <td>-0.074412</td>\n",
       "      <td>0.027420</td>\n",
       "      <td>-0.024166</td>\n",
       "      <td>-0.032301</td>\n",
       "      <td>0.096700</td>\n",
       "      <td>-0.036376</td>\n",
       "      <td>0.047393</td>\n",
       "      <td>-0.071422</td>\n",
       "      <td>0.058262</td>\n",
       "      <td>-0.074846</td>\n",
       "    </tr>\n",
       "    <tr>\n",
       "      <th>1</th>\n",
       "      <td>0.288873</td>\n",
       "      <td>0.362840</td>\n",
       "      <td>0.256717</td>\n",
       "      <td>-0.070316</td>\n",
       "      <td>-0.034638</td>\n",
       "      <td>-0.101037</td>\n",
       "      <td>0.064788</td>\n",
       "      <td>0.251172</td>\n",
       "      <td>0.174366</td>\n",
       "      <td>0.028177</td>\n",
       "      <td>...</td>\n",
       "      <td>-0.121869</td>\n",
       "      <td>-0.196991</td>\n",
       "      <td>-0.128109</td>\n",
       "      <td>0.183307</td>\n",
       "      <td>-0.086952</td>\n",
       "      <td>0.103356</td>\n",
       "      <td>0.035042</td>\n",
       "      <td>-0.003148</td>\n",
       "      <td>0.062486</td>\n",
       "      <td>-0.123628</td>\n",
       "    </tr>\n",
       "    <tr>\n",
       "      <th>2</th>\n",
       "      <td>0.107330</td>\n",
       "      <td>-0.029813</td>\n",
       "      <td>-0.082443</td>\n",
       "      <td>-0.021691</td>\n",
       "      <td>-0.013626</td>\n",
       "      <td>-0.031462</td>\n",
       "      <td>-0.003643</td>\n",
       "      <td>0.010967</td>\n",
       "      <td>0.034130</td>\n",
       "      <td>0.049533</td>\n",
       "      <td>...</td>\n",
       "      <td>0.075182</td>\n",
       "      <td>0.003402</td>\n",
       "      <td>-0.057935</td>\n",
       "      <td>-0.032077</td>\n",
       "      <td>0.033574</td>\n",
       "      <td>0.039275</td>\n",
       "      <td>-0.019420</td>\n",
       "      <td>0.046533</td>\n",
       "      <td>-0.050686</td>\n",
       "      <td>0.068111</td>\n",
       "    </tr>\n",
       "    <tr>\n",
       "      <th>3</th>\n",
       "      <td>0.171783</td>\n",
       "      <td>-0.025601</td>\n",
       "      <td>-0.056247</td>\n",
       "      <td>0.184037</td>\n",
       "      <td>-0.171589</td>\n",
       "      <td>0.011134</td>\n",
       "      <td>0.125227</td>\n",
       "      <td>0.061108</td>\n",
       "      <td>-0.062927</td>\n",
       "      <td>-0.042401</td>\n",
       "      <td>...</td>\n",
       "      <td>0.011221</td>\n",
       "      <td>-0.069248</td>\n",
       "      <td>-0.014823</td>\n",
       "      <td>-0.072700</td>\n",
       "      <td>-0.003408</td>\n",
       "      <td>-0.006837</td>\n",
       "      <td>-0.042174</td>\n",
       "      <td>0.034377</td>\n",
       "      <td>-0.058677</td>\n",
       "      <td>-0.061328</td>\n",
       "    </tr>\n",
       "    <tr>\n",
       "      <th>4</th>\n",
       "      <td>0.162254</td>\n",
       "      <td>-0.009814</td>\n",
       "      <td>-0.073178</td>\n",
       "      <td>0.049973</td>\n",
       "      <td>-0.107763</td>\n",
       "      <td>0.008977</td>\n",
       "      <td>0.091917</td>\n",
       "      <td>0.090793</td>\n",
       "      <td>-0.034750</td>\n",
       "      <td>0.033938</td>\n",
       "      <td>...</td>\n",
       "      <td>-0.004619</td>\n",
       "      <td>0.038385</td>\n",
       "      <td>-0.018603</td>\n",
       "      <td>0.041900</td>\n",
       "      <td>-0.016919</td>\n",
       "      <td>-0.012672</td>\n",
       "      <td>-0.038955</td>\n",
       "      <td>-0.037030</td>\n",
       "      <td>0.025487</td>\n",
       "      <td>0.169539</td>\n",
       "    </tr>\n",
       "    <tr>\n",
       "      <th>...</th>\n",
       "      <td>...</td>\n",
       "      <td>...</td>\n",
       "      <td>...</td>\n",
       "      <td>...</td>\n",
       "      <td>...</td>\n",
       "      <td>...</td>\n",
       "      <td>...</td>\n",
       "      <td>...</td>\n",
       "      <td>...</td>\n",
       "      <td>...</td>\n",
       "      <td>...</td>\n",
       "      <td>...</td>\n",
       "      <td>...</td>\n",
       "      <td>...</td>\n",
       "      <td>...</td>\n",
       "      <td>...</td>\n",
       "      <td>...</td>\n",
       "      <td>...</td>\n",
       "      <td>...</td>\n",
       "      <td>...</td>\n",
       "      <td>...</td>\n",
       "    </tr>\n",
       "    <tr>\n",
       "      <th>1435</th>\n",
       "      <td>0.144459</td>\n",
       "      <td>0.087097</td>\n",
       "      <td>-0.016517</td>\n",
       "      <td>-0.054912</td>\n",
       "      <td>0.000945</td>\n",
       "      <td>0.029017</td>\n",
       "      <td>-0.049409</td>\n",
       "      <td>0.156483</td>\n",
       "      <td>-0.031348</td>\n",
       "      <td>0.014174</td>\n",
       "      <td>...</td>\n",
       "      <td>0.011802</td>\n",
       "      <td>-0.001884</td>\n",
       "      <td>-0.026340</td>\n",
       "      <td>0.046652</td>\n",
       "      <td>-0.093666</td>\n",
       "      <td>-0.011580</td>\n",
       "      <td>0.025816</td>\n",
       "      <td>-0.066553</td>\n",
       "      <td>0.089490</td>\n",
       "      <td>-0.020212</td>\n",
       "    </tr>\n",
       "    <tr>\n",
       "      <th>1436</th>\n",
       "      <td>0.174823</td>\n",
       "      <td>-0.070281</td>\n",
       "      <td>-0.089935</td>\n",
       "      <td>-0.035016</td>\n",
       "      <td>-0.053882</td>\n",
       "      <td>-0.041672</td>\n",
       "      <td>-0.012690</td>\n",
       "      <td>0.038849</td>\n",
       "      <td>-0.096499</td>\n",
       "      <td>-0.010124</td>\n",
       "      <td>...</td>\n",
       "      <td>0.054175</td>\n",
       "      <td>0.091357</td>\n",
       "      <td>0.012763</td>\n",
       "      <td>-0.125202</td>\n",
       "      <td>-0.115444</td>\n",
       "      <td>-0.107565</td>\n",
       "      <td>-0.032380</td>\n",
       "      <td>-0.020275</td>\n",
       "      <td>-0.045148</td>\n",
       "      <td>-0.011398</td>\n",
       "    </tr>\n",
       "    <tr>\n",
       "      <th>1437</th>\n",
       "      <td>0.133588</td>\n",
       "      <td>-0.045624</td>\n",
       "      <td>-0.100263</td>\n",
       "      <td>-0.027744</td>\n",
       "      <td>-0.085157</td>\n",
       "      <td>-0.026445</td>\n",
       "      <td>-0.042928</td>\n",
       "      <td>0.042251</td>\n",
       "      <td>-0.040439</td>\n",
       "      <td>0.052429</td>\n",
       "      <td>...</td>\n",
       "      <td>0.024452</td>\n",
       "      <td>-0.020239</td>\n",
       "      <td>0.026310</td>\n",
       "      <td>0.078932</td>\n",
       "      <td>0.084116</td>\n",
       "      <td>0.016161</td>\n",
       "      <td>0.005659</td>\n",
       "      <td>0.052762</td>\n",
       "      <td>-0.040533</td>\n",
       "      <td>0.139142</td>\n",
       "    </tr>\n",
       "    <tr>\n",
       "      <th>1438</th>\n",
       "      <td>0.127711</td>\n",
       "      <td>0.104919</td>\n",
       "      <td>-0.017367</td>\n",
       "      <td>-0.042730</td>\n",
       "      <td>0.021693</td>\n",
       "      <td>-0.045208</td>\n",
       "      <td>-0.006475</td>\n",
       "      <td>-0.029624</td>\n",
       "      <td>0.011327</td>\n",
       "      <td>-0.008080</td>\n",
       "      <td>...</td>\n",
       "      <td>-0.049468</td>\n",
       "      <td>0.078344</td>\n",
       "      <td>0.058965</td>\n",
       "      <td>0.017483</td>\n",
       "      <td>-0.039237</td>\n",
       "      <td>-0.056720</td>\n",
       "      <td>0.027041</td>\n",
       "      <td>0.072665</td>\n",
       "      <td>-0.063735</td>\n",
       "      <td>-0.033220</td>\n",
       "    </tr>\n",
       "    <tr>\n",
       "      <th>1439</th>\n",
       "      <td>0.302285</td>\n",
       "      <td>-0.067585</td>\n",
       "      <td>-0.058016</td>\n",
       "      <td>0.122501</td>\n",
       "      <td>-0.208901</td>\n",
       "      <td>-0.129567</td>\n",
       "      <td>0.049305</td>\n",
       "      <td>0.040820</td>\n",
       "      <td>-0.178156</td>\n",
       "      <td>0.119758</td>\n",
       "      <td>...</td>\n",
       "      <td>0.062950</td>\n",
       "      <td>0.005665</td>\n",
       "      <td>0.053697</td>\n",
       "      <td>-0.008543</td>\n",
       "      <td>-0.025275</td>\n",
       "      <td>0.047222</td>\n",
       "      <td>0.020157</td>\n",
       "      <td>-0.075012</td>\n",
       "      <td>-0.010746</td>\n",
       "      <td>0.221011</td>\n",
       "    </tr>\n",
       "  </tbody>\n",
       "</table>\n",
       "<p>1440 rows × 30 columns</p>\n",
       "</div>"
      ],
      "text/plain": [
       "       topic_1   topic_2   topic_3   topic_4   topic_5   topic_6   topic_7  \\\n",
       "0     0.220452 -0.008734 -0.103587  0.168713 -0.185408 -0.053710  0.159080   \n",
       "1     0.288873  0.362840  0.256717 -0.070316 -0.034638 -0.101037  0.064788   \n",
       "2     0.107330 -0.029813 -0.082443 -0.021691 -0.013626 -0.031462 -0.003643   \n",
       "3     0.171783 -0.025601 -0.056247  0.184037 -0.171589  0.011134  0.125227   \n",
       "4     0.162254 -0.009814 -0.073178  0.049973 -0.107763  0.008977  0.091917   \n",
       "...        ...       ...       ...       ...       ...       ...       ...   \n",
       "1435  0.144459  0.087097 -0.016517 -0.054912  0.000945  0.029017 -0.049409   \n",
       "1436  0.174823 -0.070281 -0.089935 -0.035016 -0.053882 -0.041672 -0.012690   \n",
       "1437  0.133588 -0.045624 -0.100263 -0.027744 -0.085157 -0.026445 -0.042928   \n",
       "1438  0.127711  0.104919 -0.017367 -0.042730  0.021693 -0.045208 -0.006475   \n",
       "1439  0.302285 -0.067585 -0.058016  0.122501 -0.208901 -0.129567  0.049305   \n",
       "\n",
       "       topic_8   topic_9  topic_10  ...  topic_21  topic_22  topic_23  \\\n",
       "0    -0.026212 -0.059545  0.010566  ... -0.074412  0.027420 -0.024166   \n",
       "1     0.251172  0.174366  0.028177  ... -0.121869 -0.196991 -0.128109   \n",
       "2     0.010967  0.034130  0.049533  ...  0.075182  0.003402 -0.057935   \n",
       "3     0.061108 -0.062927 -0.042401  ...  0.011221 -0.069248 -0.014823   \n",
       "4     0.090793 -0.034750  0.033938  ... -0.004619  0.038385 -0.018603   \n",
       "...        ...       ...       ...  ...       ...       ...       ...   \n",
       "1435  0.156483 -0.031348  0.014174  ...  0.011802 -0.001884 -0.026340   \n",
       "1436  0.038849 -0.096499 -0.010124  ...  0.054175  0.091357  0.012763   \n",
       "1437  0.042251 -0.040439  0.052429  ...  0.024452 -0.020239  0.026310   \n",
       "1438 -0.029624  0.011327 -0.008080  ... -0.049468  0.078344  0.058965   \n",
       "1439  0.040820 -0.178156  0.119758  ...  0.062950  0.005665  0.053697   \n",
       "\n",
       "      topic_24  topic_25  topic_26  topic_27  topic_28  topic_29  topic_30  \n",
       "0    -0.032301  0.096700 -0.036376  0.047393 -0.071422  0.058262 -0.074846  \n",
       "1     0.183307 -0.086952  0.103356  0.035042 -0.003148  0.062486 -0.123628  \n",
       "2    -0.032077  0.033574  0.039275 -0.019420  0.046533 -0.050686  0.068111  \n",
       "3    -0.072700 -0.003408 -0.006837 -0.042174  0.034377 -0.058677 -0.061328  \n",
       "4     0.041900 -0.016919 -0.012672 -0.038955 -0.037030  0.025487  0.169539  \n",
       "...        ...       ...       ...       ...       ...       ...       ...  \n",
       "1435  0.046652 -0.093666 -0.011580  0.025816 -0.066553  0.089490 -0.020212  \n",
       "1436 -0.125202 -0.115444 -0.107565 -0.032380 -0.020275 -0.045148 -0.011398  \n",
       "1437  0.078932  0.084116  0.016161  0.005659  0.052762 -0.040533  0.139142  \n",
       "1438  0.017483 -0.039237 -0.056720  0.027041  0.072665 -0.063735 -0.033220  \n",
       "1439 -0.008543 -0.025275  0.047222  0.020157 -0.075012 -0.010746  0.221011  \n",
       "\n",
       "[1440 rows x 30 columns]"
      ]
     },
     "execution_count": 50,
     "metadata": {},
     "output_type": "execute_result"
    }
   ],
   "source": [
    "# make document-topic matrix\n",
    "doc_top_df = pd.DataFrame(lsa_data,\n",
    "                          columns = [f'topic_{r+1}' for r in range(30)])\n",
    "doc_top_df"
   ]
  },
  {
   "cell_type": "code",
   "execution_count": 36,
   "metadata": {},
   "outputs": [],
   "source": [
    "# function to identify the most important topics per fold used for evaluation\n",
    "def important_predictors(classifier, dtm, Y, splits=5):\n",
    "    print(50 * '-', '\\n')\n",
    "    print('Algorithm:', 'random forest')\n",
    "    print('    Folds:')\n",
    "\n",
    "    # define the outer loop\n",
    "    cv = MultilabelStratifiedKFold(n_splits=splits, shuffle=True, random_state=0)\n",
    "\n",
    "    # loop over the different folds (using the index provided by the outer cv function)\n",
    "    fold = 1\n",
    "    for train_idx, valid_idx in list(cv.split(dtm, Y)):\n",
    "        # fit the model on the training fold \n",
    "        classifier.fit(dtm.iloc[train_idx,:], Y.iloc[train_idx,:]) \n",
    "        print()\n",
    "        print('     Fold:', fold)\n",
    "        print(pd.DataFrame(classifier.feature_importances_, \n",
    "                           index = dtm.columns, \n",
    "                           columns = ['importance']).sort_values('importance', ascending=False).iloc[:8,:])\n",
    "        fold += 1"
   ]
  },
  {
   "cell_type": "code",
   "execution_count": 59,
   "metadata": {
    "scrolled": true
   },
   "outputs": [
    {
     "name": "stdout",
     "output_type": "stream",
     "text": [
      "-------------------------------------------------- \n",
      "\n",
      "Algorithm: random forest\n",
      "    Folds:\n"
     ]
    },
    {
     "name": "stderr",
     "output_type": "stream",
     "text": [
      "C:\\Users\\DB Accountancy\\anaconda3\\lib\\site-packages\\sklearn\\utils\\validation.py:67: FutureWarning: Pass shuffle=True, random_state=0 as keyword args. From version 0.25 passing these as positional arguments will result in an error\n",
      "  warnings.warn(\"Pass {} as keyword args. From version 0.25 \"\n"
     ]
    },
    {
     "name": "stdout",
     "output_type": "stream",
     "text": [
      "\n",
      "     Fold: 1\n",
      "          importance\n",
      "topic_6     0.081826\n",
      "topic_7     0.049763\n",
      "topic_19    0.045684\n",
      "topic_27    0.036275\n",
      "topic_22    0.035410\n",
      "topic_10    0.035125\n",
      "topic_26    0.034618\n",
      "topic_15    0.033471\n",
      "\n",
      "     Fold: 2\n",
      "          importance\n",
      "topic_6     0.090355\n",
      "topic_7     0.047818\n",
      "topic_19    0.046439\n",
      "topic_5     0.039836\n",
      "topic_22    0.039017\n",
      "topic_9     0.035117\n",
      "topic_10    0.034225\n",
      "topic_16    0.033102\n",
      "\n",
      "     Fold: 3\n",
      "          importance\n",
      "topic_6     0.083717\n",
      "topic_19    0.049442\n",
      "topic_7     0.042395\n",
      "topic_22    0.041479\n",
      "topic_5     0.036586\n",
      "topic_10    0.034528\n",
      "topic_12    0.034433\n",
      "topic_14    0.033722\n",
      "\n",
      "     Fold: 4\n",
      "          importance\n",
      "topic_6     0.081583\n",
      "topic_7     0.050265\n",
      "topic_19    0.046059\n",
      "topic_22    0.039666\n",
      "topic_5     0.036825\n",
      "topic_12    0.036802\n",
      "topic_10    0.035601\n",
      "topic_9     0.035199\n",
      "\n",
      "     Fold: 5\n",
      "          importance\n",
      "topic_6     0.087813\n",
      "topic_19    0.046822\n",
      "topic_7     0.045198\n",
      "topic_12    0.037931\n",
      "topic_5     0.035972\n",
      "topic_22    0.035469\n",
      "topic_9     0.035295\n",
      "topic_26    0.033799\n"
     ]
    }
   ],
   "source": [
    "# most important topics\n",
    "rf = RandomForestClassifier(n_estimators = 800,\n",
    "                           max_depth = 50,\n",
    "                           min_samples_leaf = 4,\n",
    "                           min_samples_split = 3,\n",
    "                           max_features = 'log2',\n",
    "                           class_weight = [{0:0.32, 1:0.68}, {0:0.34, 1:0.66}, \n",
    "                                           {0:0.4, 1:0.6}, {0:0.33, 1:0.67}, \n",
    "                                           {0:0.4, 1:0.6}, {0:0.4, 1:0.6}, \n",
    "                                           {0:0.4, 1:0.6}, {0:0.4, 1:0.6}]) \n",
    "important_predictors(rf, doc_top_df, Y)"
   ]
  },
  {
   "cell_type": "markdown",
   "metadata": {},
   "source": [
    "### 3.1.1 Performance using 3 topics "
   ]
  },
  {
   "cell_type": "code",
   "execution_count": 72,
   "metadata": {},
   "outputs": [],
   "source": [
    "# use only the important predictors to evaluate the models \n",
    "topics_small = doc_top_df.loc[:,['topic_6', 'topic_7','topic_19']]"
   ]
  },
  {
   "cell_type": "code",
   "execution_count": 63,
   "metadata": {},
   "outputs": [],
   "source": [
    "# DEFAULT PERFORMANCE\n",
    "RF = Model_eval(topics_small, Y, \n",
    "                RandomForestClassifier(random_state=0, n_estimators=800, n_jobs=-1),\n",
    "                'Random forest', \n",
    "               metrics)"
   ]
  },
  {
   "cell_type": "code",
   "execution_count": 64,
   "metadata": {
    "scrolled": true
   },
   "outputs": [
    {
     "name": "stdout",
     "output_type": "stream",
     "text": [
      "-------------------------------------------------- \n",
      "\n",
      "Algorithm: Random forest\n",
      "    Folds:\n"
     ]
    },
    {
     "name": "stderr",
     "output_type": "stream",
     "text": [
      "C:\\Users\\DB Accountancy\\anaconda3\\lib\\site-packages\\sklearn\\utils\\validation.py:67: FutureWarning: Pass shuffle=True, random_state=0 as keyword args. From version 0.25 passing these as positional arguments will result in an error\n",
      "  warnings.warn(\"Pass {} as keyword args. From version 0.25 \"\n"
     ]
    },
    {
     "name": "stdout",
     "output_type": "stream",
     "text": [
      "\n",
      "     Fold: 1\n",
      "        Micro F1: 43.33%\n",
      "        Micro Recall: 35.78%\n",
      "        Micro Precision: 54.90%\n",
      "\n",
      "     Fold: 2\n",
      "        Micro F1: 51.25%\n",
      "        Micro Recall: 45.69%\n",
      "        Micro Precision: 58.37%\n",
      "\n",
      "     Fold: 3\n",
      "        Micro F1: 52.34%\n",
      "        Micro Recall: 45.75%\n",
      "        Micro Precision: 61.14%\n",
      "\n",
      "     Fold: 4\n",
      "        Micro F1: 48.26%\n",
      "        Micro Recall: 42.04%\n",
      "        Micro Precision: 56.65%\n",
      "\n",
      "     Fold: 5\n",
      "        Micro F1: 44.49%\n",
      "        Micro Recall: 36.51%\n",
      "        Micro Precision: 56.93%\n",
      "\n",
      "    Average over all folds:\n",
      "        Micro F1 47.93% +/- 3.57\n",
      "        Micro Recall 41.15% +/- 4.31\n",
      "        Micro Precision 57.60% +/- 2.08\n",
      "        Hamming 12.07% +/- 0.58\n",
      "        Accuracy 61.11% +/- 2.43\n",
      "        Macro F1 19.22% +/- 1.40\n"
     ]
    }
   ],
   "source": [
    "RF.perform_CV()"
   ]
  },
  {
   "cell_type": "code",
   "execution_count": 46,
   "metadata": {},
   "outputs": [],
   "source": [
    "# TUNED PERFORMANCE\n",
    "# initialize model \n",
    "RF_tuned = Model_eval(topics_small, Y, \n",
    "                RandomForestClassifier(random_state=0), \n",
    "                'Random forest', \n",
    "               metrics)"
   ]
  },
  {
   "cell_type": "code",
   "execution_count": 66,
   "metadata": {},
   "outputs": [],
   "source": [
    "# make the parameter grid \n",
    "n_estimators = [100,200, 300, 400, 500, 800, 1000, 1500]\n",
    "max_depth = [2, 5, 10, 15, 20, 50, 70, 100] \n",
    "max_features = ['auto', 'log2']\n",
    "min_samples_split = [2, 3, 4, 5, 10, 15, 20]\n",
    "min_samples_leaf = [2, 3, 4 ,5, 10, 15, 20]\n",
    "weights = [[{0:0.32, 1:0.68}, {0:0.34, 1:0.66}, \n",
    "           {0:0.3, 1:0.7}, {0:0.33, 1:0.67}, \n",
    "           {0:0.3, 1:0.7}, {0:0.3, 1:0.7}, \n",
    "           {0:0.3, 1:0.7}, {0:0.3, 1:0.7}], \n",
    "           [{0:0.32, 1:0.68}, {0:0.34, 1:0.66}, \n",
    "           {0:0.4, 1:0.6}, {0:0.33, 1:0.67}, \n",
    "           {0:0.4, 1:0.6}, {0:0.4, 1:0.6}, \n",
    "           {0:0.4, 1:0.6}, {0:0.4, 1:0.6}],\n",
    "           [{0:0.32, 1:0.68}, {0:0.34, 1:0.66}, \n",
    "           {0:0.2, 1:0.8}, {0:0.33, 1:0.67}, \n",
    "           {0:0.2, 1:0.8}, {0:0.2, 1:0.8}, \n",
    "           {0:0.2, 1:0.8}, {0:0.2, 1:0.8}],\n",
    "           [{0:0.32, 1:0.68}, {0:0.34, 1:0.66}, \n",
    "           {0:0.1, 1:0.9}, {0:0.33, 1:0.67}, \n",
    "           {0:0.1, 1:0.9}, {0:0.1, 1:0.9}, \n",
    "           {0:0.1, 1:0.9}, {0:0.1, 1:0.9}],\n",
    "           [{0:0.32, 1:0.68}, {0:0.34, 1:0.66}, \n",
    "           {0:0.01, 1:0.99}, {0:0.33, 1:0.67}, \n",
    "           {0:0.01, 1:0.99}, {0:0.01, 1:0.99}, \n",
    "           {0:0.01, 1:0.99}, {0:0.01, 1:0.99}]]\n",
    "grid = {'n_estimators': n_estimators,\n",
    "        'max_features': max_features,\n",
    "        'max_depth': max_depth,\n",
    "        'min_samples_split': min_samples_split,\n",
    "        'min_samples_leaf': min_samples_leaf,\n",
    "        'class_weight': weights}\n"
   ]
  },
  {
   "cell_type": "code",
   "execution_count": 67,
   "metadata": {
    "scrolled": true
   },
   "outputs": [
    {
     "name": "stderr",
     "output_type": "stream",
     "text": [
      "C:\\Users\\DB Accountancy\\anaconda3\\lib\\site-packages\\sklearn\\utils\\validation.py:67: FutureWarning: Pass shuffle=True, random_state=0 as keyword args. From version 0.25 passing these as positional arguments will result in an error\n",
      "  warnings.warn(\"Pass {} as keyword args. From version 0.25 \"\n",
      "[Parallel(n_jobs=-1)]: Using backend LokyBackend with 8 concurrent workers.\n"
     ]
    },
    {
     "name": "stdout",
     "output_type": "stream",
     "text": [
      "-------------------------------------------------- \n",
      "\n",
      "Algorithm: Random forest\n",
      "    Inner loop:\n",
      "Fitting 2 folds for each of 100 candidates, totalling 200 fits\n"
     ]
    },
    {
     "name": "stderr",
     "output_type": "stream",
     "text": [
      "[Parallel(n_jobs=-1)]: Done  34 tasks      | elapsed:   23.2s\n",
      "[Parallel(n_jobs=-1)]: Done 184 tasks      | elapsed:  1.8min\n",
      "[Parallel(n_jobs=-1)]: Done 200 out of 200 | elapsed:  1.9min finished\n"
     ]
    },
    {
     "name": "stdout",
     "output_type": "stream",
     "text": [
      "\n",
      "        Best Micro F1 score (inner test folds): 58.46%\n",
      "        Best parameters: {'n_estimators': 100, 'min_samples_split': 5, 'min_samples_leaf': 5, 'max_features': 'auto', 'max_depth': 100, 'class_weight': [{0: 0.32, 1: 0.68}, {0: 0.34, 1: 0.66}, {0: 0.4, 1: 0.6}, {0: 0.33, 1: 0.67}, {0: 0.4, 1: 0.6}, {0: 0.4, 1: 0.6}, {0: 0.4, 1: 0.6}, {0: 0.4, 1: 0.6}]}\n",
      "        Micro F1 (on outer loop): 54.86%\n",
      "        Micro Recall (on outer loop): 70.29%\n",
      "        Micro Precision (on outer loop): 44.99%\n",
      "Fitting 2 folds for each of 100 candidates, totalling 200 fits\n"
     ]
    },
    {
     "name": "stderr",
     "output_type": "stream",
     "text": [
      "[Parallel(n_jobs=-1)]: Using backend LokyBackend with 8 concurrent workers.\n",
      "[Parallel(n_jobs=-1)]: Done  34 tasks      | elapsed:   24.1s\n",
      "[Parallel(n_jobs=-1)]: Done 184 tasks      | elapsed:  1.8min\n",
      "[Parallel(n_jobs=-1)]: Done 200 out of 200 | elapsed:  2.0min finished\n"
     ]
    },
    {
     "name": "stdout",
     "output_type": "stream",
     "text": [
      "\n",
      "        Best Micro F1 score (inner test folds): 59.35%\n",
      "        Best parameters: {'n_estimators': 1000, 'min_samples_split': 2, 'min_samples_leaf': 3, 'max_features': 'auto', 'max_depth': 20, 'class_weight': [{0: 0.32, 1: 0.68}, {0: 0.34, 1: 0.66}, {0: 0.4, 1: 0.6}, {0: 0.33, 1: 0.67}, {0: 0.4, 1: 0.6}, {0: 0.4, 1: 0.6}, {0: 0.4, 1: 0.6}, {0: 0.4, 1: 0.6}]}\n",
      "        Micro F1 (on outer loop): 57.46%\n",
      "        Micro Recall (on outer loop): 67.09%\n",
      "        Micro Precision (on outer loop): 50.24%\n",
      "Fitting 2 folds for each of 100 candidates, totalling 200 fits\n"
     ]
    },
    {
     "name": "stderr",
     "output_type": "stream",
     "text": [
      "[Parallel(n_jobs=-1)]: Using backend LokyBackend with 8 concurrent workers.\n",
      "[Parallel(n_jobs=-1)]: Done  34 tasks      | elapsed:   14.5s\n",
      "[Parallel(n_jobs=-1)]: Done 184 tasks      | elapsed:  1.5min\n",
      "[Parallel(n_jobs=-1)]: Done 200 out of 200 | elapsed:  1.7min finished\n"
     ]
    },
    {
     "name": "stdout",
     "output_type": "stream",
     "text": [
      "\n",
      "        Best Micro F1 score (inner test folds): 57.39%\n",
      "        Best parameters: {'n_estimators': 1000, 'min_samples_split': 10, 'min_samples_leaf': 2, 'max_features': 'log2', 'max_depth': 20, 'class_weight': [{0: 0.32, 1: 0.68}, {0: 0.34, 1: 0.66}, {0: 0.4, 1: 0.6}, {0: 0.33, 1: 0.67}, {0: 0.4, 1: 0.6}, {0: 0.4, 1: 0.6}, {0: 0.4, 1: 0.6}, {0: 0.4, 1: 0.6}]}\n",
      "        Micro F1 (on outer loop): 61.37%\n",
      "        Micro Recall (on outer loop): 71.90%\n",
      "        Micro Precision (on outer loop): 53.53%\n",
      "Fitting 2 folds for each of 100 candidates, totalling 200 fits\n"
     ]
    },
    {
     "name": "stderr",
     "output_type": "stream",
     "text": [
      "[Parallel(n_jobs=-1)]: Using backend LokyBackend with 8 concurrent workers.\n",
      "[Parallel(n_jobs=-1)]: Done  34 tasks      | elapsed:   23.6s\n",
      "[Parallel(n_jobs=-1)]: Done 184 tasks      | elapsed:  1.8min\n",
      "[Parallel(n_jobs=-1)]: Done 200 out of 200 | elapsed:  2.0min finished\n"
     ]
    },
    {
     "name": "stdout",
     "output_type": "stream",
     "text": [
      "\n",
      "        Best Micro F1 score (inner test folds): 57.81%\n",
      "        Best parameters: {'n_estimators': 500, 'min_samples_split': 4, 'min_samples_leaf': 2, 'max_features': 'auto', 'max_depth': 15, 'class_weight': [{0: 0.32, 1: 0.68}, {0: 0.34, 1: 0.66}, {0: 0.01, 1: 0.99}, {0: 0.33, 1: 0.67}, {0: 0.01, 1: 0.99}, {0: 0.01, 1: 0.99}, {0: 0.01, 1: 0.99}, {0: 0.01, 1: 0.99}]}\n",
      "        Micro F1 (on outer loop): 56.12%\n",
      "        Micro Recall (on outer loop): 64.97%\n",
      "        Micro Precision (on outer loop): 49.39%\n",
      "Fitting 2 folds for each of 100 candidates, totalling 200 fits\n"
     ]
    },
    {
     "name": "stderr",
     "output_type": "stream",
     "text": [
      "[Parallel(n_jobs=-1)]: Using backend LokyBackend with 8 concurrent workers.\n",
      "[Parallel(n_jobs=-1)]: Done  34 tasks      | elapsed:   17.5s\n",
      "[Parallel(n_jobs=-1)]: Done 184 tasks      | elapsed:  1.8min\n",
      "[Parallel(n_jobs=-1)]: Done 200 out of 200 | elapsed:  2.0min finished\n"
     ]
    },
    {
     "name": "stdout",
     "output_type": "stream",
     "text": [
      "\n",
      "        Best Micro F1 score (inner test folds): 57.28%\n",
      "        Best parameters: {'n_estimators': 500, 'min_samples_split': 2, 'min_samples_leaf': 2, 'max_features': 'auto', 'max_depth': 10, 'class_weight': [{0: 0.32, 1: 0.68}, {0: 0.34, 1: 0.66}, {0: 0.2, 1: 0.8}, {0: 0.33, 1: 0.67}, {0: 0.2, 1: 0.8}, {0: 0.2, 1: 0.8}, {0: 0.2, 1: 0.8}, {0: 0.2, 1: 0.8}]}\n",
      "        Micro F1 (on outer loop): 58.01%\n",
      "        Micro Recall (on outer loop): 75.87%\n",
      "        Micro Precision (on outer loop): 46.95%\n",
      "\n",
      "    Average over all folds:\n",
      "        Micro F1 57.56% +/- 2.19\n",
      "        Micro Recall 70.02% +/- 3.79\n",
      "        Micro Precision 49.02% +/- 2.91\n",
      "        Hamming 14.02% +/- 1.28\n",
      "        Accuracy 51.94% +/- 3.75\n",
      "        Macro F1 23.02% +/- 1.02\n"
     ]
    }
   ],
   "source": [
    "# perform random gridsearch\n",
    "RF_tuned.perform_nested_CV(grid, inner_splits=2, iterations = 100, random=True)"
   ]
  },
  {
   "cell_type": "markdown",
   "metadata": {},
   "source": [
    "### 3.1.2 Performance using 5 topics"
   ]
  },
  {
   "cell_type": "code",
   "execution_count": 68,
   "metadata": {},
   "outputs": [],
   "source": [
    "# use only the important predictors to evaluate the models \n",
    "topics_small = doc_top_df.loc[:,['topic_6', 'topic_7','topic_19', 'topic_22', 'topic_5']]"
   ]
  },
  {
   "cell_type": "code",
   "execution_count": 69,
   "metadata": {},
   "outputs": [],
   "source": [
    "# initialize model \n",
    "RF_tuned = Model_eval(topics_small, Y, \n",
    "                RandomForestClassifier(random_state=0), \n",
    "                'Random forest', \n",
    "               metrics)"
   ]
  },
  {
   "cell_type": "code",
   "execution_count": 70,
   "metadata": {},
   "outputs": [],
   "source": [
    "# make the parameter grid \n",
    "n_estimators = [100,200, 300, 400, 500, 800, 1000, 1500]\n",
    "max_depth = [2, 5, 10, 15, 20, 50, 70, 100] \n",
    "max_features = ['auto', 'log2']\n",
    "min_samples_split = [2, 3, 4, 5, 10, 15, 20]\n",
    "min_samples_leaf = [2, 3, 4 ,5, 10, 15, 20]\n",
    "weights = [[{0:0.32, 1:0.68}, {0:0.34, 1:0.66}, \n",
    "           {0:0.3, 1:0.7}, {0:0.33, 1:0.67}, \n",
    "           {0:0.3, 1:0.7}, {0:0.3, 1:0.7}, \n",
    "           {0:0.3, 1:0.7}, {0:0.3, 1:0.7}], \n",
    "           [{0:0.32, 1:0.68}, {0:0.34, 1:0.66}, \n",
    "           {0:0.4, 1:0.6}, {0:0.33, 1:0.67}, \n",
    "           {0:0.4, 1:0.6}, {0:0.4, 1:0.6}, \n",
    "           {0:0.4, 1:0.6}, {0:0.4, 1:0.6}],\n",
    "           [{0:0.32, 1:0.68}, {0:0.34, 1:0.66}, \n",
    "           {0:0.2, 1:0.8}, {0:0.33, 1:0.67}, \n",
    "           {0:0.2, 1:0.8}, {0:0.2, 1:0.8}, \n",
    "           {0:0.2, 1:0.8}, {0:0.2, 1:0.8}],\n",
    "           [{0:0.32, 1:0.68}, {0:0.34, 1:0.66}, \n",
    "           {0:0.1, 1:0.9}, {0:0.33, 1:0.67}, \n",
    "           {0:0.1, 1:0.9}, {0:0.1, 1:0.9}, \n",
    "           {0:0.1, 1:0.9}, {0:0.1, 1:0.9}],\n",
    "           [{0:0.32, 1:0.68}, {0:0.34, 1:0.66}, \n",
    "           {0:0.01, 1:0.99}, {0:0.33, 1:0.67}, \n",
    "           {0:0.01, 1:0.99}, {0:0.01, 1:0.99}, \n",
    "           {0:0.01, 1:0.99}, {0:0.01, 1:0.99}]]\n",
    "grid = {'n_estimators': n_estimators,\n",
    "        'max_features': max_features,\n",
    "        'max_depth': max_depth,\n",
    "        'min_samples_split': min_samples_split,\n",
    "        'min_samples_leaf': min_samples_leaf,\n",
    "        'class_weight': weights}\n"
   ]
  },
  {
   "cell_type": "code",
   "execution_count": 71,
   "metadata": {
    "scrolled": true
   },
   "outputs": [
    {
     "name": "stderr",
     "output_type": "stream",
     "text": [
      "C:\\Users\\DB Accountancy\\anaconda3\\lib\\site-packages\\sklearn\\utils\\validation.py:67: FutureWarning: Pass shuffle=True, random_state=0 as keyword args. From version 0.25 passing these as positional arguments will result in an error\n",
      "  warnings.warn(\"Pass {} as keyword args. From version 0.25 \"\n",
      "[Parallel(n_jobs=-1)]: Using backend LokyBackend with 8 concurrent workers.\n"
     ]
    },
    {
     "name": "stdout",
     "output_type": "stream",
     "text": [
      "-------------------------------------------------- \n",
      "\n",
      "Algorithm: Random forest\n",
      "    Inner loop:\n",
      "Fitting 2 folds for each of 100 candidates, totalling 200 fits\n"
     ]
    },
    {
     "name": "stderr",
     "output_type": "stream",
     "text": [
      "[Parallel(n_jobs=-1)]: Done  34 tasks      | elapsed:   34.1s\n",
      "[Parallel(n_jobs=-1)]: Done 184 tasks      | elapsed:  2.1min\n",
      "[Parallel(n_jobs=-1)]: Done 200 out of 200 | elapsed:  2.3min finished\n"
     ]
    },
    {
     "name": "stdout",
     "output_type": "stream",
     "text": [
      "\n",
      "        Best Micro F1 score (inner test folds): 60.64%\n",
      "        Best parameters: {'n_estimators': 500, 'min_samples_split': 10, 'min_samples_leaf': 3, 'max_features': 'auto', 'max_depth': 15, 'class_weight': [{0: 0.32, 1: 0.68}, {0: 0.34, 1: 0.66}, {0: 0.4, 1: 0.6}, {0: 0.33, 1: 0.67}, {0: 0.4, 1: 0.6}, {0: 0.4, 1: 0.6}, {0: 0.4, 1: 0.6}, {0: 0.4, 1: 0.6}]}\n",
      "        Micro F1 (on outer loop): 59.92%\n",
      "        Micro Recall (on outer loop): 70.93%\n",
      "        Micro Precision (on outer loop): 51.87%\n",
      "Fitting 2 folds for each of 100 candidates, totalling 200 fits\n"
     ]
    },
    {
     "name": "stderr",
     "output_type": "stream",
     "text": [
      "[Parallel(n_jobs=-1)]: Using backend LokyBackend with 8 concurrent workers.\n",
      "[Parallel(n_jobs=-1)]: Done  34 tasks      | elapsed:   14.1s\n",
      "[Parallel(n_jobs=-1)]: Done 184 tasks      | elapsed:  1.6min\n",
      "[Parallel(n_jobs=-1)]: Done 200 out of 200 | elapsed:  1.8min finished\n"
     ]
    },
    {
     "name": "stdout",
     "output_type": "stream",
     "text": [
      "\n",
      "        Best Micro F1 score (inner test folds): 60.97%\n",
      "        Best parameters: {'n_estimators': 1000, 'min_samples_split': 3, 'min_samples_leaf': 3, 'max_features': 'log2', 'max_depth': 70, 'class_weight': [{0: 0.32, 1: 0.68}, {0: 0.34, 1: 0.66}, {0: 0.3, 1: 0.7}, {0: 0.33, 1: 0.67}, {0: 0.3, 1: 0.7}, {0: 0.3, 1: 0.7}, {0: 0.3, 1: 0.7}, {0: 0.3, 1: 0.7}]}\n",
      "        Micro F1 (on outer loop): 57.91%\n",
      "        Micro Recall (on outer loop): 69.01%\n",
      "        Micro Precision (on outer loop): 49.88%\n",
      "Fitting 2 folds for each of 100 candidates, totalling 200 fits\n"
     ]
    },
    {
     "name": "stderr",
     "output_type": "stream",
     "text": [
      "[Parallel(n_jobs=-1)]: Using backend LokyBackend with 8 concurrent workers.\n",
      "[Parallel(n_jobs=-1)]: Done  34 tasks      | elapsed:   17.7s\n",
      "[Parallel(n_jobs=-1)]: Done 184 tasks      | elapsed:  1.7min\n",
      "[Parallel(n_jobs=-1)]: Done 200 out of 200 | elapsed:  1.8min finished\n"
     ]
    },
    {
     "name": "stdout",
     "output_type": "stream",
     "text": [
      "\n",
      "        Best Micro F1 score (inner test folds): 59.65%\n",
      "        Best parameters: {'n_estimators': 200, 'min_samples_split': 4, 'min_samples_leaf': 4, 'max_features': 'auto', 'max_depth': 15, 'class_weight': [{0: 0.32, 1: 0.68}, {0: 0.34, 1: 0.66}, {0: 0.4, 1: 0.6}, {0: 0.33, 1: 0.67}, {0: 0.4, 1: 0.6}, {0: 0.4, 1: 0.6}, {0: 0.4, 1: 0.6}, {0: 0.4, 1: 0.6}]}\n",
      "        Micro F1 (on outer loop): 63.03%\n",
      "        Micro Recall (on outer loop): 73.53%\n",
      "        Micro Precision (on outer loop): 55.15%\n",
      "Fitting 2 folds for each of 100 candidates, totalling 200 fits\n"
     ]
    },
    {
     "name": "stderr",
     "output_type": "stream",
     "text": [
      "[Parallel(n_jobs=-1)]: Using backend LokyBackend with 8 concurrent workers.\n",
      "[Parallel(n_jobs=-1)]: Done  34 tasks      | elapsed:   19.6s\n",
      "[Parallel(n_jobs=-1)]: Done 184 tasks      | elapsed:  1.7min\n",
      "[Parallel(n_jobs=-1)]: Done 200 out of 200 | elapsed:  2.0min finished\n"
     ]
    },
    {
     "name": "stdout",
     "output_type": "stream",
     "text": [
      "\n",
      "        Best Micro F1 score (inner test folds): 60.68%\n",
      "        Best parameters: {'n_estimators': 400, 'min_samples_split': 10, 'min_samples_leaf': 4, 'max_features': 'log2', 'max_depth': 50, 'class_weight': [{0: 0.32, 1: 0.68}, {0: 0.34, 1: 0.66}, {0: 0.4, 1: 0.6}, {0: 0.33, 1: 0.67}, {0: 0.4, 1: 0.6}, {0: 0.4, 1: 0.6}, {0: 0.4, 1: 0.6}, {0: 0.4, 1: 0.6}]}\n",
      "        Micro F1 (on outer loop): 60.18%\n",
      "        Micro Recall (on outer loop): 73.89%\n",
      "        Micro Precision (on outer loop): 50.77%\n",
      "Fitting 2 folds for each of 100 candidates, totalling 200 fits\n"
     ]
    },
    {
     "name": "stderr",
     "output_type": "stream",
     "text": [
      "[Parallel(n_jobs=-1)]: Using backend LokyBackend with 8 concurrent workers.\n",
      "[Parallel(n_jobs=-1)]: Done  34 tasks      | elapsed:   16.2s\n",
      "[Parallel(n_jobs=-1)]: Done 184 tasks      | elapsed:  1.8min\n",
      "[Parallel(n_jobs=-1)]: Done 200 out of 200 | elapsed:  1.9min finished\n"
     ]
    },
    {
     "name": "stdout",
     "output_type": "stream",
     "text": [
      "\n",
      "        Best Micro F1 score (inner test folds): 59.74%\n",
      "        Best parameters: {'n_estimators': 100, 'min_samples_split': 3, 'min_samples_leaf': 2, 'max_features': 'auto', 'max_depth': 10, 'class_weight': [{0: 0.32, 1: 0.68}, {0: 0.34, 1: 0.66}, {0: 0.01, 1: 0.99}, {0: 0.33, 1: 0.67}, {0: 0.01, 1: 0.99}, {0: 0.01, 1: 0.99}, {0: 0.01, 1: 0.99}, {0: 0.01, 1: 0.99}]}\n",
      "        Micro F1 (on outer loop): 57.18%\n",
      "        Micro Recall (on outer loop): 80.32%\n",
      "        Micro Precision (on outer loop): 44.39%\n",
      "\n",
      "    Average over all folds:\n",
      "        Micro F1 59.64% +/- 2.04\n",
      "        Micro Recall 73.53% +/- 3.83\n",
      "        Micro Precision 50.41% +/- 3.50\n",
      "        Hamming 13.55% +/- 1.63\n",
      "        Accuracy 53.12% +/- 5.35\n",
      "        Macro F1 23.43% +/- 0.85\n"
     ]
    }
   ],
   "source": [
    "# perform random gridsearch\n",
    "RF_tuned.perform_nested_CV(grid, inner_splits=2, iterations = 100, random=True)"
   ]
  },
  {
   "cell_type": "markdown",
   "metadata": {},
   "source": [
    "## 3.2 Topics with best LDA model: Random Forest with TF-IDF"
   ]
  },
  {
   "cell_type": "code",
   "execution_count": 33,
   "metadata": {
    "scrolled": true
   },
   "outputs": [
    {
     "name": "stdout",
     "output_type": "stream",
     "text": [
      "\n",
      "Topic #1:\n",
      "nvt; ijsblokjes; gebrom; voorkant; bed; locatie; kamer; geur; hygiëne; ontbijt; ok\n",
      "\n",
      "Topic #2:\n",
      "sas; fantastisch; nvt; kamer; geur; hygiëne; ontbijt; ok; locatie; relaxen; niks\n",
      "\n",
      "Topic #3:\n",
      "uitklapbed; gehorigheid; hetgeen; loffiemachine; snachts; bieden; instructie; kind; type; papier; wifi\n",
      "\n",
      "Topic #4:\n",
      "kamer; ontbijt; goed; personeel; bed; locatie; hotel; vriendelijk; zeer; prima; heel\n",
      "\n",
      "Topic #5:\n",
      "salou; kos; lloret; bestemming; zelfde; feest; zoals; kwaliteit; bed; nvt; kamer\n",
      "\n",
      "Topic #6:\n",
      "kindvriendelijk; eu; kwalliteit; aanbeveel; hekemasl; hellemal; oneerlijk; tebinnen; kuisvrouw; oplader; slecht\n",
      "\n",
      "Topic #7:\n",
      "hygiëne; moelijk; tomtom; tekomen; self; dsn; pari; trap; moeite; waard; gifgro\n",
      "\n",
      "Topic #8:\n",
      "strijkplank; hardbed; gehorigheid; ontbyt; autos; hinder; ij; zakdoek; doos; lawaai; voet\n",
      "\n",
      "Topic #9:\n",
      "schreeuwen; show; dreigen; no; on; beginnen; klantvriendelijk; oplossing; zoeken; geven; gewoon\n",
      "\n",
      "Topic #10:\n",
      "vooraleer; duren; binnen; bedmaar; personeelvooral; receptionistewas; vuilzak; gedeeltelijk; nietkoelka; kondenconcierge; makenbij\n",
      "\n",
      "Topic #11:\n",
      "bizar; kwaliteitsverhouding; city; nisje; klets; borrelen; openhaard; lezen; prijs; bank; lobby\n",
      "\n",
      "Topic #12:\n",
      "et; schrijven; huis; kwart; luid; muziek; zev; tvkanal; technieker; eten; ni\n",
      "\n",
      "Topic #13:\n",
      "afvo; stinken; gozo; kamersnetheidvriendelijkheid; slaapgedeelte; afscheiden; inclusief; kaart; beperken; toilet; bar\n",
      "\n",
      "Topic #14:\n",
      "novotel; stijven; nietmeer; very; barman; nice; blijven; minder; ok; hotel; nvt\n",
      "\n",
      "Topic #15:\n",
      "tiptop; garanderen; accommondatie; totaalbedrag; blokkeren; mastercard; afhal; gelijk; mail; bedrag; boeking\n",
      "\n",
      "Topic #16:\n",
      "viesbloed; beddengoed; aankomst; geluids; oor; reziger; uitstekendv; isolatie; trein; temperatuur; lokatie\n",
      "\n",
      "Topic #17:\n",
      "perfekt; beteral; nadia; adequaat; handelen; klantvriendelijk; weinig; naam; klacht; zeer; ontbijt\n",
      "\n",
      "Topic #18:\n",
      "gastvriendelijkheid; nice; goed; nvt; kamer; geur; hygiëne; ontbijt; ok; locatie; relaxen\n",
      "\n",
      "Topic #19:\n",
      "oké; routebeschrijving; gedowngraded; cel; claustrofobisch; kamer; ligging; nvt; geur; hygiëne; ontbijt\n",
      "\n",
      "Topic #20:\n",
      "location; onbeveiligd; wifi; halte; watertaxi; direkt; waterbus; spido; grijpen; sfeergoededag; niksprijs\n",
      "\n",
      "Topic #21:\n",
      "relaxen; poets; verdiep; verdiepen; st; verschil; duidelijk; tussen; goed; ontbijt; kamer\n",
      "\n",
      "Topic #22:\n",
      "transport; starbuck; priveparking; luchthaven; lawaai; nvt; kamer; geur; hygiëne; ontbijt; ok\n",
      "\n",
      "Topic #23:\n",
      "milieuvriendelijkheid; uitmunten; ziekenhuis; verblijf; inmiddels; liggen; nvt; kamer; geur; hygiëne; ontbijt\n",
      "\n",
      "Topic #24:\n",
      "themas; benodigden; gedruppel; verschillend; luxe; leuk; flexibel; transparantie; afleven; raam; antwoorden\n",
      "\n",
      "Topic #25:\n",
      "defect; lift; dec; repareren; steil; week; trap; daardoor; redelijk; verdieping; lopen\n",
      "\n",
      "Topic #26:\n",
      "properheid; bereikbaarheid; toilet; locatie; ontbijt; nvt; kamer; geur; hygiëne; ok; relaxen\n",
      "\n",
      "Topic #27:\n",
      "menukaart; uitgebreid; mogen; nvt; kamer; geur; hygiëne; ontbijt; ok; locatie; relaxen\n",
      "\n",
      "Topic #28:\n",
      "balietoch; deskundig; ontbijtlocatie; allemaal; personeel; kamer; nvt; geur; hygiëne; ontbijt; ok\n",
      "\n",
      "Topic #29:\n",
      "verkeerd; overnachting; boeking; nvt; kamer; geur; hygiëne; ontbijt; ok; locatie; relaxen\n",
      "\n",
      "Topic #30:\n",
      "geur; slaapcomfor; luxe; ziekte; wijzigen; aangezien; beoordeling; boeking; slecht; kamer; nvt\n"
     ]
    }
   ],
   "source": [
    "# show terms per topic\n",
    "words = cv.get_feature_names()\n",
    "for topic_idx, topic in enumerate(lda_obj.components_):\n",
    "    print(f\"\\nTopic #{topic_idx+1}:\")\n",
    "    print(\"; \".join([words[i]\n",
    "                    for i in topic.argsort()[:-10 - 2:-1]]))"
   ]
  },
  {
   "cell_type": "code",
   "execution_count": 34,
   "metadata": {
    "scrolled": true
   },
   "outputs": [
    {
     "data": {
      "text/html": [
       "<div>\n",
       "<style scoped>\n",
       "    .dataframe tbody tr th:only-of-type {\n",
       "        vertical-align: middle;\n",
       "    }\n",
       "\n",
       "    .dataframe tbody tr th {\n",
       "        vertical-align: top;\n",
       "    }\n",
       "\n",
       "    .dataframe thead th {\n",
       "        text-align: right;\n",
       "    }\n",
       "</style>\n",
       "<table border=\"1\" class=\"dataframe\">\n",
       "  <thead>\n",
       "    <tr style=\"text-align: right;\">\n",
       "      <th></th>\n",
       "      <th>topic_1</th>\n",
       "      <th>topic_2</th>\n",
       "      <th>topic_3</th>\n",
       "      <th>topic_4</th>\n",
       "      <th>topic_5</th>\n",
       "      <th>topic_6</th>\n",
       "      <th>topic_7</th>\n",
       "      <th>topic_8</th>\n",
       "      <th>topic_9</th>\n",
       "      <th>topic_10</th>\n",
       "      <th>...</th>\n",
       "      <th>topic_21</th>\n",
       "      <th>topic_22</th>\n",
       "      <th>topic_23</th>\n",
       "      <th>topic_24</th>\n",
       "      <th>topic_25</th>\n",
       "      <th>topic_26</th>\n",
       "      <th>topic_27</th>\n",
       "      <th>topic_28</th>\n",
       "      <th>topic_29</th>\n",
       "      <th>topic_30</th>\n",
       "    </tr>\n",
       "  </thead>\n",
       "  <tbody>\n",
       "    <tr>\n",
       "      <th>0</th>\n",
       "      <td>0.017705</td>\n",
       "      <td>0.017705</td>\n",
       "      <td>0.017705</td>\n",
       "      <td>0.486550</td>\n",
       "      <td>0.017705</td>\n",
       "      <td>0.017705</td>\n",
       "      <td>0.017705</td>\n",
       "      <td>0.017705</td>\n",
       "      <td>0.017705</td>\n",
       "      <td>0.017705</td>\n",
       "      <td>...</td>\n",
       "      <td>0.017705</td>\n",
       "      <td>0.017705</td>\n",
       "      <td>0.017705</td>\n",
       "      <td>0.017705</td>\n",
       "      <td>0.017705</td>\n",
       "      <td>0.017705</td>\n",
       "      <td>0.017705</td>\n",
       "      <td>0.017705</td>\n",
       "      <td>0.017705</td>\n",
       "      <td>0.017705</td>\n",
       "    </tr>\n",
       "    <tr>\n",
       "      <th>1</th>\n",
       "      <td>0.020236</td>\n",
       "      <td>0.020236</td>\n",
       "      <td>0.020236</td>\n",
       "      <td>0.413155</td>\n",
       "      <td>0.020236</td>\n",
       "      <td>0.020236</td>\n",
       "      <td>0.020236</td>\n",
       "      <td>0.020236</td>\n",
       "      <td>0.020236</td>\n",
       "      <td>0.020236</td>\n",
       "      <td>...</td>\n",
       "      <td>0.020236</td>\n",
       "      <td>0.020236</td>\n",
       "      <td>0.020236</td>\n",
       "      <td>0.020236</td>\n",
       "      <td>0.020236</td>\n",
       "      <td>0.020236</td>\n",
       "      <td>0.020236</td>\n",
       "      <td>0.020236</td>\n",
       "      <td>0.020236</td>\n",
       "      <td>0.020236</td>\n",
       "    </tr>\n",
       "    <tr>\n",
       "      <th>2</th>\n",
       "      <td>0.020578</td>\n",
       "      <td>0.020578</td>\n",
       "      <td>0.020578</td>\n",
       "      <td>0.403247</td>\n",
       "      <td>0.020578</td>\n",
       "      <td>0.020578</td>\n",
       "      <td>0.020580</td>\n",
       "      <td>0.020578</td>\n",
       "      <td>0.020578</td>\n",
       "      <td>0.020578</td>\n",
       "      <td>...</td>\n",
       "      <td>0.020578</td>\n",
       "      <td>0.020578</td>\n",
       "      <td>0.020578</td>\n",
       "      <td>0.020578</td>\n",
       "      <td>0.020578</td>\n",
       "      <td>0.020578</td>\n",
       "      <td>0.020578</td>\n",
       "      <td>0.020578</td>\n",
       "      <td>0.020578</td>\n",
       "      <td>0.020578</td>\n",
       "    </tr>\n",
       "    <tr>\n",
       "      <th>3</th>\n",
       "      <td>0.016447</td>\n",
       "      <td>0.016447</td>\n",
       "      <td>0.016447</td>\n",
       "      <td>0.523050</td>\n",
       "      <td>0.016447</td>\n",
       "      <td>0.016447</td>\n",
       "      <td>0.016447</td>\n",
       "      <td>0.016447</td>\n",
       "      <td>0.016447</td>\n",
       "      <td>0.016447</td>\n",
       "      <td>...</td>\n",
       "      <td>0.016447</td>\n",
       "      <td>0.016447</td>\n",
       "      <td>0.016447</td>\n",
       "      <td>0.016447</td>\n",
       "      <td>0.016447</td>\n",
       "      <td>0.016447</td>\n",
       "      <td>0.016447</td>\n",
       "      <td>0.016447</td>\n",
       "      <td>0.016447</td>\n",
       "      <td>0.016447</td>\n",
       "    </tr>\n",
       "    <tr>\n",
       "      <th>4</th>\n",
       "      <td>0.014696</td>\n",
       "      <td>0.014696</td>\n",
       "      <td>0.014696</td>\n",
       "      <td>0.573819</td>\n",
       "      <td>0.014696</td>\n",
       "      <td>0.014696</td>\n",
       "      <td>0.014696</td>\n",
       "      <td>0.014696</td>\n",
       "      <td>0.014696</td>\n",
       "      <td>0.014696</td>\n",
       "      <td>...</td>\n",
       "      <td>0.014696</td>\n",
       "      <td>0.014696</td>\n",
       "      <td>0.014696</td>\n",
       "      <td>0.014696</td>\n",
       "      <td>0.014696</td>\n",
       "      <td>0.014696</td>\n",
       "      <td>0.014696</td>\n",
       "      <td>0.014696</td>\n",
       "      <td>0.014696</td>\n",
       "      <td>0.014696</td>\n",
       "    </tr>\n",
       "    <tr>\n",
       "      <th>...</th>\n",
       "      <td>...</td>\n",
       "      <td>...</td>\n",
       "      <td>...</td>\n",
       "      <td>...</td>\n",
       "      <td>...</td>\n",
       "      <td>...</td>\n",
       "      <td>...</td>\n",
       "      <td>...</td>\n",
       "      <td>...</td>\n",
       "      <td>...</td>\n",
       "      <td>...</td>\n",
       "      <td>...</td>\n",
       "      <td>...</td>\n",
       "      <td>...</td>\n",
       "      <td>...</td>\n",
       "      <td>...</td>\n",
       "      <td>...</td>\n",
       "      <td>...</td>\n",
       "      <td>...</td>\n",
       "      <td>...</td>\n",
       "      <td>...</td>\n",
       "    </tr>\n",
       "    <tr>\n",
       "      <th>1435</th>\n",
       "      <td>0.015903</td>\n",
       "      <td>0.015903</td>\n",
       "      <td>0.015903</td>\n",
       "      <td>0.538809</td>\n",
       "      <td>0.015903</td>\n",
       "      <td>0.015903</td>\n",
       "      <td>0.015903</td>\n",
       "      <td>0.015903</td>\n",
       "      <td>0.015903</td>\n",
       "      <td>0.015903</td>\n",
       "      <td>...</td>\n",
       "      <td>0.015903</td>\n",
       "      <td>0.015903</td>\n",
       "      <td>0.015903</td>\n",
       "      <td>0.015903</td>\n",
       "      <td>0.015903</td>\n",
       "      <td>0.015903</td>\n",
       "      <td>0.015903</td>\n",
       "      <td>0.015903</td>\n",
       "      <td>0.015903</td>\n",
       "      <td>0.015903</td>\n",
       "    </tr>\n",
       "    <tr>\n",
       "      <th>1436</th>\n",
       "      <td>0.011950</td>\n",
       "      <td>0.011950</td>\n",
       "      <td>0.011950</td>\n",
       "      <td>0.653450</td>\n",
       "      <td>0.011950</td>\n",
       "      <td>0.011950</td>\n",
       "      <td>0.011950</td>\n",
       "      <td>0.011950</td>\n",
       "      <td>0.011950</td>\n",
       "      <td>0.011950</td>\n",
       "      <td>...</td>\n",
       "      <td>0.011950</td>\n",
       "      <td>0.011950</td>\n",
       "      <td>0.011950</td>\n",
       "      <td>0.011950</td>\n",
       "      <td>0.011950</td>\n",
       "      <td>0.011950</td>\n",
       "      <td>0.011950</td>\n",
       "      <td>0.011950</td>\n",
       "      <td>0.011950</td>\n",
       "      <td>0.011950</td>\n",
       "    </tr>\n",
       "    <tr>\n",
       "      <th>1437</th>\n",
       "      <td>0.014729</td>\n",
       "      <td>0.014729</td>\n",
       "      <td>0.014729</td>\n",
       "      <td>0.572866</td>\n",
       "      <td>0.014729</td>\n",
       "      <td>0.014729</td>\n",
       "      <td>0.014729</td>\n",
       "      <td>0.014729</td>\n",
       "      <td>0.014729</td>\n",
       "      <td>0.014729</td>\n",
       "      <td>...</td>\n",
       "      <td>0.014729</td>\n",
       "      <td>0.014729</td>\n",
       "      <td>0.014729</td>\n",
       "      <td>0.014729</td>\n",
       "      <td>0.014729</td>\n",
       "      <td>0.014729</td>\n",
       "      <td>0.014729</td>\n",
       "      <td>0.014729</td>\n",
       "      <td>0.014729</td>\n",
       "      <td>0.014729</td>\n",
       "    </tr>\n",
       "    <tr>\n",
       "      <th>1438</th>\n",
       "      <td>0.017164</td>\n",
       "      <td>0.017164</td>\n",
       "      <td>0.017164</td>\n",
       "      <td>0.502238</td>\n",
       "      <td>0.017164</td>\n",
       "      <td>0.017164</td>\n",
       "      <td>0.017164</td>\n",
       "      <td>0.017164</td>\n",
       "      <td>0.017164</td>\n",
       "      <td>0.017164</td>\n",
       "      <td>...</td>\n",
       "      <td>0.017164</td>\n",
       "      <td>0.017164</td>\n",
       "      <td>0.017164</td>\n",
       "      <td>0.017164</td>\n",
       "      <td>0.017164</td>\n",
       "      <td>0.017164</td>\n",
       "      <td>0.017164</td>\n",
       "      <td>0.017164</td>\n",
       "      <td>0.017164</td>\n",
       "      <td>0.017164</td>\n",
       "    </tr>\n",
       "    <tr>\n",
       "      <th>1439</th>\n",
       "      <td>0.010515</td>\n",
       "      <td>0.010515</td>\n",
       "      <td>0.010515</td>\n",
       "      <td>0.695068</td>\n",
       "      <td>0.010515</td>\n",
       "      <td>0.010515</td>\n",
       "      <td>0.010515</td>\n",
       "      <td>0.010515</td>\n",
       "      <td>0.010515</td>\n",
       "      <td>0.010515</td>\n",
       "      <td>...</td>\n",
       "      <td>0.010515</td>\n",
       "      <td>0.010515</td>\n",
       "      <td>0.010515</td>\n",
       "      <td>0.010515</td>\n",
       "      <td>0.010515</td>\n",
       "      <td>0.010515</td>\n",
       "      <td>0.010515</td>\n",
       "      <td>0.010515</td>\n",
       "      <td>0.010515</td>\n",
       "      <td>0.010515</td>\n",
       "    </tr>\n",
       "  </tbody>\n",
       "</table>\n",
       "<p>1440 rows × 30 columns</p>\n",
       "</div>"
      ],
      "text/plain": [
       "       topic_1   topic_2   topic_3   topic_4   topic_5   topic_6   topic_7  \\\n",
       "0     0.017705  0.017705  0.017705  0.486550  0.017705  0.017705  0.017705   \n",
       "1     0.020236  0.020236  0.020236  0.413155  0.020236  0.020236  0.020236   \n",
       "2     0.020578  0.020578  0.020578  0.403247  0.020578  0.020578  0.020580   \n",
       "3     0.016447  0.016447  0.016447  0.523050  0.016447  0.016447  0.016447   \n",
       "4     0.014696  0.014696  0.014696  0.573819  0.014696  0.014696  0.014696   \n",
       "...        ...       ...       ...       ...       ...       ...       ...   \n",
       "1435  0.015903  0.015903  0.015903  0.538809  0.015903  0.015903  0.015903   \n",
       "1436  0.011950  0.011950  0.011950  0.653450  0.011950  0.011950  0.011950   \n",
       "1437  0.014729  0.014729  0.014729  0.572866  0.014729  0.014729  0.014729   \n",
       "1438  0.017164  0.017164  0.017164  0.502238  0.017164  0.017164  0.017164   \n",
       "1439  0.010515  0.010515  0.010515  0.695068  0.010515  0.010515  0.010515   \n",
       "\n",
       "       topic_8   topic_9  topic_10  ...  topic_21  topic_22  topic_23  \\\n",
       "0     0.017705  0.017705  0.017705  ...  0.017705  0.017705  0.017705   \n",
       "1     0.020236  0.020236  0.020236  ...  0.020236  0.020236  0.020236   \n",
       "2     0.020578  0.020578  0.020578  ...  0.020578  0.020578  0.020578   \n",
       "3     0.016447  0.016447  0.016447  ...  0.016447  0.016447  0.016447   \n",
       "4     0.014696  0.014696  0.014696  ...  0.014696  0.014696  0.014696   \n",
       "...        ...       ...       ...  ...       ...       ...       ...   \n",
       "1435  0.015903  0.015903  0.015903  ...  0.015903  0.015903  0.015903   \n",
       "1436  0.011950  0.011950  0.011950  ...  0.011950  0.011950  0.011950   \n",
       "1437  0.014729  0.014729  0.014729  ...  0.014729  0.014729  0.014729   \n",
       "1438  0.017164  0.017164  0.017164  ...  0.017164  0.017164  0.017164   \n",
       "1439  0.010515  0.010515  0.010515  ...  0.010515  0.010515  0.010515   \n",
       "\n",
       "      topic_24  topic_25  topic_26  topic_27  topic_28  topic_29  topic_30  \n",
       "0     0.017705  0.017705  0.017705  0.017705  0.017705  0.017705  0.017705  \n",
       "1     0.020236  0.020236  0.020236  0.020236  0.020236  0.020236  0.020236  \n",
       "2     0.020578  0.020578  0.020578  0.020578  0.020578  0.020578  0.020578  \n",
       "3     0.016447  0.016447  0.016447  0.016447  0.016447  0.016447  0.016447  \n",
       "4     0.014696  0.014696  0.014696  0.014696  0.014696  0.014696  0.014696  \n",
       "...        ...       ...       ...       ...       ...       ...       ...  \n",
       "1435  0.015903  0.015903  0.015903  0.015903  0.015903  0.015903  0.015903  \n",
       "1436  0.011950  0.011950  0.011950  0.011950  0.011950  0.011950  0.011950  \n",
       "1437  0.014729  0.014729  0.014729  0.014729  0.014729  0.014729  0.014729  \n",
       "1438  0.017164  0.017164  0.017164  0.017164  0.017164  0.017164  0.017164  \n",
       "1439  0.010515  0.010515  0.010515  0.010515  0.010515  0.010515  0.010515  \n",
       "\n",
       "[1440 rows x 30 columns]"
      ]
     },
     "execution_count": 34,
     "metadata": {},
     "output_type": "execute_result"
    }
   ],
   "source": [
    "# document-topic matrix\n",
    "doc_top_df = pd.DataFrame(lda_data,\n",
    "                          columns = [f'topic_{r+1}' for r in range(30)])\n",
    "doc_top_df"
   ]
  },
  {
   "cell_type": "code",
   "execution_count": 37,
   "metadata": {
    "scrolled": true
   },
   "outputs": [
    {
     "name": "stdout",
     "output_type": "stream",
     "text": [
      "-------------------------------------------------- \n",
      "\n",
      "Algorithm: random forest\n",
      "    Folds:\n"
     ]
    },
    {
     "name": "stderr",
     "output_type": "stream",
     "text": [
      "C:\\Users\\DB Accountancy\\anaconda3\\lib\\site-packages\\sklearn\\utils\\validation.py:67: FutureWarning: Pass shuffle=True, random_state=0 as keyword args. From version 0.25 passing these as positional arguments will result in an error\n",
      "  warnings.warn(\"Pass {} as keyword args. From version 0.25 \"\n"
     ]
    },
    {
     "name": "stdout",
     "output_type": "stream",
     "text": [
      "\n",
      "     Fold: 1\n",
      "          importance\n",
      "topic_4     0.061722\n",
      "topic_13    0.035024\n",
      "topic_16    0.034046\n",
      "topic_24    0.033699\n",
      "topic_15    0.033695\n",
      "topic_14    0.033547\n",
      "topic_19    0.033421\n",
      "topic_3     0.033286\n",
      "\n",
      "     Fold: 2\n",
      "          importance\n",
      "topic_4     0.062214\n",
      "topic_17    0.035986\n",
      "topic_12    0.034261\n",
      "topic_20    0.033733\n",
      "topic_23    0.033466\n",
      "topic_24    0.033226\n",
      "topic_1     0.033099\n",
      "topic_8     0.032965\n",
      "\n",
      "     Fold: 3\n",
      "          importance\n",
      "topic_4     0.063767\n",
      "topic_13    0.035150\n",
      "topic_20    0.034538\n",
      "topic_17    0.034389\n",
      "topic_12    0.034299\n",
      "topic_3     0.033862\n",
      "topic_5     0.033846\n",
      "topic_11    0.033498\n",
      "\n",
      "     Fold: 4\n",
      "          importance\n",
      "topic_4     0.068378\n",
      "topic_11    0.034200\n",
      "topic_19    0.033698\n",
      "topic_13    0.033550\n",
      "topic_30    0.033531\n",
      "topic_20    0.033290\n",
      "topic_17    0.033260\n",
      "topic_1     0.033010\n",
      "\n",
      "     Fold: 5\n",
      "          importance\n",
      "topic_4     0.065949\n",
      "topic_17    0.035219\n",
      "topic_14    0.034228\n",
      "topic_11    0.033289\n",
      "topic_22    0.033039\n",
      "topic_19    0.032944\n",
      "topic_23    0.032926\n",
      "topic_30    0.032733\n"
     ]
    }
   ],
   "source": [
    "# find important topics\n",
    "rf = RandomForestClassifier(n_estimators = 800,\n",
    "                           max_depth = 50,\n",
    "                           min_samples_leaf = 4,\n",
    "                           min_samples_split = 3,\n",
    "                           max_features = 'log2',\n",
    "                           class_weight = [{0:0.32, 1:0.68}, {0:0.34, 1:0.66}, \n",
    "                                           {0:0.4, 1:0.6}, {0:0.33, 1:0.67}, \n",
    "                                           {0:0.4, 1:0.6}, {0:0.4, 1:0.6}, \n",
    "                                           {0:0.4, 1:0.6}, {0:0.4, 1:0.6}]) \n",
    "important_predictors(rf, doc_top_df, Y)"
   ]
  },
  {
   "cell_type": "code",
   "execution_count": 39,
   "metadata": {
    "scrolled": true
   },
   "outputs": [],
   "source": [
    "# important topics identified\n",
    "topics_small = doc_top_df.loc[:,['topic_4','topic_13','topic_17']]"
   ]
  },
  {
   "cell_type": "code",
   "execution_count": 40,
   "metadata": {},
   "outputs": [],
   "source": [
    "# DEFAULT PERFORMANCE\n",
    "RF = Model_eval(topics_small, Y, \n",
    "                RandomForestClassifier(random_state=0, n_estimators=800, n_jobs=-1),\n",
    "                'Random forest', \n",
    "               metrics)"
   ]
  },
  {
   "cell_type": "code",
   "execution_count": 41,
   "metadata": {
    "scrolled": true
   },
   "outputs": [
    {
     "name": "stdout",
     "output_type": "stream",
     "text": [
      "-------------------------------------------------- \n",
      "\n",
      "Algorithm: Random forest\n",
      "    Folds:\n"
     ]
    },
    {
     "name": "stderr",
     "output_type": "stream",
     "text": [
      "C:\\Users\\DB Accountancy\\anaconda3\\lib\\site-packages\\sklearn\\utils\\validation.py:67: FutureWarning: Pass shuffle=True, random_state=0 as keyword args. From version 0.25 passing these as positional arguments will result in an error\n",
      "  warnings.warn(\"Pass {} as keyword args. From version 0.25 \"\n"
     ]
    },
    {
     "name": "stdout",
     "output_type": "stream",
     "text": [
      "\n",
      "     Fold: 1\n",
      "        Micro F1: 36.08%\n",
      "        Micro Recall: 32.91%\n",
      "        Micro Precision: 39.92%\n",
      "\n",
      "     Fold: 2\n",
      "        Micro F1: 40.57%\n",
      "        Micro Recall: 40.89%\n",
      "        Micro Precision: 40.25%\n",
      "\n",
      "     Fold: 3\n",
      "        Micro F1: 36.62%\n",
      "        Micro Recall: 38.24%\n",
      "        Micro Precision: 35.14%\n",
      "\n",
      "     Fold: 4\n",
      "        Micro F1: 34.20%\n",
      "        Micro Recall: 33.44%\n",
      "        Micro Precision: 35.00%\n",
      "\n",
      "     Fold: 5\n",
      "        Micro F1: 37.43%\n",
      "        Micro Recall: 39.68%\n",
      "        Micro Precision: 35.41%\n",
      "\n",
      "    Average over all folds:\n",
      "        Micro F1 36.98% +/- 2.09\n",
      "        Micro Recall 37.03% +/- 3.27\n",
      "        Micro Precision 37.14% +/- 2.41\n",
      "        Hamming 17.07% +/- 0.87\n",
      "        Accuracy 50.76% +/- 1.66\n"
     ]
    }
   ],
   "source": [
    "RF.perform_CV()"
   ]
  },
  {
   "cell_type": "code",
   "execution_count": 42,
   "metadata": {},
   "outputs": [],
   "source": [
    "# TUNED PERFORMANCE\n",
    "# initialize model \n",
    "RF_tuned = Model_eval(topics_small, Y, \n",
    "                RandomForestClassifier(random_state=0), \n",
    "                'Random forest', \n",
    "               metrics)"
   ]
  },
  {
   "cell_type": "code",
   "execution_count": 43,
   "metadata": {},
   "outputs": [],
   "source": [
    "# make the parameter grid \n",
    "n_estimators = [100,200, 300, 400, 500, 800, 1000, 1500]\n",
    "max_depth = [2, 5, 10, 15, 20, 50, 70, 100] \n",
    "max_features = ['auto', 'log2']\n",
    "min_samples_split = [2, 3, 4, 5, 10, 15, 20]\n",
    "min_samples_leaf = [2, 3, 4 ,5, 10, 15, 20]\n",
    "weights = [[{0:0.32, 1:0.68}, {0:0.34, 1:0.66}, \n",
    "           {0:0.3, 1:0.7}, {0:0.33, 1:0.67}, \n",
    "           {0:0.3, 1:0.7}, {0:0.3, 1:0.7}, \n",
    "           {0:0.3, 1:0.7}, {0:0.3, 1:0.7}], \n",
    "           [{0:0.32, 1:0.68}, {0:0.34, 1:0.66}, \n",
    "           {0:0.4, 1:0.6}, {0:0.33, 1:0.67}, \n",
    "           {0:0.4, 1:0.6}, {0:0.4, 1:0.6}, \n",
    "           {0:0.4, 1:0.6}, {0:0.4, 1:0.6}],\n",
    "           [{0:0.32, 1:0.68}, {0:0.34, 1:0.66}, \n",
    "           {0:0.2, 1:0.8}, {0:0.33, 1:0.67}, \n",
    "           {0:0.2, 1:0.8}, {0:0.2, 1:0.8}, \n",
    "           {0:0.2, 1:0.8}, {0:0.2, 1:0.8}],\n",
    "           [{0:0.32, 1:0.68}, {0:0.34, 1:0.66}, \n",
    "           {0:0.1, 1:0.9}, {0:0.33, 1:0.67}, \n",
    "           {0:0.1, 1:0.9}, {0:0.1, 1:0.9}, \n",
    "           {0:0.1, 1:0.9}, {0:0.1, 1:0.9}],\n",
    "           [{0:0.32, 1:0.68}, {0:0.34, 1:0.66}, \n",
    "           {0:0.01, 1:0.99}, {0:0.33, 1:0.67}, \n",
    "           {0:0.01, 1:0.99}, {0:0.01, 1:0.99}, \n",
    "           {0:0.01, 1:0.99}, {0:0.01, 1:0.99}]]\n",
    "grid = {'n_estimators': n_estimators,\n",
    "        'max_features': max_features,\n",
    "        'max_depth': max_depth,\n",
    "        'min_samples_split': min_samples_split,\n",
    "        'min_samples_leaf': min_samples_leaf,\n",
    "        'class_weight': weights}\n"
   ]
  },
  {
   "cell_type": "code",
   "execution_count": 44,
   "metadata": {
    "scrolled": true
   },
   "outputs": [
    {
     "name": "stderr",
     "output_type": "stream",
     "text": [
      "C:\\Users\\DB Accountancy\\anaconda3\\lib\\site-packages\\sklearn\\utils\\validation.py:67: FutureWarning: Pass shuffle=True, random_state=0 as keyword args. From version 0.25 passing these as positional arguments will result in an error\n",
      "  warnings.warn(\"Pass {} as keyword args. From version 0.25 \"\n",
      "[Parallel(n_jobs=-1)]: Using backend LokyBackend with 8 concurrent workers.\n"
     ]
    },
    {
     "name": "stdout",
     "output_type": "stream",
     "text": [
      "-------------------------------------------------- \n",
      "\n",
      "Algorithm: Random forest\n",
      "    Inner loop:\n",
      "Fitting 2 folds for each of 100 candidates, totalling 200 fits\n"
     ]
    },
    {
     "name": "stderr",
     "output_type": "stream",
     "text": [
      "[Parallel(n_jobs=-1)]: Done  34 tasks      | elapsed:   15.6s\n",
      "[Parallel(n_jobs=-1)]: Done 184 tasks      | elapsed:  1.5min\n",
      "[Parallel(n_jobs=-1)]: Done 200 out of 200 | elapsed:  1.7min finished\n"
     ]
    },
    {
     "name": "stdout",
     "output_type": "stream",
     "text": [
      "\n",
      "        Best Micro F1 score (inner test folds): 51.38%\n",
      "        Best parameters: {'n_estimators': 100, 'min_samples_split': 10, 'min_samples_leaf': 3, 'max_features': 'log2', 'max_depth': 5, 'class_weight': [{0: 0.32, 1: 0.68}, {0: 0.34, 1: 0.66}, {0: 0.4, 1: 0.6}, {0: 0.33, 1: 0.67}, {0: 0.4, 1: 0.6}, {0: 0.4, 1: 0.6}, {0: 0.4, 1: 0.6}, {0: 0.4, 1: 0.6}]}\n",
      "        Micro F1 (on outer loop): 48.58%\n",
      "        Micro Recall (on outer loop): 81.79%\n",
      "        Micro Precision (on outer loop): 34.55%\n",
      "Fitting 2 folds for each of 100 candidates, totalling 200 fits\n"
     ]
    },
    {
     "name": "stderr",
     "output_type": "stream",
     "text": [
      "[Parallel(n_jobs=-1)]: Using backend LokyBackend with 8 concurrent workers.\n",
      "[Parallel(n_jobs=-1)]: Done  34 tasks      | elapsed:   19.0s\n",
      "[Parallel(n_jobs=-1)]: Done 184 tasks      | elapsed:  1.6min\n",
      "[Parallel(n_jobs=-1)]: Done 200 out of 200 | elapsed:  1.7min finished\n"
     ]
    },
    {
     "name": "stdout",
     "output_type": "stream",
     "text": [
      "\n",
      "        Best Micro F1 score (inner test folds): 50.68%\n",
      "        Best parameters: {'n_estimators': 1000, 'min_samples_split': 10, 'min_samples_leaf': 2, 'max_features': 'log2', 'max_depth': 5, 'class_weight': [{0: 0.32, 1: 0.68}, {0: 0.34, 1: 0.66}, {0: 0.4, 1: 0.6}, {0: 0.33, 1: 0.67}, {0: 0.4, 1: 0.6}, {0: 0.4, 1: 0.6}, {0: 0.4, 1: 0.6}, {0: 0.4, 1: 0.6}]}\n",
      "        Micro F1 (on outer loop): 52.26%\n",
      "        Micro Recall (on outer loop): 81.15%\n",
      "        Micro Precision (on outer loop): 38.54%\n",
      "Fitting 2 folds for each of 100 candidates, totalling 200 fits\n"
     ]
    },
    {
     "name": "stderr",
     "output_type": "stream",
     "text": [
      "[Parallel(n_jobs=-1)]: Using backend LokyBackend with 8 concurrent workers.\n",
      "[Parallel(n_jobs=-1)]: Done  34 tasks      | elapsed:   17.8s\n",
      "[Parallel(n_jobs=-1)]: Done 184 tasks      | elapsed:  1.6min\n",
      "[Parallel(n_jobs=-1)]: Done 200 out of 200 | elapsed:  1.7min finished\n"
     ]
    },
    {
     "name": "stdout",
     "output_type": "stream",
     "text": [
      "\n",
      "        Best Micro F1 score (inner test folds): 50.59%\n",
      "        Best parameters: {'n_estimators': 300, 'min_samples_split': 2, 'min_samples_leaf': 10, 'max_features': 'auto', 'max_depth': 5, 'class_weight': [{0: 0.32, 1: 0.68}, {0: 0.34, 1: 0.66}, {0: 0.4, 1: 0.6}, {0: 0.33, 1: 0.67}, {0: 0.4, 1: 0.6}, {0: 0.4, 1: 0.6}, {0: 0.4, 1: 0.6}, {0: 0.4, 1: 0.6}]}\n",
      "        Micro F1 (on outer loop): 48.72%\n",
      "        Micro Recall (on outer loop): 83.99%\n",
      "        Micro Precision (on outer loop): 34.31%\n",
      "Fitting 2 folds for each of 100 candidates, totalling 200 fits\n"
     ]
    },
    {
     "name": "stderr",
     "output_type": "stream",
     "text": [
      "[Parallel(n_jobs=-1)]: Using backend LokyBackend with 8 concurrent workers.\n",
      "[Parallel(n_jobs=-1)]: Done  34 tasks      | elapsed:   14.9s\n",
      "[Parallel(n_jobs=-1)]: Done 184 tasks      | elapsed:  1.4min\n",
      "[Parallel(n_jobs=-1)]: Done 200 out of 200 | elapsed:  1.6min finished\n"
     ]
    },
    {
     "name": "stdout",
     "output_type": "stream",
     "text": [
      "\n",
      "        Best Micro F1 score (inner test folds): 50.02%\n",
      "        Best parameters: {'n_estimators': 200, 'min_samples_split': 3, 'min_samples_leaf': 4, 'max_features': 'log2', 'max_depth': 5, 'class_weight': [{0: 0.32, 1: 0.68}, {0: 0.34, 1: 0.66}, {0: 0.3, 1: 0.7}, {0: 0.33, 1: 0.67}, {0: 0.3, 1: 0.7}, {0: 0.3, 1: 0.7}, {0: 0.3, 1: 0.7}, {0: 0.3, 1: 0.7}]}\n",
      "        Micro F1 (on outer loop): 50.09%\n",
      "        Micro Recall (on outer loop): 86.62%\n",
      "        Micro Precision (on outer loop): 35.23%\n",
      "Fitting 2 folds for each of 100 candidates, totalling 200 fits\n"
     ]
    },
    {
     "name": "stderr",
     "output_type": "stream",
     "text": [
      "[Parallel(n_jobs=-1)]: Using backend LokyBackend with 8 concurrent workers.\n",
      "[Parallel(n_jobs=-1)]: Done  34 tasks      | elapsed:   20.0s\n",
      "[Parallel(n_jobs=-1)]: Done 184 tasks      | elapsed:  1.6min\n",
      "[Parallel(n_jobs=-1)]: Done 200 out of 200 | elapsed:  1.8min finished\n"
     ]
    },
    {
     "name": "stdout",
     "output_type": "stream",
     "text": [
      "\n",
      "        Best Micro F1 score (inner test folds): 49.95%\n",
      "        Best parameters: {'n_estimators': 100, 'min_samples_split': 2, 'min_samples_leaf': 4, 'max_features': 'auto', 'max_depth': 5, 'class_weight': [{0: 0.32, 1: 0.68}, {0: 0.34, 1: 0.66}, {0: 0.3, 1: 0.7}, {0: 0.33, 1: 0.67}, {0: 0.3, 1: 0.7}, {0: 0.3, 1: 0.7}, {0: 0.3, 1: 0.7}, {0: 0.3, 1: 0.7}]}\n",
      "        Micro F1 (on outer loop): 49.95%\n",
      "        Micro Recall (on outer loop): 85.08%\n",
      "        Micro Precision (on outer loop): 35.36%\n",
      "\n",
      "    Average over all folds:\n",
      "        Micro F1 49.92% +/- 1.32\n",
      "        Micro Recall 83.73% +/- 2.03\n",
      "        Micro Precision 35.60% +/- 1.52\n",
      "        Hamming 22.80% +/- 1.33\n",
      "        Accuracy 29.79% +/- 4.34\n"
     ]
    }
   ],
   "source": [
    "# perform random gridsearch\n",
    "RF_tuned.perform_nested_CV(grid, inner_splits=2, iterations = 100, random=True)"
   ]
  },
  {
   "cell_type": "markdown",
   "metadata": {},
   "source": [
    "Much lower performance than with the LSA topic model. Could be expected since the tuned number of topics needed to obtain a good performance was much higher in the LDA model than the LSA model. "
   ]
  }
 ],
 "metadata": {
  "celltoolbar": "Geen",
  "kernelspec": {
   "display_name": "Python 3",
   "language": "python",
   "name": "python3"
  },
  "language_info": {
   "codemirror_mode": {
    "name": "ipython",
    "version": 3
   },
   "file_extension": ".py",
   "mimetype": "text/x-python",
   "name": "python",
   "nbconvert_exporter": "python",
   "pygments_lexer": "ipython3",
   "version": "3.8.5"
  },
  "toc": {
   "base_numbering": "0",
   "nav_menu": {},
   "number_sections": false,
   "sideBar": true,
   "skip_h1_title": false,
   "title_cell": "Table of Contents",
   "title_sidebar": "Contents",
   "toc_cell": true,
   "toc_position": {},
   "toc_section_display": true,
   "toc_window_display": false
  }
 },
 "nbformat": 4,
 "nbformat_minor": 4
}
